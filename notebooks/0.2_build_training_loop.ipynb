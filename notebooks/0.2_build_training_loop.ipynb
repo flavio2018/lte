{
 "cells": [
  {
   "cell_type": "code",
   "execution_count": 1,
   "id": "ca168f21",
   "metadata": {},
   "outputs": [],
   "source": [
    "import torch\n",
    "from data.data import generate_sample\n",
    "from model.dntm.DynamicNeuralTuringMachine import DynamicNeuralTuringMachine\n",
    "from model.dntm.DynamicNeuralTuringMachineMemory import DynamicNeuralTuringMachineMemory\n",
    "\n",
    "from utils.wandb_utils import log_params_norm, log_weights_gradient"
   ]
  },
  {
   "cell_type": "code",
   "execution_count": 2,
   "id": "bab8c78e",
   "metadata": {},
   "outputs": [],
   "source": [
    "import seaborn as sns"
   ]
  },
  {
   "cell_type": "code",
   "execution_count": 3,
   "id": "8aacdf16",
   "metadata": {},
   "outputs": [],
   "source": [
    "from IPython.core.debugger import set_trace"
   ]
  },
  {
   "cell_type": "markdown",
   "id": "eec55e23",
   "metadata": {},
   "source": [
    "## Data"
   ]
  },
  {
   "cell_type": "code",
   "execution_count": 4,
   "id": "d6409560",
   "metadata": {},
   "outputs": [],
   "source": [
    "vocab_chars = set('abcdefghijklmnopqrstuvwxyz0123456789()+*-=<>: ')\n",
    "vocab_size = len(vocab_chars) + 1\n",
    "target_vocab_chars = set('0123456789-')\n",
    "target_vocab_size = len(target_vocab_chars)\n",
    "\n",
    "token2pos = {t: p for p, t in enumerate(vocab_chars)}\n",
    "token2pos['\\n'] = len(token2pos)\n",
    "target_token2pos = {t: p for p, t in enumerate(target_vocab_chars)}"
   ]
  },
  {
   "cell_type": "code",
   "execution_count": 5,
   "id": "e6152f8e",
   "metadata": {},
   "outputs": [],
   "source": [
    "pos2token = {p: t for t, p in token2pos.items()}"
   ]
  },
  {
   "cell_type": "code",
   "execution_count": 6,
   "id": "92be84fa",
   "metadata": {},
   "outputs": [],
   "source": [
    "def make_1hot(char, token2pos, vocab_size):\n",
    "    onehot_vec = torch.zeros((1, vocab_size))\n",
    "    onehot_vec[0, token2pos[char]] = 1\n",
    "    return onehot_vec"
   ]
  },
  {
   "cell_type": "code",
   "execution_count": 7,
   "id": "b4331527",
   "metadata": {},
   "outputs": [],
   "source": [
    "def make_tensor(sample, token2pos, vocab_size):\n",
    "    sample_tensor = []\n",
    "    for c in sample:\n",
    "        sample_tensor.append(make_1hot(c, token2pos, vocab_size))\n",
    "    return torch.concat(sample_tensor).unsqueeze(dim=0)"
   ]
  },
  {
   "cell_type": "markdown",
   "id": "d96088d2",
   "metadata": {},
   "source": [
    "### Sample"
   ]
  },
  {
   "cell_type": "code",
   "execution_count": 8,
   "id": "0f07cef7",
   "metadata": {},
   "outputs": [
    {
     "name": "stdout",
     "output_type": "stream",
     "text": [
      "a=51\n",
      "for i in range(6): a-=6\n",
      "print(a)\n",
      "15\n",
      "15\n"
     ]
    }
   ],
   "source": [
    "x, y = generate_sample(length=2, nesting=1)\n",
    "print(x)\n",
    "print(y)\n",
    "exec(x)"
   ]
  },
  {
   "cell_type": "code",
   "execution_count": 9,
   "id": "dcbeb9a4",
   "metadata": {},
   "outputs": [],
   "source": [
    "x_t, y_t = make_tensor(x, token2pos, vocab_size), make_tensor(y, token2pos, vocab_size)"
   ]
  },
  {
   "cell_type": "code",
   "execution_count": 10,
   "id": "bd970c65",
   "metadata": {},
   "outputs": [],
   "source": [
    "assert x_t.size(1) == len(x)\n",
    "assert y_t.size(1) == len(y)"
   ]
  },
  {
   "cell_type": "markdown",
   "id": "4dca63e2",
   "metadata": {},
   "source": [
    "### Samples"
   ]
  },
  {
   "cell_type": "code",
   "execution_count": 11,
   "id": "c2168a97",
   "metadata": {},
   "outputs": [],
   "source": [
    "few_samples = [generate_sample(length=2, nesting=1) for i in range(100)]\n",
    "few_tensor_samples = [(make_tensor(x, token2pos, vocab_size), make_tensor(y, token2pos, vocab_size))\n",
    "                      for x, y in few_samples]"
   ]
  },
  {
   "cell_type": "code",
   "execution_count": 12,
   "id": "77bf6404",
   "metadata": {},
   "outputs": [],
   "source": [
    "def get_sample(few_tensor_samples):\n",
    "    return few_tensor_samples[torch.randint(len(few_tensor_samples), (1,)).item()]"
   ]
  },
  {
   "cell_type": "markdown",
   "id": "c906f09d",
   "metadata": {},
   "source": [
    "### Batch"
   ]
  },
  {
   "cell_type": "code",
   "execution_count": 13,
   "id": "36e1f227",
   "metadata": {},
   "outputs": [
    {
     "data": {
      "text/plain": [
       "[('j=0\\nprint(j)', '0'),\n",
       " ('t=7\\nprint(t)', '7'),\n",
       " ('j=5\\nprint(j)', '5'),\n",
       " ('c=7\\nprint(c)', '7'),\n",
       " ('m=79\\nprint(m)', '79'),\n",
       " ('x=12\\nprint(x)', '12'),\n",
       " ('g=43\\nprint(g)', '43'),\n",
       " ('w=36\\nprint(w)', '36'),\n",
       " ('m=34\\nprint(m)', '34'),\n",
       " ('print((55+0))', '55'),\n",
       " ('z=35\\nprint(z)', '35'),\n",
       " ('x=28\\nprint(x)', '28'),\n",
       " ('p=35\\nprint(p)', '35'),\n",
       " ('print((96-8))', '88'),\n",
       " ('a=22\\nprint(a)', '22'),\n",
       " ('z=80\\nprint(z)', '80'),\n",
       " ('m=25\\nprint(m)', '25'),\n",
       " ('print((0+80))', '80'),\n",
       " ('print((22*5))', '110'),\n",
       " ('print((4-80))', '-76'),\n",
       " ('print((9-27))', '-18'),\n",
       " ('print((27-22))', '5'),\n",
       " ('print((51+46))', '97'),\n",
       " ('print((99-29))', '70'),\n",
       " ('print((12+39))', '51'),\n",
       " ('print((97-12))', '85'),\n",
       " ('print((62+19))', '81'),\n",
       " ('print((33+61))', '94'),\n",
       " ('print((24+12))', '36'),\n",
       " ('print((42-27))', '15'),\n",
       " ('print((82-72))', '10'),\n",
       " ('print((48+13))', '61'),\n",
       " ('print((70-17))', '53'),\n",
       " ('print((57+19))', '76'),\n",
       " ('print((28+68))', '96'),\n",
       " ('print((51-33))', '18'),\n",
       " ('print((40-43))', '-3'),\n",
       " ('print((15+67))', '82'),\n",
       " ('print((93-29))', '64'),\n",
       " ('print((24+51))', '75'),\n",
       " ('print((42-24))', '18'),\n",
       " ('print((88+10))', '98'),\n",
       " ('print((28+81))', '109'),\n",
       " ('print((73+97))', '170'),\n",
       " ('print((10-80))', '-70'),\n",
       " ('print((17-63))', '-46'),\n",
       " ('print((90+52))', '142'),\n",
       " ('print((61+84))', '145'),\n",
       " ('print((63+45))', '108'),\n",
       " ('print((13*41))', '533'),\n",
       " ('print((25-37))', '-12'),\n",
       " ('print((57+51))', '108'),\n",
       " ('print((25*69))', '1725'),\n",
       " ('print((34*36))', '1224'),\n",
       " ('print((50*75))', '3750'),\n",
       " ('print((61*22))', '1342'),\n",
       " ('print((47*60))', '2820'),\n",
       " ('print((94*29))', '2726'),\n",
       " ('print((85*42))', '3570'),\n",
       " ('print((77*73))', '5621'),\n",
       " ('print((44*57))', '2508'),\n",
       " ('print((96*68))', '6528'),\n",
       " ('print((66*22))', '1452'),\n",
       " ('print((90 if 40<34 else 8))', '8'),\n",
       " ('print((17 if 2>41 else 45))', '45'),\n",
       " ('print((70 if 2<46 else 98))', '70'),\n",
       " ('print((99 if 22>7 else 96))', '99'),\n",
       " ('print((67 if 72>85 else 43))', '43'),\n",
       " ('print((55 if 39>18 else 98))', '55'),\n",
       " ('print((23 if 94>92 else 12))', '23'),\n",
       " ('print((49 if 32<94 else 74))', '49'),\n",
       " ('print((28 if 98>67 else 75))', '28'),\n",
       " ('print((73 if 80<49 else 97))', '97'),\n",
       " ('print((64 if 40<86 else 30))', '64'),\n",
       " ('print((92 if 28>37 else 89))', '89'),\n",
       " ('print((65 if 72>83 else 71))', '71'),\n",
       " ('print((88 if 35>88 else 69))', '69'),\n",
       " ('print((32 if 84>69 else 69))', '32'),\n",
       " ('print((94 if 18<93 else 63))', '94'),\n",
       " ('print((85 if 60<66 else 13))', '85'),\n",
       " ('q=1\\nfor i in range(0): q+=0\\nprint(q)', '1'),\n",
       " ('a=35\\nfor i in range(0): a+=9\\nprint(a)', '35'),\n",
       " ('u=4\\nfor i in range(4): u-=35\\nprint(u)', '-136'),\n",
       " ('s=51\\nfor i in range(3): s-=15\\nprint(s)', '6'),\n",
       " ('u=24\\nfor i in range(2): u+=19\\nprint(u)', '62'),\n",
       " ('w=96\\nfor i in range(0): w+=12\\nprint(w)', '96'),\n",
       " ('n=44\\nfor i in range(1): n+=44\\nprint(n)', '88'),\n",
       " ('d=66\\nfor i in range(4): d+=45\\nprint(d)', '246'),\n",
       " ('e=14\\nfor i in range(4): e+=90\\nprint(e)', '374'),\n",
       " ('o=72\\nfor i in range(4): o+=72\\nprint(o)', '360'),\n",
       " ('e=26\\nfor i in range(7): e+=52\\nprint(e)', '390'),\n",
       " ('y=86\\nfor i in range(3): y+=78\\nprint(y)', '320'),\n",
       " ('m=40\\nfor i in range(4): m-=33\\nprint(m)', '-92'),\n",
       " ('j=57\\nfor i in range(5): j+=70\\nprint(j)', '407'),\n",
       " ('s=51\\nfor i in range(7): s+=73\\nprint(s)', '562'),\n",
       " ('n=68\\nfor i in range(1): n-=86\\nprint(n)', '-18'),\n",
       " ('c=38\\nfor i in range(3): c+=51\\nprint(c)', '191'),\n",
       " ('d=11\\nfor i in range(7): d+=31\\nprint(d)', '228'),\n",
       " ('a=87\\nfor i in range(3): a+=67\\nprint(a)', '288'),\n",
       " ('f=79\\nfor i in range(3): f+=36\\nprint(f)', '187')]"
      ]
     },
     "execution_count": 13,
     "metadata": {},
     "output_type": "execute_result"
    }
   ],
   "source": [
    "sorted(few_samples, key=lambda x: (len(x[0]), len(x[1])))"
   ]
  },
  {
   "cell_type": "code",
   "execution_count": 14,
   "id": "0939b69b",
   "metadata": {},
   "outputs": [],
   "source": [
    "equal_len_samples = [[('g=61\\nfor i in range(6): g+=48\\nprint(g)', '349'), \n",
    "                     ('r=62\\nfor i in range(5): r+=48\\nprint(r)', '302')],\n",
    "                    [('t=67\\nprint(t)', '67'),\n",
    "                     ('s=12\\nprint(s)', '12'),],\n",
    "                    [('print((54*69))', '3726'),\n",
    "                     ('print((80*57))', '4560'),],\n",
    "                    [('a=36\\nfor i in range(4): a-=96\\nprint(a)', '-348'),\n",
    "                     ('l=24\\nfor i in range(3): l-=74\\nprint(l)', '-198')],\n",
    "                    [('print((6-1))', '5'),\n",
    "                     ('y=0\\nprint(y)', '0')],\n",
    "                    [('l=84\\nfor i in range(0): l+=39\\nprint(l)', '84'),\n",
    "                     ('w=94\\nfor i in range(0): w+=93\\nprint(w)', '94')],\n",
    "                    [('l=74\\nfor i in range(2): l+=51\\nprint(l)', '176'),\n",
    "                     ('y=49\\nfor i in range(7): y+=52\\nprint(y)', '413'),],\n",
    "                    [('print((28 if 77<71 else 42))', '42'),\n",
    "                     ('print((60 if 19<12 else 19))', '19'),],\n",
    "                    [('print((61 if 66<15 else 36))', '36'),\n",
    "                     ('print((21 if 72>50 else 65))', '21'),],\n",
    "                    [('print((35*82))', '2870'),\n",
    "                     ('print((69*18))', '1242')]]"
   ]
  },
  {
   "cell_type": "code",
   "execution_count": 15,
   "id": "cb17bef6",
   "metadata": {},
   "outputs": [],
   "source": [
    "batched_samples = torch.concat([make_tensor(x, token2pos, vocab_size) for x, y in equal_len_samples[0]])\n",
    "batched_targets = torch.concat([make_tensor(y, token2pos, vocab_size) for x, y in equal_len_samples[0]])"
   ]
  },
  {
   "cell_type": "markdown",
   "id": "c01bef33",
   "metadata": {},
   "source": [
    "### Batches"
   ]
  },
  {
   "cell_type": "code",
   "execution_count": 16,
   "id": "fff24fa6",
   "metadata": {},
   "outputs": [],
   "source": [
    "equal_len_tensor_samples = [torch.concat([make_tensor(x, token2pos, vocab_size) for x, y in equal_len_batch])\n",
    "                            for equal_len_batch in equal_len_samples]\n",
    "equal_len_tensor_targets = [torch.concat([make_tensor(y, token2pos, vocab_size) for x, y in equal_len_batch])\n",
    "                            for equal_len_batch in equal_len_samples]"
   ]
  },
  {
   "cell_type": "code",
   "execution_count": 17,
   "id": "63d3ebf2",
   "metadata": {},
   "outputs": [],
   "source": [
    "def get_batch(equal_len_tensor_samples, equal_len_tensor_targets):\n",
    "    i = torch.randint(len(equal_len_samples), (1,)).item()\n",
    "    return (equal_len_tensor_samples[i],\n",
    "            equal_len_tensor_targets[i])"
   ]
  },
  {
   "cell_type": "markdown",
   "id": "39a43f81",
   "metadata": {},
   "source": [
    "### Padded batch"
   ]
  },
  {
   "cell_type": "code",
   "execution_count": 18,
   "id": "64787b67",
   "metadata": {},
   "outputs": [],
   "source": [
    "few_samples = [generate_sample(length=2, nesting=1) for i in range(16)]"
   ]
  },
  {
   "cell_type": "code",
   "execution_count": 19,
   "id": "d40759e6",
   "metadata": {},
   "outputs": [],
   "source": [
    "tensor_samples = [make_tensor(x, token2pos, vocab_size) for x, y in few_samples]\n",
    "samples_len = [len(x) for x, y in few_samples]\n",
    "padded_tensor_samples = [torch.concat((t, torch.zeros((1, max(samples_len)-l, vocab_size))), dim=1)\n",
    "                         for t, l in zip(tensor_samples, samples_len)]\n",
    "padded_samples_batch = torch.concat(padded_tensor_samples)"
   ]
  },
  {
   "cell_type": "code",
   "execution_count": 20,
   "id": "4fd0cb2c",
   "metadata": {},
   "outputs": [],
   "source": [
    "tensor_targets = [make_tensor(y, token2pos, vocab_size) for x, y in few_samples]\n",
    "targets_len = [len(y) for x, y in few_samples]\n",
    "padded_tensor_targets = [torch.concat((t, torch.zeros((1, max(targets_len)-l, vocab_size))), dim=1)\n",
    "                         for t, l in zip(tensor_targets, targets_len)]\n",
    "padded_targets_batch = torch.concat(padded_tensor_targets)"
   ]
  },
  {
   "cell_type": "markdown",
   "id": "ced6624e",
   "metadata": {},
   "source": [
    "### Padded batches"
   ]
  },
  {
   "cell_type": "code",
   "execution_count": null,
   "id": "5beb298c",
   "metadata": {},
   "outputs": [],
   "source": []
  },
  {
   "cell_type": "markdown",
   "id": "54474f9d",
   "metadata": {},
   "source": [
    "## Model"
   ]
  },
  {
   "cell_type": "code",
   "execution_count": 21,
   "id": "e92518dd",
   "metadata": {},
   "outputs": [],
   "source": [
    "class LSTM(torch.nn.Module):\n",
    "    def __init__(self, input_size, hidden_size, output_size):\n",
    "        super(LSTM, self).__init__()\n",
    "        self.lstm_cell = torch.nn.LSTMCell(\n",
    "            input_size=input_size,\n",
    "            hidden_size=hidden_size)\n",
    "        self.W_o = torch.nn.Parameter(torch.rand(output_size, hidden_size))\n",
    "        self.b_o = torch.nn.Parameter(torch.rand(1))\n",
    "        self.register_buffer(\"h_t\", torch.zeros(16, hidden_size))\n",
    "        self.register_buffer(\"c_t\", torch.zeros(16, hidden_size))\n",
    "    \n",
    "    def forward(self, x, hidden_mask):\n",
    "        self.h_t, self.c_t = self.h_t * hidden_mask, self.c_t * hidden_mask\n",
    "        self.h_t, self.c_t = self.lstm_cell(x, (self.h_t, self.c_t))\n",
    "        return self.h_t @ self.W_o.T + self.b_o\n",
    "    \n",
    "    def detach_states(self):\n",
    "        self.h_t = self.h_t.detach()\n",
    "        self.c_t = self.c_t.detach()\n",
    "        \n",
    "    def set_states(self, h_dict, c_dict):\n",
    "        self.h_t = torch.concat([h for _, h in h_dict.items()])\n",
    "        self.c_t = torch.concat([c for _, c in c_dict.items()])"
   ]
  },
  {
   "cell_type": "code",
   "execution_count": 22,
   "id": "7d6de00a",
   "metadata": {},
   "outputs": [],
   "source": [
    "def train(model, sample, target, loss, opt):\n",
    "    opt.zero_grad()\n",
    "    outputs = []\n",
    "\n",
    "    for char_pos in range(sample.size(1)):\n",
    "        output = model(sample[:, char_pos, :].squeeze())\n",
    "    outputs.append(output)\n",
    "\n",
    "    for char_pos in range(target.size(1) - 1):\n",
    "        output = model(target[:, char_pos, :].squeeze())\n",
    "        outputs.append(output)\n",
    "    \n",
    "    cumulative_loss = 0\n",
    "    for char_pos, output in enumerate(outputs):\n",
    "        cumulative_loss += loss(output, torch.argmax(target[:, char_pos, :].squeeze(), dim=1))\n",
    "    avg_loss = cumulative_loss / len(outputs)\n",
    "\n",
    "    avg_loss.backward()\n",
    "    opt.step()\n",
    "\n",
    "    model.detach_states()\n",
    "    return avg_loss.item()"
   ]
  },
  {
   "cell_type": "code",
   "execution_count": 23,
   "id": "6c57e5af",
   "metadata": {},
   "outputs": [],
   "source": [
    "def reduce_lens(lens):\n",
    "    return [l-1 if l > 0 else l for l in lens]"
   ]
  },
  {
   "cell_type": "code",
   "execution_count": 24,
   "id": "a7e5e737",
   "metadata": {},
   "outputs": [],
   "source": [
    "def get_mask(lens):\n",
    "    return torch.tensor([1 if l > 0 else 0 for l in lens])"
   ]
  },
  {
   "cell_type": "code",
   "execution_count": 25,
   "id": "54815f69",
   "metadata": {},
   "outputs": [],
   "source": [
    "def get_hidden_mask(mask_1d):\n",
    "    return torch.concat([torch.zeros((1, 100)) if m == 0 else torch.ones((1, 100)) for m in get_mask(samples_len)], dim=0)"
   ]
  },
  {
   "cell_type": "code",
   "execution_count": 26,
   "id": "9f5a8261",
   "metadata": {},
   "outputs": [],
   "source": [
    "def save_states(model, h_dict, c_dict, samples_len):\n",
    "    target_states = torch.argwhere(get_mask(samples_len) == 0)\n",
    "    for state in target_states:\n",
    "        h_dict.setdefault(state.item(), model.h_t[state, :])\n",
    "        c_dict.setdefault(state.item(), model.c_t[state, :])\n",
    "    return h_dict, c_dict"
   ]
  },
  {
   "cell_type": "code",
   "execution_count": 27,
   "id": "195ae937",
   "metadata": {},
   "outputs": [],
   "source": [
    "def train_padded(model, sample, target, samples_len, targets_len, loss, opt):\n",
    "    opt.zero_grad()\n",
    "    outputs = []\n",
    "    h_dict, c_dict = {}, {}\n",
    "\n",
    "    for char_pos in range(sample.size(1)):\n",
    "        h_dict, c_dict = save_states(model, h_dict, c_dict, samples_len)\n",
    "        mask_1d = get_mask(samples_len)\n",
    "        hidden_mask = get_hidden_mask(mask_1d)\n",
    "        output = model(sample[:, char_pos, :].squeeze(), hidden_mask)\n",
    "        samples_len = reduce_lens(samples_len)\n",
    "    h_dict, c_dict = save_states(model, h_dict, c_dict, samples_len)\n",
    "    outputs.append(output)\n",
    "    \n",
    "    model.set_states(h_dict, c_dict)\n",
    "    \n",
    "    targets_len_copy = targets_len\n",
    "    for char_pos in range(target.size(1) - 1):\n",
    "        mask_1d = get_mask(targets_len_copy)\n",
    "        hidden_mask = get_hidden_mask(targets_len_copy)\n",
    "        output = model(target[:, char_pos, :].squeeze(), hidden_mask)\n",
    "        targets_len_copy = reduce_lens(targets_len_copy)\n",
    "        outputs.append(output)\n",
    "    \n",
    "    count_nonzero = 0\n",
    "    cumulative_loss = 0\n",
    "    for char_pos, output in enumerate(outputs):\n",
    "        loss_mask = get_mask(targets_len)\n",
    "        targets_len = reduce_lens(targets_len)\n",
    "        char_loss = loss(output, torch.argmax(target[:, char_pos, :].squeeze(), dim=1)) * loss_mask\n",
    "        count_nonzero += (char_loss != 0).sum()\n",
    "        cumulative_loss += torch.sum(char_loss)\n",
    "    avg_loss = cumulative_loss / count_nonzero\n",
    "    \n",
    "    avg_loss.backward()\n",
    "    opt.step()\n",
    "\n",
    "    model.detach_states()\n",
    "    return avg_loss.item()"
   ]
  },
  {
   "cell_type": "code",
   "execution_count": 28,
   "id": "e9ebc4f9",
   "metadata": {},
   "outputs": [],
   "source": [
    "def train_dntm(model, sample, target, loss, opt):\n",
    "    opt.zero_grad()\n",
    "    outputs = []\n",
    "    \n",
    "    model.prepare_for_batch(sample, sample.device)\n",
    "    for char_pos in range(sample.size(1)):\n",
    "        output = model(sample[:, char_pos, :].reshape(sample.size(2), 2))\n",
    "    outputs.append(output)\n",
    "\n",
    "    for char_pos in range(target.size(1) - 1):\n",
    "        output = model(target[:, char_pos, :].reshape(sample.size(2), 2))\n",
    "        outputs.append(output)\n",
    "\n",
    "    cumulative_loss = 0\n",
    "    for char_pos, output in enumerate(outputs):\n",
    "        cumulative_loss += loss(output.squeeze(), torch.argmax(target[:, char_pos, :].squeeze(), dim=1))\n",
    "    avg_loss = cumulative_loss / len(outputs)\n",
    "\n",
    "    avg_loss.backward()\n",
    "    opt.step()\n",
    "\n",
    "    return avg_loss.item()"
   ]
  },
  {
   "cell_type": "code",
   "execution_count": 29,
   "id": "e475bd5b",
   "metadata": {},
   "outputs": [],
   "source": [
    "model = LSTM(\n",
    "    input_size=vocab_size,\n",
    "    hidden_size=100,\n",
    "    output_size=vocab_size)"
   ]
  },
  {
   "cell_type": "code",
   "execution_count": 30,
   "id": "26d2691f",
   "metadata": {},
   "outputs": [],
   "source": [
    "dntm_memory = DynamicNeuralTuringMachineMemory(\n",
    "        n_locations=100,\n",
    "        content_size=8,\n",
    "        address_size=8,\n",
    "        controller_input_size=vocab_size,\n",
    "        controller_hidden_state_size=100,\n",
    "    )"
   ]
  },
  {
   "cell_type": "code",
   "execution_count": 31,
   "id": "f1ae792e",
   "metadata": {},
   "outputs": [],
   "source": [
    "dntm = DynamicNeuralTuringMachine(\n",
    "    memory=dntm_memory,\n",
    "    controller_hidden_state_size=100,\n",
    "    controller_input_size=vocab_size,\n",
    "    controller_output_size=vocab_size,\n",
    ")"
   ]
  },
  {
   "cell_type": "code",
   "execution_count": 73,
   "id": "e2f2d67b",
   "metadata": {},
   "outputs": [],
   "source": [
    "model = dntm"
   ]
  },
  {
   "cell_type": "markdown",
   "id": "e235cbcb",
   "metadata": {},
   "source": [
    "## Train"
   ]
  },
  {
   "cell_type": "code",
   "execution_count": 32,
   "id": "948551f1",
   "metadata": {},
   "outputs": [],
   "source": [
    "loss = torch.nn.CrossEntropyLoss()\n",
    "opt = torch.optim.Adam(model.parameters(), lr=0.001)\n",
    "MAX_ITER = 500"
   ]
  },
  {
   "cell_type": "code",
   "execution_count": 173,
   "id": "2af19a1f",
   "metadata": {
    "collapsed": true
   },
   "outputs": [
    {
     "ename": "NameError",
     "evalue": "name 'get_batch' is not defined",
     "output_type": "error",
     "traceback": [
      "\u001b[0;31m---------------------------------------------------------------------------\u001b[0m",
      "\u001b[0;31mNameError\u001b[0m                                 Traceback (most recent call last)",
      "Cell \u001b[0;32mIn [173], line 3\u001b[0m\n\u001b[1;32m      1\u001b[0m loss_values \u001b[38;5;241m=\u001b[39m []\n\u001b[1;32m      2\u001b[0m \u001b[38;5;28;01mfor\u001b[39;00m step \u001b[38;5;129;01min\u001b[39;00m \u001b[38;5;28mrange\u001b[39m(MAX_ITER):\n\u001b[0;32m----> 3\u001b[0m     batched_samples, batched_targets \u001b[38;5;241m=\u001b[39m get_batch(equal_len_tensor_samples, equal_len_tensor_targets)\n\u001b[1;32m      4\u001b[0m     loss_values\u001b[38;5;241m.\u001b[39mappend(train(model, batched_samples, batched_targets, loss, opt))\n",
      "\u001b[0;31mNameError\u001b[0m: name 'get_batch' is not defined"
     ]
    }
   ],
   "source": [
    "loss_values = []\n",
    "for step in range(MAX_ITER):\n",
    "    batched_samples, batched_targets = get_batch(equal_len_tensor_samples, equal_len_tensor_targets)\n",
    "    loss_values.append(train(model, batched_samples, batched_targets, loss, opt))"
   ]
  },
  {
   "cell_type": "code",
   "execution_count": 33,
   "id": "14a1769d",
   "metadata": {},
   "outputs": [],
   "source": [
    "loss = torch.nn.CrossEntropyLoss(reduction='none')\n",
    "loss_values = []\n",
    "for step in range(MAX_ITER):\n",
    "    loss_values.append(train_padded(model, padded_samples_batch, padded_targets_batch, samples_len, targets_len, loss, opt))"
   ]
  },
  {
   "cell_type": "code",
   "execution_count": 75,
   "id": "a005e262",
   "metadata": {},
   "outputs": [],
   "source": [
    "loss_values = []\n",
    "for step in range(MAX_ITER):\n",
    "    # x_t, y_t = get_sample(few_tensor_samples)\n",
    "    batched_samples, batched_targets = get_batch(equal_len_tensor_samples, equal_len_tensor_targets)\n",
    "    loss_values.append(train_dntm(model, batched_samples, batched_targets, loss, opt))"
   ]
  },
  {
   "cell_type": "code",
   "execution_count": 34,
   "id": "9369c33c",
   "metadata": {},
   "outputs": [
    {
     "data": {
      "image/png": "[encoded data removed]",
      "text/plain": [
       "<Figure size 640x480 with 1 Axes>"
      ]
     },
     "metadata": {},
     "output_type": "display_data"
    }
   ],
   "source": [
    "AxesSubplot = sns.lineplot(loss_values)\n",
    "# _ = AxesSubplot.set(title=f\"{x} {y}\")"
   ]
  },
  {
   "cell_type": "markdown",
   "id": "1f170f5e",
   "metadata": {},
   "source": [
    "Expected cross-entropy value with random prediction:"
   ]
  },
  {
   "cell_type": "code",
   "execution_count": 200,
   "id": "edfa3eff",
   "metadata": {},
   "outputs": [
    {
     "data": {
      "text/plain": [
       "tensor(3.8501)"
      ]
     },
     "execution_count": 200,
     "metadata": {},
     "output_type": "execute_result"
    }
   ],
   "source": [
    "torch.log(torch.tensor(vocab_size))"
   ]
  },
  {
   "cell_type": "markdown",
   "id": "7286df1c",
   "metadata": {},
   "source": [
    "## Eval"
   ]
  },
  {
   "cell_type": "code",
   "execution_count": 201,
   "id": "f837d518",
   "metadata": {},
   "outputs": [],
   "source": [
    "def target_tensors_to_str(y_t):\n",
    "    idx_outputs = [torch.argmax(o).item() for o in y_t]\n",
    "    return ''.join([pos2token[idx] for idx in idx_outputs])"
   ]
  },
  {
   "cell_type": "code",
   "execution_count": 152,
   "id": "a79e3fed",
   "metadata": {},
   "outputs": [],
   "source": [
    "# LSTM\n",
    "sample, target = x_t, y_t\n",
    "\n",
    "outputs = []\n",
    "for char_pos in range(sample.size(1)):\n",
    "    output = model(sample[:, char_pos, :].squeeze())\n",
    "outputs.append(output)\n",
    "\n",
    "for char_pos in range(target.size(1) - 1):\n",
    "    output = model(target[:, char_pos, :].squeeze())\n",
    "    outputs.append(output)"
   ]
  },
  {
   "cell_type": "code",
   "execution_count": 217,
   "id": "5aa4e367",
   "metadata": {},
   "outputs": [],
   "source": [
    "# D-NTM\n",
    "sample, target = get_sample(few_tensor_samples)\n",
    "\n",
    "outputs = []\n",
    "model.prepare_for_batch(sample, sample.device)\n",
    "for char_pos in range(sample.size(1)):\n",
    "    output = model(sample[:, char_pos, :].view(sample.size(2), 1))\n",
    "outputs.append(output)\n",
    "\n",
    "for char_pos in range(target.size(1) - 1):\n",
    "    output = model(target[:, char_pos, :].view(sample.size(2), 1))\n",
    "    outputs.append(output)\n",
    "\n",
    "outputs = [o.squeeze() for o in outputs]"
   ]
  },
  {
   "cell_type": "code",
   "execution_count": 218,
   "id": "4253a993",
   "metadata": {},
   "outputs": [
    {
     "data": {
      "text/plain": [
       "'41'"
      ]
     },
     "execution_count": 218,
     "metadata": {},
     "output_type": "execute_result"
    }
   ],
   "source": [
    "target_tensors_to_str(outputs)"
   ]
  },
  {
   "cell_type": "code",
   "execution_count": 219,
   "id": "e7f3ffbe",
   "metadata": {},
   "outputs": [
    {
     "data": {
      "text/plain": [
       "'41'"
      ]
     },
     "execution_count": 219,
     "metadata": {},
     "output_type": "execute_result"
    }
   ],
   "source": [
    "targets = [target[:, i, :].squeeze() for i in range(target.size(1))]\n",
    "target_tensors_to_str(targets)"
   ]
  }
 ],
 "metadata": {
  "kernelspec": {
   "display_name": "lte",
   "language": "python",
   "name": "lte"
  },
  "language_info": {
   "codemirror_mode": {
    "name": "ipython",
    "version": 3
   },
   "file_extension": ".py",
   "mimetype": "text/x-python",
   "name": "python",
   "nbconvert_exporter": "python",
   "pygments_lexer": "ipython3",
   "version": "3.10.6"
  }
 },
 "nbformat": 4,
 "nbformat_minor": 5
}
