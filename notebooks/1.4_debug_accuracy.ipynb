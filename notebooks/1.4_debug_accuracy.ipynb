{
 "cells": [
  {
   "cell_type": "code",
   "execution_count": 14,
   "id": "82edb8a7",
   "metadata": {},
   "outputs": [],
   "source": [
    "from data.generator import generate_batch\n",
    "from data.generator import get_vocab_size\n",
    "from utils.rnn_utils import batch_acc\n",
    "\n",
    "import torch"
   ]
  },
  {
   "cell_type": "code",
   "execution_count": 7,
   "id": "3ed2e65b",
   "metadata": {},
   "outputs": [],
   "source": [
    "LEN = 4\n",
    "NES = 1\n",
    "BS = 2"
   ]
  },
  {
   "cell_type": "code",
   "execution_count": 8,
   "id": "9cf33b8c",
   "metadata": {},
   "outputs": [],
   "source": [
    "_, targets, _, _ = generate_batch(LEN, NES, BS)"
   ]
  },
  {
   "cell_type": "code",
   "execution_count": 51,
   "id": "4bbd9dfc",
   "metadata": {},
   "outputs": [],
   "source": [
    "idx_targets = targets.argmax(dim=-1)"
   ]
  },
  {
   "cell_type": "code",
   "execution_count": 95,
   "id": "e21ce587",
   "metadata": {},
   "outputs": [],
   "source": [
    "mask = (idx_targets != 47).type(torch.int32)"
   ]
  },
  {
   "cell_type": "code",
   "execution_count": 96,
   "id": "f1c6582b",
   "metadata": {},
   "outputs": [
    {
     "data": {
      "text/plain": [
       "tensor([[1, 1, 1, 1, 1],\n",
       "        [1, 1, 1, 1, 0]], dtype=torch.int32)"
      ]
     },
     "execution_count": 96,
     "metadata": {},
     "output_type": "execute_result"
    }
   ],
   "source": [
    "mask"
   ]
  },
  {
   "cell_type": "code",
   "execution_count": 83,
   "id": "5a0ebbf1",
   "metadata": {},
   "outputs": [
    {
     "data": {
      "text/plain": [
       "tensor(1)"
      ]
     },
     "execution_count": 83,
     "metadata": {},
     "output_type": "execute_result"
    }
   ],
   "source": [
    "mask.sum()"
   ]
  },
  {
   "cell_type": "code",
   "execution_count": 53,
   "id": "08a7a12b",
   "metadata": {},
   "outputs": [
    {
     "data": {
      "text/plain": [
       "torch.Size([2, 5, 48])"
      ]
     },
     "execution_count": 53,
     "metadata": {},
     "output_type": "execute_result"
    }
   ],
   "source": [
    "targets.size()"
   ]
  },
  {
   "cell_type": "code",
   "execution_count": 78,
   "id": "39c73354",
   "metadata": {},
   "outputs": [],
   "source": [
    "outputs = [torch.rand((targets.size(1), targets.size(2))) for _ in range(targets.size(0))]"
   ]
  },
  {
   "cell_type": "code",
   "execution_count": 79,
   "id": "8f330170",
   "metadata": {},
   "outputs": [],
   "source": [
    "tensor_outs = torch.concat([o.unsqueeze(0) for o in outputs])"
   ]
  },
  {
   "cell_type": "code",
   "execution_count": 80,
   "id": "afd3a3d6",
   "metadata": {},
   "outputs": [],
   "source": [
    "idx_outs = tensor_outs.argmax(dim=-1)"
   ]
  },
  {
   "cell_type": "code",
   "execution_count": 97,
   "id": "09900b2b",
   "metadata": {},
   "outputs": [],
   "source": [
    "out_equal_target = (idx_outs == idx_targets).type(torch.int32)"
   ]
  },
  {
   "cell_type": "code",
   "execution_count": 100,
   "id": "12d753b5",
   "metadata": {},
   "outputs": [],
   "source": [
    "masked_out_equal_target = out_equal_target * mask"
   ]
  },
  {
   "cell_type": "code",
   "execution_count": 84,
   "id": "b666e4aa",
   "metadata": {},
   "outputs": [
    {
     "data": {
      "text/plain": [
       "tensor(1)"
      ]
     },
     "execution_count": 84,
     "metadata": {},
     "output_type": "execute_result"
    }
   ],
   "source": [
    "idx_outs"
   ]
  },
  {
   "cell_type": "code",
   "execution_count": 87,
   "id": "e11195b4",
   "metadata": {},
   "outputs": [],
   "source": [
    "num_correct = (idx_outs == idx_targets).sum()"
   ]
  },
  {
   "cell_type": "code",
   "execution_count": 88,
   "id": "67d7dd88",
   "metadata": {},
   "outputs": [],
   "source": [
    "num_masked = mask.sum()"
   ]
  },
  {
   "cell_type": "code",
   "execution_count": 85,
   "id": "90d5b583",
   "metadata": {},
   "outputs": [],
   "source": [
    "num_targets = idx_targets.size(0) * idx_targets.size(1)"
   ]
  },
  {
   "cell_type": "code",
   "execution_count": 86,
   "id": "a19b5388",
   "metadata": {},
   "outputs": [
    {
     "data": {
      "text/plain": [
       "10"
      ]
     },
     "execution_count": 86,
     "metadata": {},
     "output_type": "execute_result"
    }
   ],
   "source": [
    "num_targets"
   ]
  },
  {
   "cell_type": "code",
   "execution_count": 101,
   "id": "fabea4fd",
   "metadata": {},
   "outputs": [
    {
     "data": {
      "text/plain": [
       "tensor(0.)"
      ]
     },
     "execution_count": 101,
     "metadata": {},
     "output_type": "execute_result"
    }
   ],
   "source": [
    "masked_out_equal_target.sum() / (num_targets - num_masked)"
   ]
  },
  {
   "cell_type": "code",
   "execution_count": 103,
   "id": "08442fb3",
   "metadata": {},
   "outputs": [
    {
     "data": {
      "text/plain": [
       "47"
      ]
     },
     "execution_count": 103,
     "metadata": {},
     "output_type": "execute_result"
    }
   ],
   "source": [
    "get_vocab_size()-1"
   ]
  },
  {
   "cell_type": "code",
   "execution_count": 104,
   "id": "e6fff674",
   "metadata": {},
   "outputs": [],
   "source": [
    "def batch_acc(outputs, target, vocab_size):\n",
    "    idx_pad = vocab_size - 1\n",
    "    idx_targets = targets.argmax(dim=-1)\n",
    "    mask = (idx_targets != idx_pad).type(torch.int32)\n",
    "    tensor_outs = torch.concat([o.unsqueeze(0) for o in outputs])\n",
    "    idx_outs = tensor_outs.argmax(dim=-1)\n",
    "    out_equal_target = (idx_outs == idx_targets).type(torch.int32)\n",
    "    masked_out_equal_target = out_equal_target * mask\n",
    "    num_correct = (idx_outs == idx_targets).sum()\n",
    "    num_masked = mask.sum()\n",
    "    num_targets = idx_targets.size(0) * idx_targets.size(1)\n",
    "    return masked_out_equal_target.sum() / (num_targets - num_masked)"
   ]
  }
 ],
 "metadata": {
  "kernelspec": {
   "display_name": "lte",
   "language": "python",
   "name": "lte"
  },
  "language_info": {
   "codemirror_mode": {
    "name": "ipython",
    "version": 3
   },
   "file_extension": ".py",
   "mimetype": "text/x-python",
   "name": "python",
   "nbconvert_exporter": "python",
   "pygments_lexer": "ipython3",
   "version": "3.10.6"
  }
 },
 "nbformat": 4,
 "nbformat_minor": 5
}
