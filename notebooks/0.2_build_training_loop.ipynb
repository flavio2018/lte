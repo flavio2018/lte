{
 "cells": [
  {
   "cell_type": "code",
   "execution_count": 1,
   "id": "ca168f21",
   "metadata": {},
   "outputs": [],
   "source": [
    "import torch\n",
    "from data.data import generate_sample\n",
    "from model.dntm.DynamicNeuralTuringMachine import DynamicNeuralTuringMachine\n",
    "from model.dntm.DynamicNeuralTuringMachineMemory import DynamicNeuralTuringMachineMemory\n",
    "\n",
    "from utils.wandb_utils import log_params_norm, log_weights_gradient"
   ]
  },
  {
   "cell_type": "code",
   "execution_count": 2,
   "id": "bab8c78e",
   "metadata": {},
   "outputs": [],
   "source": [
    "import seaborn as sns"
   ]
  },
  {
   "cell_type": "code",
   "execution_count": 3,
   "id": "8aacdf16",
   "metadata": {},
   "outputs": [],
   "source": [
    "from IPython.core.debugger import set_trace"
   ]
  },
  {
   "cell_type": "markdown",
   "id": "eec55e23",
   "metadata": {},
   "source": [
    "## Data"
   ]
  },
  {
   "cell_type": "code",
   "execution_count": 4,
   "id": "d6409560",
   "metadata": {},
   "outputs": [],
   "source": [
    "vocab_chars = set('abcdefghijklmnopqrstuvwxyz0123456789()+*-=<>: ')\n",
    "vocab_size = len(vocab_chars) + 1\n",
    "target_vocab_chars = set('0123456789-')\n",
    "target_vocab_size = len(target_vocab_chars)\n",
    "\n",
    "token2pos = {t: p for p, t in enumerate(vocab_chars)}\n",
    "token2pos['\\n'] = len(token2pos)\n",
    "target_token2pos = {t: p for p, t in enumerate(target_vocab_chars)}"
   ]
  },
  {
   "cell_type": "code",
   "execution_count": 5,
   "id": "e6152f8e",
   "metadata": {},
   "outputs": [],
   "source": [
    "pos2token = {p: t for t, p in token2pos.items()}"
   ]
  },
  {
   "cell_type": "code",
   "execution_count": 6,
   "id": "92be84fa",
   "metadata": {},
   "outputs": [],
   "source": [
    "def make_1hot(char, token2pos, vocab_size):\n",
    "    onehot_vec = torch.zeros((1, vocab_size))\n",
    "    onehot_vec[0, token2pos[char]] = 1\n",
    "    return onehot_vec"
   ]
  },
  {
   "cell_type": "code",
   "execution_count": 7,
   "id": "b4331527",
   "metadata": {},
   "outputs": [],
   "source": [
    "def make_tensor(sample, token2pos, vocab_size):\n",
    "    sample_tensor = []\n",
    "    for c in sample:\n",
    "        sample_tensor.append(make_1hot(c, token2pos, vocab_size))\n",
    "    return torch.concat(sample_tensor).unsqueeze(dim=0)"
   ]
  },
  {
   "cell_type": "markdown",
   "id": "d96088d2",
   "metadata": {},
   "source": [
    "### Sample"
   ]
  },
  {
   "cell_type": "code",
   "execution_count": 8,
   "id": "0f07cef7",
   "metadata": {},
   "outputs": [
    {
     "name": "stdout",
     "output_type": "stream",
     "text": [
      "print((56+31))\n",
      "87\n",
      "87\n"
     ]
    }
   ],
   "source": [
    "x, y = generate_sample(length=2, nesting=1)\n",
    "print(x)\n",
    "print(y)\n",
    "exec(x)"
   ]
  },
  {
   "cell_type": "code",
   "execution_count": 9,
   "id": "dcbeb9a4",
   "metadata": {},
   "outputs": [],
   "source": [
    "x_t, y_t = make_tensor(x, token2pos, vocab_size), make_tensor(y, token2pos, vocab_size)"
   ]
  },
  {
   "cell_type": "code",
   "execution_count": 10,
   "id": "bd970c65",
   "metadata": {},
   "outputs": [],
   "source": [
    "assert x_t.size(1) == len(x)\n",
    "assert y_t.size(1) == len(y)"
   ]
  },
  {
   "cell_type": "markdown",
   "id": "4dca63e2",
   "metadata": {},
   "source": [
    "### Samples"
   ]
  },
  {
   "cell_type": "code",
   "execution_count": 11,
   "id": "c2168a97",
   "metadata": {},
   "outputs": [],
   "source": [
    "few_samples = [generate_sample(length=2, nesting=1) for i in range(100)]\n",
    "few_tensor_samples = [(make_tensor(x, token2pos, vocab_size), make_tensor(y, token2pos, vocab_size))\n",
    "                      for x, y in few_samples]"
   ]
  },
  {
   "cell_type": "code",
   "execution_count": 12,
   "id": "77bf6404",
   "metadata": {},
   "outputs": [],
   "source": [
    "def get_sample(few_tensor_samples):\n",
    "    return few_tensor_samples[torch.randint(len(few_tensor_samples), (1,)).item()]"
   ]
  },
  {
   "cell_type": "markdown",
   "id": "c906f09d",
   "metadata": {},
   "source": [
    "### Batch"
   ]
  },
  {
   "cell_type": "code",
   "execution_count": 13,
   "id": "36e1f227",
   "metadata": {
    "scrolled": true
   },
   "outputs": [
    {
     "data": {
      "text/plain": [
       "[('l=8\\nprint(l)', '8'),\n",
       " ('print((4*7))', '28'),\n",
       " ('print((0*65))', '0'),\n",
       " ('print((0*22))', '0'),\n",
       " ('print((96-9))', '87'),\n",
       " ('z=89\\nprint(z)', '89'),\n",
       " ('print((31-8))', '23'),\n",
       " ('u=11\\nprint(u)', '11'),\n",
       " ('b=27\\nprint(b)', '27'),\n",
       " ('o=16\\nprint(o)', '16'),\n",
       " ('print((9-16))', '-7'),\n",
       " ('u=10\\nprint(u)', '10'),\n",
       " ('n=33\\nprint(n)', '33'),\n",
       " ('u=13\\nprint(u)', '13'),\n",
       " ('d=74\\nprint(d)', '74'),\n",
       " ('print((26-7))', '19'),\n",
       " ('t=22\\nprint(t)', '22'),\n",
       " ('n=14\\nprint(n)', '14'),\n",
       " ('print((70-1))', '69'),\n",
       " ('p=53\\nprint(p)', '53'),\n",
       " ('l=35\\nprint(l)', '35'),\n",
       " ('print((82*3))', '246'),\n",
       " ('print((92*7))', '644'),\n",
       " ('print((45-42))', '3'),\n",
       " ('print((12-10))', '2'),\n",
       " ('print((60-59))', '1'),\n",
       " ('print((12-16))', '-4'),\n",
       " ('print((91-28))', '63'),\n",
       " ('print((10+62))', '72'),\n",
       " ('print((28+64))', '92'),\n",
       " ('print((11+35))', '46'),\n",
       " ('print((26+46))', '72'),\n",
       " ('print((49-22))', '27'),\n",
       " ('print((35+48))', '83'),\n",
       " ('print((98-77))', '21'),\n",
       " ('print((98+20))', '118'),\n",
       " ('print((68*12))', '816'),\n",
       " ('print((10*33))', '330'),\n",
       " ('print((18*19))', '342'),\n",
       " ('print((13-40))', '-27'),\n",
       " ('print((22-49))', '-27'),\n",
       " ('print((41+91))', '132'),\n",
       " ('print((12-94))', '-82'),\n",
       " ('print((10+93))', '103'),\n",
       " ('print((13+89))', '102'),\n",
       " ('print((17*26))', '442'),\n",
       " ('print((47-57))', '-10'),\n",
       " ('print((34*67))', '2278'),\n",
       " ('print((76*45))', '3420'),\n",
       " ('print((85*59))', '5015'),\n",
       " ('print((79*91))', '7189'),\n",
       " ('print((87*60))', '5220'),\n",
       " ('print((22*70))', '1540'),\n",
       " ('print((51*56))', '2856'),\n",
       " ('print((24*48))', '1152'),\n",
       " ('print((68*21))', '1428'),\n",
       " ('print((67*58))', '3886'),\n",
       " ('print((93*16))', '1488'),\n",
       " ('print((92*26))', '2392'),\n",
       " ('print((8 if 67<41 else 2))', '2'),\n",
       " ('print((89 if 6>21 else 6))', '6'),\n",
       " ('print((57 if 92>99 else 1))', '1'),\n",
       " ('print((11 if 90<51 else 8))', '8'),\n",
       " ('print((75 if 91>67 else 5))', '75'),\n",
       " ('print((13 if 9<94 else 60))', '13'),\n",
       " ('print((23 if 31<6 else 35))', '35'),\n",
       " ('print((40 if 6>64 else 91))', '91'),\n",
       " ('print((7 if 51>88 else 54))', '54'),\n",
       " ('print((72 if 60>4 else 36))', '72'),\n",
       " ('print((80 if 97>78 else 45))', '80'),\n",
       " ('print((95 if 78<23 else 43))', '43'),\n",
       " ('print((38 if 37>29 else 10))', '38'),\n",
       " ('print((62 if 21>99 else 32))', '32'),\n",
       " ('print((42 if 22>61 else 67))', '67'),\n",
       " ('print((34 if 33>48 else 91))', '91'),\n",
       " ('print((85 if 43>92 else 92))', '92'),\n",
       " ('print((93 if 24<33 else 88))', '93'),\n",
       " ('print((81 if 59>94 else 60))', '60'),\n",
       " ('print((41 if 68<31 else 91))', '91'),\n",
       " ('print((71 if 65<69 else 11))', '71'),\n",
       " ('print((13 if 67<47 else 61))', '61'),\n",
       " ('print((20 if 46>32 else 25))', '20'),\n",
       " ('d=22\\nfor i in range(4): d-=7\\nprint(d)', '-6'),\n",
       " ('o=98\\nfor i in range(4): o-=0\\nprint(o)', '98'),\n",
       " ('j=0\\nfor i in range(7): j-=16\\nprint(j)', '-112'),\n",
       " ('l=73\\nfor i in range(0): l+=78\\nprint(l)', '73'),\n",
       " ('g=57\\nfor i in range(3): g+=10\\nprint(g)', '87'),\n",
       " ('g=19\\nfor i in range(1): g+=39\\nprint(g)', '58'),\n",
       " ('y=61\\nfor i in range(0): y-=27\\nprint(y)', '61'),\n",
       " ('a=22\\nfor i in range(2): a+=80\\nprint(a)', '182'),\n",
       " ('v=21\\nfor i in range(7): v+=78\\nprint(v)', '567'),\n",
       " ('z=44\\nfor i in range(2): z+=86\\nprint(z)', '216'),\n",
       " ('r=26\\nfor i in range(4): r+=66\\nprint(r)', '290'),\n",
       " ('k=24\\nfor i in range(4): k+=33\\nprint(k)', '156'),\n",
       " ('w=62\\nfor i in range(3): w+=35\\nprint(w)', '167'),\n",
       " ('g=34\\nfor i in range(7): g+=22\\nprint(g)', '188'),\n",
       " ('d=83\\nfor i in range(5): d-=52\\nprint(d)', '-177'),\n",
       " ('o=19\\nfor i in range(5): o-=58\\nprint(o)', '-271'),\n",
       " ('e=19\\nfor i in range(2): e-=68\\nprint(e)', '-117'),\n",
       " ('o=36\\nfor i in range(4): o-=71\\nprint(o)', '-248')]"
      ]
     },
     "execution_count": 13,
     "metadata": {},
     "output_type": "execute_result"
    }
   ],
   "source": [
    "sorted(few_samples, key=lambda x: (len(x[0]), len(x[1])))"
   ]
  },
  {
   "cell_type": "code",
   "execution_count": 14,
   "id": "0939b69b",
   "metadata": {},
   "outputs": [],
   "source": [
    "equal_len_samples = [[('g=61\\nfor i in range(6): g+=48\\nprint(g)', '349'), \n",
    "                     ('r=62\\nfor i in range(5): r+=48\\nprint(r)', '302')],\n",
    "                    [('t=67\\nprint(t)', '67'),\n",
    "                     ('s=12\\nprint(s)', '12'),],\n",
    "                    [('print((54*69))', '3726'),\n",
    "                     ('print((80*57))', '4560'),],\n",
    "                    [('a=36\\nfor i in range(4): a-=96\\nprint(a)', '-348'),\n",
    "                     ('l=24\\nfor i in range(3): l-=74\\nprint(l)', '-198')],\n",
    "                    [('print((6-1))', '5'),\n",
    "                     ('y=0\\nprint(y)', '0')],\n",
    "                    [('l=84\\nfor i in range(0): l+=39\\nprint(l)', '84'),\n",
    "                     ('w=94\\nfor i in range(0): w+=93\\nprint(w)', '94')],\n",
    "                    [('l=74\\nfor i in range(2): l+=51\\nprint(l)', '176'),\n",
    "                     ('y=49\\nfor i in range(7): y+=52\\nprint(y)', '413'),],\n",
    "                    [('print((28 if 77<71 else 42))', '42'),\n",
    "                     ('print((60 if 19<12 else 19))', '19'),],\n",
    "                    [('print((61 if 66<15 else 36))', '36'),\n",
    "                     ('print((21 if 72>50 else 65))', '21'),],\n",
    "                    [('print((35*82))', '2870'),\n",
    "                     ('print((69*18))', '1242')]]"
   ]
  },
  {
   "cell_type": "code",
   "execution_count": 15,
   "id": "cb17bef6",
   "metadata": {},
   "outputs": [],
   "source": [
    "batched_samples = torch.concat([make_tensor(x, token2pos, vocab_size) for x, y in equal_len_samples[0]])\n",
    "batched_targets = torch.concat([make_tensor(y, token2pos, vocab_size) for x, y in equal_len_samples[0]])"
   ]
  },
  {
   "cell_type": "markdown",
   "id": "c01bef33",
   "metadata": {},
   "source": [
    "### Batches"
   ]
  },
  {
   "cell_type": "code",
   "execution_count": 16,
   "id": "fff24fa6",
   "metadata": {},
   "outputs": [],
   "source": [
    "equal_len_tensor_samples = [torch.concat([make_tensor(x, token2pos, vocab_size) for x, y in equal_len_batch])\n",
    "                            for equal_len_batch in equal_len_samples]\n",
    "equal_len_tensor_targets = [torch.concat([make_tensor(y, token2pos, vocab_size) for x, y in equal_len_batch])\n",
    "                            for equal_len_batch in equal_len_samples]"
   ]
  },
  {
   "cell_type": "code",
   "execution_count": 17,
   "id": "63d3ebf2",
   "metadata": {},
   "outputs": [],
   "source": [
    "def get_batch(equal_len_tensor_samples, equal_len_tensor_targets):\n",
    "    i = torch.randint(len(equal_len_samples), (1,)).item()\n",
    "    return (equal_len_tensor_samples[i],\n",
    "            equal_len_tensor_targets[i])"
   ]
  },
  {
   "cell_type": "markdown",
   "id": "39a43f81",
   "metadata": {},
   "source": [
    "### Padded batch"
   ]
  },
  {
   "cell_type": "code",
   "execution_count": 18,
   "id": "64787b67",
   "metadata": {},
   "outputs": [],
   "source": [
    "few_samples = [generate_sample(length=2, nesting=1) for i in range(16)]\n",
    "samples_len = [len(x) for x, y in few_samples]\n",
    "targets_len = [len(y) for x, y in few_samples]"
   ]
  },
  {
   "cell_type": "code",
   "execution_count": 19,
   "id": "5beb298c",
   "metadata": {},
   "outputs": [],
   "source": [
    "tensor_samples = [make_tensor(x, token2pos, vocab_size) for x, y in few_samples]\n",
    "tensor_targets = [make_tensor(y, token2pos, vocab_size) for x, y in few_samples]"
   ]
  },
  {
   "cell_type": "code",
   "execution_count": 20,
   "id": "d40759e6",
   "metadata": {},
   "outputs": [],
   "source": [
    "padded_tensor_samples = [torch.concat((t, torch.zeros((1, max(samples_len)-l, vocab_size))), dim=1)\n",
    "                         for t, l in zip(tensor_samples, samples_len)]\n",
    "padded_samples_batch = torch.concat(padded_tensor_samples)"
   ]
  },
  {
   "cell_type": "code",
   "execution_count": 21,
   "id": "4fd0cb2c",
   "metadata": {},
   "outputs": [],
   "source": [
    "padded_tensor_targets = [torch.concat((t, torch.zeros((1, max(targets_len)-l, vocab_size))), dim=1)\n",
    "                         for t, l in zip(tensor_targets, targets_len)]\n",
    "padded_targets_batch = torch.concat(padded_tensor_targets)"
   ]
  },
  {
   "cell_type": "markdown",
   "id": "ced6624e",
   "metadata": {},
   "source": [
    "### Padded batches"
   ]
  },
  {
   "cell_type": "code",
   "execution_count": 22,
   "id": "1e90550e",
   "metadata": {},
   "outputs": [],
   "source": [
    "def make_padded_batch(tensors, lens):\n",
    "    padded_tensors = [torch.concat((t, torch.zeros((1, max(lens)-l, vocab_size))), dim=1)\n",
    "                      for t, l in zip(tensors, lens)]\n",
    "    return torch.concat(padded_tensors)  # make batch"
   ]
  },
  {
   "cell_type": "code",
   "execution_count": 23,
   "id": "ec14480b",
   "metadata": {},
   "outputs": [],
   "source": [
    "few_batches = [[generate_sample(length=2, nesting=1) for i in range(16)] for j in range(12)]\n",
    "samples_len_batches = [[len(x) for x, y in few_samples] for few_samples in few_batches]\n",
    "targets_len_batches = [[len(y) for x, y in few_samples] for few_samples in few_batches]"
   ]
  },
  {
   "cell_type": "code",
   "execution_count": 24,
   "id": "45e6b5c4",
   "metadata": {},
   "outputs": [],
   "source": [
    "tensor_samples_batches = [[make_tensor(x, token2pos, vocab_size) for x, y in few_samples] for few_samples in few_batches]\n",
    "tensor_targets_batches = [[make_tensor(y, token2pos, vocab_size) for x, y in few_samples] for few_samples in few_batches]"
   ]
  },
  {
   "cell_type": "code",
   "execution_count": 25,
   "id": "b8265447",
   "metadata": {},
   "outputs": [],
   "source": [
    "padded_samples_batches = [make_padded_batch(t, l) for t, l in zip(tensor_samples_batches, samples_len_batches)]\n",
    "padded_targets_batches = [make_padded_batch(t, l) for t, l in zip(tensor_targets_batches, targets_len_batches)]"
   ]
  },
  {
   "cell_type": "code",
   "execution_count": 26,
   "id": "d7461811",
   "metadata": {},
   "outputs": [],
   "source": [
    "def get_padded_batch(padded_samples_batches, padded_targets_batches, samples_len_batches, targets_len_batches):\n",
    "        i = torch.randint(len(padded_samples_batches), (1,)).item()\n",
    "        return (padded_samples_batches[i],\n",
    "                padded_targets_batches[i],\n",
    "                samples_len_batches[i],\n",
    "                targets_len_batches[i])"
   ]
  },
  {
   "cell_type": "markdown",
   "id": "54474f9d",
   "metadata": {},
   "source": [
    "## Model"
   ]
  },
  {
   "cell_type": "code",
   "execution_count": 27,
   "id": "e92518dd",
   "metadata": {},
   "outputs": [],
   "source": [
    "class LSTM(torch.nn.Module):\n",
    "    def __init__(self, input_size, hidden_size, output_size):\n",
    "        super(LSTM, self).__init__()\n",
    "        self.lstm_cell = torch.nn.LSTMCell(\n",
    "            input_size=input_size,\n",
    "            hidden_size=hidden_size)\n",
    "        self.W_o = torch.nn.Parameter(torch.rand(output_size, hidden_size))\n",
    "        self.b_o = torch.nn.Parameter(torch.rand(1))\n",
    "        self.register_buffer(\"h_t\", torch.zeros(16, hidden_size))\n",
    "        self.register_buffer(\"c_t\", torch.zeros(16, hidden_size))\n",
    "    \n",
    "    def forward(self, x, hidden_mask):\n",
    "        self.h_t, self.c_t = self.h_t * hidden_mask, self.c_t * hidden_mask\n",
    "        self.h_t, self.c_t = self.lstm_cell(x, (self.h_t, self.c_t))\n",
    "        return self.h_t @ self.W_o.T + self.b_o\n",
    "    \n",
    "    def detach_states(self):\n",
    "        self.h_t = self.h_t.detach()\n",
    "        self.c_t = self.c_t.detach()\n",
    "        \n",
    "    def set_states(self, h_dict, c_dict):\n",
    "        self.h_t = torch.concat([h for _, h in h_dict.items()])\n",
    "        self.c_t = torch.concat([c for _, c in c_dict.items()])"
   ]
  },
  {
   "cell_type": "code",
   "execution_count": 28,
   "id": "7d6de00a",
   "metadata": {},
   "outputs": [],
   "source": [
    "def train(model, sample, target, loss, opt):\n",
    "    opt.zero_grad()\n",
    "    outputs = []\n",
    "\n",
    "    for char_pos in range(sample.size(1)):\n",
    "        output = model(sample[:, char_pos, :].squeeze())\n",
    "    outputs.append(output)\n",
    "\n",
    "    for char_pos in range(target.size(1) - 1):\n",
    "        output = model(target[:, char_pos, :].squeeze())\n",
    "        outputs.append(output)\n",
    "    \n",
    "    cumulative_loss = 0\n",
    "    for char_pos, output in enumerate(outputs):\n",
    "        cumulative_loss += loss(output, torch.argmax(target[:, char_pos, :].squeeze(), dim=1))\n",
    "    avg_loss = cumulative_loss / len(outputs)\n",
    "\n",
    "    avg_loss.backward()\n",
    "    opt.step()\n",
    "\n",
    "    model.detach_states()\n",
    "    return avg_loss.item()"
   ]
  },
  {
   "cell_type": "code",
   "execution_count": 29,
   "id": "e9ebc4f9",
   "metadata": {},
   "outputs": [],
   "source": [
    "def train_dntm(model, sample, target, loss, opt):\n",
    "    opt.zero_grad()\n",
    "    outputs = []\n",
    "    \n",
    "    model.prepare_for_batch(sample, sample.device)\n",
    "    for char_pos in range(sample.size(1)):\n",
    "        output = model(sample[:, char_pos, :].reshape(sample.size(2), 16))\n",
    "    outputs.append(output)\n",
    "\n",
    "    for char_pos in range(target.size(1) - 1):\n",
    "        output = model(target[:, char_pos, :].reshape(sample.size(2), 16))\n",
    "        outputs.append(output)\n",
    "\n",
    "    cumulative_loss = 0\n",
    "    for char_pos, output in enumerate(outputs):\n",
    "        cumulative_loss += loss(output.squeeze(), torch.argmax(target[:, char_pos, :].squeeze(), dim=1))\n",
    "    avg_loss = cumulative_loss / len(outputs)\n",
    "\n",
    "    avg_loss.backward()\n",
    "    opt.step()\n",
    "\n",
    "    return avg_loss.item()"
   ]
  },
  {
   "cell_type": "code",
   "execution_count": 30,
   "id": "6c57e5af",
   "metadata": {},
   "outputs": [],
   "source": [
    "def reduce_lens(lens):\n",
    "    return [l-1 if l > 0 else l for l in lens]"
   ]
  },
  {
   "cell_type": "code",
   "execution_count": 31,
   "id": "a7e5e737",
   "metadata": {},
   "outputs": [],
   "source": [
    "def get_mask(lens):\n",
    "    return torch.tensor([1 if l > 0 else 0 for l in lens])"
   ]
  },
  {
   "cell_type": "code",
   "execution_count": 32,
   "id": "54815f69",
   "metadata": {},
   "outputs": [],
   "source": [
    "def get_hidden_mask(mask_1d, h_size):\n",
    "    return torch.concat([torch.zeros((1, h_size)) if m == 0 else torch.ones((1, h_size)) for m in mask_1d], dim=0)"
   ]
  },
  {
   "cell_type": "code",
   "execution_count": 33,
   "id": "1f55f81b",
   "metadata": {},
   "outputs": [],
   "source": [
    "def get_reading_mask(mask_1d, mem_size):\n",
    "    return torch.concat([torch.zeros((1, mem_size)) if m == 0 else torch.ones((1, mem_size)) for m in mask_1d], dim=0)"
   ]
  },
  {
   "cell_type": "code",
   "execution_count": 34,
   "id": "9f5a8261",
   "metadata": {},
   "outputs": [],
   "source": [
    "def save_states(model, h_dict, c_dict, samples_len):\n",
    "    target_states = torch.argwhere(get_mask(samples_len) == 0)\n",
    "    for state in target_states:\n",
    "        h_dict.setdefault(state.item(), model.h_t[state, :])\n",
    "        c_dict.setdefault(state.item(), model.c_t[state, :])\n",
    "    return h_dict, c_dict"
   ]
  },
  {
   "cell_type": "code",
   "execution_count": 35,
   "id": "aefa6c03",
   "metadata": {},
   "outputs": [],
   "source": [
    "def save_states_dntm(model, h_dict, samples_len):\n",
    "    target_states = torch.argwhere(get_mask(samples_len) == 0)\n",
    "    for state in target_states:\n",
    "        h_dict.setdefault(state.item(), model.controller_hidden_state[:, state])  # transposed shape\n",
    "    return h_dict"
   ]
  },
  {
   "cell_type": "code",
   "execution_count": 36,
   "id": "195ae937",
   "metadata": {},
   "outputs": [],
   "source": [
    "def train_padded(model, sample, target, samples_len, targets_len, loss, opt):\n",
    "    opt.zero_grad()\n",
    "    outputs = []\n",
    "    h_dict, c_dict = {}, {}\n",
    "    samples_len = samples_len.copy()\n",
    "    targets_len = targets_len.copy()\n",
    "    hid_size = model.h_t.size(1)\n",
    "\n",
    "    for char_pos in range(sample.size(1)):\n",
    "        hidden_mask = get_hidden_mask(get_mask(samples_len), hid_size)\n",
    "        output = model(sample[:, char_pos, :].squeeze(), hidden_mask)\n",
    "        samples_len = reduce_lens(samples_len)\n",
    "        h_dict, c_dict = save_states(model, h_dict, c_dict, samples_len)\n",
    "    outputs.append(output)\n",
    "    \n",
    "    model.set_states(h_dict, c_dict)\n",
    "    \n",
    "    targets_len_copy = targets_len.copy()\n",
    "    for char_pos in range(target.size(1) - 1):\n",
    "        hidden_mask = get_hidden_mask(get_mask(targets_len_copy))\n",
    "        output = model(target[:, char_pos, :].squeeze(), hidden_mask)\n",
    "        targets_len_copy = reduce_lens(targets_len_copy)\n",
    "        outputs.append(output)\n",
    "    \n",
    "    count_nonzero = 0\n",
    "    cumulative_loss = 0\n",
    "    for char_pos, output in enumerate(outputs):\n",
    "        loss_mask = get_mask(targets_len)\n",
    "        targets_len = reduce_lens(targets_len)\n",
    "        char_loss = loss(output, torch.argmax(target[:, char_pos, :].squeeze(), dim=1)) * loss_mask\n",
    "        count_nonzero += (char_loss != 0).sum()\n",
    "        cumulative_loss += torch.sum(char_loss)\n",
    "    avg_loss = cumulative_loss / count_nonzero\n",
    "    \n",
    "    avg_loss.backward()\n",
    "    opt.step()\n",
    "\n",
    "    model.detach_states()\n",
    "    return avg_loss.item()"
   ]
  },
  {
   "cell_type": "code",
   "execution_count": 44,
   "id": "a862c745",
   "metadata": {},
   "outputs": [],
   "source": [
    "def train_dntm_padded(model, sample, target, samples_len, targets_len, loss, opt):\n",
    "    opt.zero_grad()\n",
    "    outputs = []\n",
    "    h_dict = {}\n",
    "    samples_len = samples_len.copy()\n",
    "    targets_len = targets_len.copy()\n",
    "    \n",
    "    model.prepare_for_batch(sample, sample.device)\n",
    "    hid_size = model.controller_hidden_state.size(0)\n",
    "    mem_size = model.memory.overall_memory_size\n",
    "    for char_pos in range(sample.size(1)):\n",
    "        hidden_mask = get_hidden_mask(get_mask(samples_len), hid_size)\n",
    "        reading_mask = get_reading_mask(get_mask(samples_len), mem_size)\n",
    "        output = model(sample[:, char_pos, :].reshape(sample.size(2), 16), hidden_mask, reading_mask)\n",
    "        samples_len = reduce_lens(samples_len)\n",
    "        h_dict = save_states_dntm(model, h_dict, samples_len)\n",
    "    outputs.append(output)\n",
    "    \n",
    "    model.set_states(h_dict)\n",
    "\n",
    "    targets_len_copy = targets_len.copy()\n",
    "    for char_pos in range(target.size(1) - 1):\n",
    "        hidden_mask = get_hidden_mask(get_mask(targets_len_copy), hid_size)\n",
    "        reading_mask = get_reading_mask(get_mask(samples_len), mem_size)\n",
    "        output = model(target[:, char_pos, :].reshape(sample.size(2), 16), hidden_mask, reading_mask)\n",
    "        targets_len_copy = reduce_lens(targets_len_copy)\n",
    "        outputs.append(output)\n",
    "\n",
    "    count_nonzero = 0\n",
    "    cumulative_loss = 0\n",
    "    for char_pos, output in enumerate(outputs):\n",
    "        loss_mask = get_mask(targets_len)\n",
    "        targets_len = reduce_lens(targets_len)\n",
    "        char_loss = loss(output.squeeze(), torch.argmax(target[:, char_pos, :].squeeze(), dim=1)) * loss_mask\n",
    "        count_nonzero += (char_loss != 0).sum()\n",
    "        cumulative_loss += torch.sum(char_loss)\n",
    "    avg_loss = cumulative_loss / count_nonzero\n",
    "\n",
    "    avg_loss.backward()\n",
    "    opt.step()\n",
    "\n",
    "    return avg_loss.item()"
   ]
  },
  {
   "cell_type": "code",
   "execution_count": 38,
   "id": "e475bd5b",
   "metadata": {},
   "outputs": [],
   "source": [
    "model = LSTM(\n",
    "    input_size=vocab_size,\n",
    "    hidden_size=100,\n",
    "    output_size=vocab_size)"
   ]
  },
  {
   "cell_type": "code",
   "execution_count": 46,
   "id": "26d2691f",
   "metadata": {},
   "outputs": [],
   "source": [
    "dntm_memory = DynamicNeuralTuringMachineMemory(\n",
    "        n_locations=100,\n",
    "        content_size=8,\n",
    "        address_size=8,\n",
    "        controller_input_size=vocab_size,\n",
    "        controller_hidden_state_size=100,\n",
    "    )"
   ]
  },
  {
   "cell_type": "code",
   "execution_count": 47,
   "id": "f1ae792e",
   "metadata": {},
   "outputs": [],
   "source": [
    "dntm = DynamicNeuralTuringMachine(\n",
    "    memory=dntm_memory,\n",
    "    controller_hidden_state_size=100,\n",
    "    controller_input_size=vocab_size,\n",
    "    controller_output_size=vocab_size,\n",
    ")"
   ]
  },
  {
   "cell_type": "code",
   "execution_count": 48,
   "id": "e2f2d67b",
   "metadata": {},
   "outputs": [],
   "source": [
    "model = dntm"
   ]
  },
  {
   "cell_type": "markdown",
   "id": "e235cbcb",
   "metadata": {},
   "source": [
    "## Train"
   ]
  },
  {
   "cell_type": "code",
   "execution_count": 49,
   "id": "948551f1",
   "metadata": {},
   "outputs": [],
   "source": [
    "loss = torch.nn.CrossEntropyLoss()\n",
    "opt = torch.optim.Adam(model.parameters(), lr=0.001)\n",
    "MAX_ITER = 1000"
   ]
  },
  {
   "cell_type": "code",
   "execution_count": 173,
   "id": "2af19a1f",
   "metadata": {
    "collapsed": true
   },
   "outputs": [
    {
     "ename": "NameError",
     "evalue": "name 'get_batch' is not defined",
     "output_type": "error",
     "traceback": [
      "\u001b[0;31m---------------------------------------------------------------------------\u001b[0m",
      "\u001b[0;31mNameError\u001b[0m                                 Traceback (most recent call last)",
      "Cell \u001b[0;32mIn [173], line 3\u001b[0m\n\u001b[1;32m      1\u001b[0m loss_values \u001b[38;5;241m=\u001b[39m []\n\u001b[1;32m      2\u001b[0m \u001b[38;5;28;01mfor\u001b[39;00m step \u001b[38;5;129;01min\u001b[39;00m \u001b[38;5;28mrange\u001b[39m(MAX_ITER):\n\u001b[0;32m----> 3\u001b[0m     batched_samples, batched_targets \u001b[38;5;241m=\u001b[39m get_batch(equal_len_tensor_samples, equal_len_tensor_targets)\n\u001b[1;32m      4\u001b[0m     loss_values\u001b[38;5;241m.\u001b[39mappend(train(model, batched_samples, batched_targets, loss, opt))\n",
      "\u001b[0;31mNameError\u001b[0m: name 'get_batch' is not defined"
     ]
    }
   ],
   "source": [
    "loss_values = []\n",
    "for step in range(MAX_ITER):\n",
    "    batched_samples, batched_targets = get_batch(equal_len_tensor_samples, equal_len_tensor_targets)\n",
    "    loss_values.append(train(model, batched_samples, batched_targets, loss, opt))"
   ]
  },
  {
   "cell_type": "code",
   "execution_count": 45,
   "id": "14a1769d",
   "metadata": {
    "scrolled": true
   },
   "outputs": [],
   "source": [
    "loss = torch.nn.CrossEntropyLoss(reduction='none')\n",
    "loss_values = []\n",
    "for step in range(MAX_ITER):\n",
    "    (padded_samples_batch, padded_targets_batch,\n",
    "     samples_len, targets_len) = get_padded_batch(padded_samples_batches, padded_targets_batches,\n",
    "                                                  samples_len_batches, targets_len_batches)\n",
    "    loss_values.append(train_padded(model, padded_samples_batch, padded_targets_batch, samples_len, targets_len, loss, opt))"
   ]
  },
  {
   "cell_type": "code",
   "execution_count": 46,
   "id": "a005e262",
   "metadata": {
    "collapsed": true
   },
   "outputs": [
    {
     "ename": "KeyboardInterrupt",
     "evalue": "",
     "output_type": "error",
     "traceback": [
      "\u001b[0;31m---------------------------------------------------------------------------\u001b[0m",
      "\u001b[0;31mKeyboardInterrupt\u001b[0m                         Traceback (most recent call last)",
      "Cell \u001b[0;32mIn [46], line 7\u001b[0m\n\u001b[1;32m      2\u001b[0m \u001b[38;5;28;01mfor\u001b[39;00m step \u001b[38;5;129;01min\u001b[39;00m \u001b[38;5;28mrange\u001b[39m(MAX_ITER):\n\u001b[1;32m      3\u001b[0m     \u001b[38;5;66;03m# x_t, y_t = get_sample(few_tensor_samples)\u001b[39;00m\n\u001b[1;32m      4\u001b[0m     \u001b[38;5;66;03m# batched_samples, batched_targets = get_batch(equal_len_tensor_samples, equal_len_tensor_targets)\u001b[39;00m\n\u001b[1;32m      5\u001b[0m     batched_samples, batched_targets, _, _ \u001b[38;5;241m=\u001b[39m get_padded_batch(padded_samples_batches, padded_targets_batches,\n\u001b[1;32m      6\u001b[0m                                                               samples_len_batches, targets_len_batches)\n\u001b[0;32m----> 7\u001b[0m     loss_values\u001b[38;5;241m.\u001b[39mappend(train_dntm(model, batched_samples, batched_targets, loss, opt))\n",
      "Cell \u001b[0;32mIn [41], line 19\u001b[0m, in \u001b[0;36mtrain_dntm\u001b[0;34m(model, sample, target, loss, opt)\u001b[0m\n\u001b[1;32m     16\u001b[0m     cumulative_loss \u001b[38;5;241m+\u001b[39m\u001b[38;5;241m=\u001b[39m loss(output\u001b[38;5;241m.\u001b[39msqueeze(), torch\u001b[38;5;241m.\u001b[39margmax(target[:, char_pos, :]\u001b[38;5;241m.\u001b[39msqueeze(), dim\u001b[38;5;241m=\u001b[39m\u001b[38;5;241m1\u001b[39m))\n\u001b[1;32m     17\u001b[0m avg_loss \u001b[38;5;241m=\u001b[39m cumulative_loss \u001b[38;5;241m/\u001b[39m \u001b[38;5;28mlen\u001b[39m(outputs)\n\u001b[0;32m---> 19\u001b[0m \u001b[43mavg_loss\u001b[49m\u001b[38;5;241;43m.\u001b[39;49m\u001b[43mbackward\u001b[49m\u001b[43m(\u001b[49m\u001b[43m)\u001b[49m\n\u001b[1;32m     20\u001b[0m opt\u001b[38;5;241m.\u001b[39mstep()\n\u001b[1;32m     22\u001b[0m \u001b[38;5;28;01mreturn\u001b[39;00m avg_loss\u001b[38;5;241m.\u001b[39mitem()\n",
      "File \u001b[0;32m~/miniconda3/envs/lte/lib/python3.10/site-packages/torch/_tensor.py:396\u001b[0m, in \u001b[0;36mTensor.backward\u001b[0;34m(self, gradient, retain_graph, create_graph, inputs)\u001b[0m\n\u001b[1;32m    387\u001b[0m \u001b[38;5;28;01mif\u001b[39;00m has_torch_function_unary(\u001b[38;5;28mself\u001b[39m):\n\u001b[1;32m    388\u001b[0m     \u001b[38;5;28;01mreturn\u001b[39;00m handle_torch_function(\n\u001b[1;32m    389\u001b[0m         Tensor\u001b[38;5;241m.\u001b[39mbackward,\n\u001b[1;32m    390\u001b[0m         (\u001b[38;5;28mself\u001b[39m,),\n\u001b[0;32m   (...)\u001b[0m\n\u001b[1;32m    394\u001b[0m         create_graph\u001b[38;5;241m=\u001b[39mcreate_graph,\n\u001b[1;32m    395\u001b[0m         inputs\u001b[38;5;241m=\u001b[39minputs)\n\u001b[0;32m--> 396\u001b[0m \u001b[43mtorch\u001b[49m\u001b[38;5;241;43m.\u001b[39;49m\u001b[43mautograd\u001b[49m\u001b[38;5;241;43m.\u001b[39;49m\u001b[43mbackward\u001b[49m\u001b[43m(\u001b[49m\u001b[38;5;28;43mself\u001b[39;49m\u001b[43m,\u001b[49m\u001b[43m \u001b[49m\u001b[43mgradient\u001b[49m\u001b[43m,\u001b[49m\u001b[43m \u001b[49m\u001b[43mretain_graph\u001b[49m\u001b[43m,\u001b[49m\u001b[43m \u001b[49m\u001b[43mcreate_graph\u001b[49m\u001b[43m,\u001b[49m\u001b[43m \u001b[49m\u001b[43minputs\u001b[49m\u001b[38;5;241;43m=\u001b[39;49m\u001b[43minputs\u001b[49m\u001b[43m)\u001b[49m\n",
      "File \u001b[0;32m~/miniconda3/envs/lte/lib/python3.10/site-packages/torch/autograd/__init__.py:173\u001b[0m, in \u001b[0;36mbackward\u001b[0;34m(tensors, grad_tensors, retain_graph, create_graph, grad_variables, inputs)\u001b[0m\n\u001b[1;32m    168\u001b[0m     retain_graph \u001b[38;5;241m=\u001b[39m create_graph\n\u001b[1;32m    170\u001b[0m \u001b[38;5;66;03m# The reason we repeat same the comment below is that\u001b[39;00m\n\u001b[1;32m    171\u001b[0m \u001b[38;5;66;03m# some Python versions print out the first line of a multi-line function\u001b[39;00m\n\u001b[1;32m    172\u001b[0m \u001b[38;5;66;03m# calls in the traceback and some print out the last line\u001b[39;00m\n\u001b[0;32m--> 173\u001b[0m \u001b[43mVariable\u001b[49m\u001b[38;5;241;43m.\u001b[39;49m\u001b[43m_execution_engine\u001b[49m\u001b[38;5;241;43m.\u001b[39;49m\u001b[43mrun_backward\u001b[49m\u001b[43m(\u001b[49m\u001b[43m  \u001b[49m\u001b[38;5;66;43;03m# Calls into the C++ engine to run the backward pass\u001b[39;49;00m\n\u001b[1;32m    174\u001b[0m \u001b[43m    \u001b[49m\u001b[43mtensors\u001b[49m\u001b[43m,\u001b[49m\u001b[43m \u001b[49m\u001b[43mgrad_tensors_\u001b[49m\u001b[43m,\u001b[49m\u001b[43m \u001b[49m\u001b[43mretain_graph\u001b[49m\u001b[43m,\u001b[49m\u001b[43m \u001b[49m\u001b[43mcreate_graph\u001b[49m\u001b[43m,\u001b[49m\u001b[43m \u001b[49m\u001b[43minputs\u001b[49m\u001b[43m,\u001b[49m\n\u001b[1;32m    175\u001b[0m \u001b[43m    \u001b[49m\u001b[43mallow_unreachable\u001b[49m\u001b[38;5;241;43m=\u001b[39;49m\u001b[38;5;28;43;01mTrue\u001b[39;49;00m\u001b[43m,\u001b[49m\u001b[43m \u001b[49m\u001b[43maccumulate_grad\u001b[49m\u001b[38;5;241;43m=\u001b[39;49m\u001b[38;5;28;43;01mTrue\u001b[39;49;00m\u001b[43m)\u001b[49m\n",
      "\u001b[0;31mKeyboardInterrupt\u001b[0m: "
     ]
    }
   ],
   "source": [
    "loss_values = []\n",
    "for step in range(MAX_ITER):\n",
    "    # x_t, y_t = get_sample(few_tensor_samples)\n",
    "    batched_samples, batched_targets = get_batch(equal_len_tensor_samples, equal_len_tensor_targets)\n",
    "    loss_values.append(train_dntm(model, batched_samples, batched_targets, loss, opt))"
   ]
  },
  {
   "cell_type": "code",
   "execution_count": 50,
   "id": "13ba11db",
   "metadata": {},
   "outputs": [
    {
     "name": "stdout",
     "output_type": "stream",
     "text": [
      "**********"
     ]
    }
   ],
   "source": [
    "loss_values = []\n",
    "for step in range(MAX_ITER):\n",
    "    (batched_samples, batched_targets,\n",
    "     samples_len, targets_len) = get_padded_batch(padded_samples_batches, padded_targets_batches,\n",
    "                                                  samples_len_batches, targets_len_batches)\n",
    "    loss_values.append(train_dntm_padded(model, batched_samples, batched_targets, samples_len, targets_len, loss, opt))\n",
    "    if step % 100 == 0: print(\"*\", end='')  "
   ]
  },
  {
   "cell_type": "code",
   "execution_count": 51,
   "id": "7b3035d3",
   "metadata": {},
   "outputs": [
    {
     "data": {
      "image/png": "[encoded data removed]",
      "text/plain": [
       "<Figure size 640x480 with 1 Axes>"
      ]
     },
     "metadata": {},
     "output_type": "display_data"
    }
   ],
   "source": [
    "AxesSubplot = sns.lineplot(loss_values)\n",
    "# _ = AxesSubplot.set(title=f\"{x} {y}\")"
   ]
  },
  {
   "cell_type": "markdown",
   "id": "1f170f5e",
   "metadata": {},
   "source": [
    "Expected cross-entropy value with random prediction:"
   ]
  },
  {
   "cell_type": "code",
   "execution_count": 200,
   "id": "edfa3eff",
   "metadata": {},
   "outputs": [
    {
     "data": {
      "text/plain": [
       "tensor(3.8501)"
      ]
     },
     "execution_count": 200,
     "metadata": {},
     "output_type": "execute_result"
    }
   ],
   "source": [
    "torch.log(torch.tensor(vocab_size))"
   ]
  },
  {
   "cell_type": "markdown",
   "id": "7286df1c",
   "metadata": {},
   "source": [
    "## Eval"
   ]
  },
  {
   "cell_type": "code",
   "execution_count": 201,
   "id": "f837d518",
   "metadata": {},
   "outputs": [],
   "source": [
    "def target_tensors_to_str(y_t):\n",
    "    idx_outputs = [torch.argmax(o).item() for o in y_t]\n",
    "    return ''.join([pos2token[idx] for idx in idx_outputs])"
   ]
  },
  {
   "cell_type": "code",
   "execution_count": 152,
   "id": "a79e3fed",
   "metadata": {},
   "outputs": [],
   "source": [
    "# LSTM\n",
    "sample, target = x_t, y_t\n",
    "\n",
    "outputs = []\n",
    "for char_pos in range(sample.size(1)):\n",
    "    output = model(sample[:, char_pos, :].squeeze())\n",
    "outputs.append(output)\n",
    "\n",
    "for char_pos in range(target.size(1) - 1):\n",
    "    output = model(target[:, char_pos, :].squeeze())\n",
    "    outputs.append(output)"
   ]
  },
  {
   "cell_type": "code",
   "execution_count": 217,
   "id": "5aa4e367",
   "metadata": {},
   "outputs": [],
   "source": [
    "# D-NTM\n",
    "sample, target = get_sample(few_tensor_samples)\n",
    "\n",
    "outputs = []\n",
    "model.prepare_for_batch(sample, sample.device)\n",
    "for char_pos in range(sample.size(1)):\n",
    "    output = model(sample[:, char_pos, :].view(sample.size(2), 1))\n",
    "outputs.append(output)\n",
    "\n",
    "for char_pos in range(target.size(1) - 1):\n",
    "    output = model(target[:, char_pos, :].view(sample.size(2), 1))\n",
    "    outputs.append(output)\n",
    "\n",
    "outputs = [o.squeeze() for o in outputs]"
   ]
  },
  {
   "cell_type": "code",
   "execution_count": 218,
   "id": "4253a993",
   "metadata": {},
   "outputs": [
    {
     "data": {
      "text/plain": [
       "'41'"
      ]
     },
     "execution_count": 218,
     "metadata": {},
     "output_type": "execute_result"
    }
   ],
   "source": [
    "target_tensors_to_str(outputs)"
   ]
  },
  {
   "cell_type": "code",
   "execution_count": 219,
   "id": "e7f3ffbe",
   "metadata": {},
   "outputs": [
    {
     "data": {
      "text/plain": [
       "'41'"
      ]
     },
     "execution_count": 219,
     "metadata": {},
     "output_type": "execute_result"
    }
   ],
   "source": [
    "targets = [target[:, i, :].squeeze() for i in range(target.size(1))]\n",
    "target_tensors_to_str(targets)"
   ]
  }
 ],
 "metadata": {
  "kernelspec": {
   "display_name": "lte",
   "language": "python",
   "name": "lte"
  },
  "language_info": {
   "codemirror_mode": {
    "name": "ipython",
    "version": 3
   },
   "file_extension": ".py",
   "mimetype": "text/x-python",
   "name": "python",
   "nbconvert_exporter": "python",
   "pygments_lexer": "ipython3",
   "version": "3.10.6"
  }
 },
 "nbformat": 4,
 "nbformat_minor": 5
}
