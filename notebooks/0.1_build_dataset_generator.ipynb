{
 "cells": [
  {
   "cell_type": "code",
   "execution_count": 89,
   "id": "e204c3da",
   "metadata": {},
   "outputs": [],
   "source": [
    "import numpy as np"
   ]
  },
  {
   "cell_type": "code",
   "execution_count": 2,
   "id": "f164d5ec",
   "metadata": {},
   "outputs": [],
   "source": [
    "class Addition:\n",
    "    def __init__(self):\n",
    "        self.operands = 2\n",
    "        \n",
    "    def evaluate(self, values):\n",
    "        op1, op2 = values\n",
    "        return op1 + op2\n",
    "    \n",
    "    def generate_code(self, codes):\n",
    "        code_op1, code_op2 = codes\n",
    "        return \"(\" + str(code_op1) + \"+\" + str(code_op2) + \")\""
   ]
  },
  {
   "cell_type": "code",
   "execution_count": 3,
   "id": "05e1cb12",
   "metadata": {},
   "outputs": [],
   "source": [
    "class Subtraction:\n",
    "    def __init__(self):\n",
    "        self.operands = 2\n",
    "    \n",
    "    def evaluate(self, values):\n",
    "        op1, op2 = values\n",
    "        return op1 - op2\n",
    "\n",
    "    def generate_code(self, codes):\n",
    "        code_op1, code_op2 = codes\n",
    "        return \"(\" + str(code_op1) + \"-\" + str(code_op2) + \")\""
   ]
  },
  {
   "cell_type": "code",
   "execution_count": 4,
   "id": "b8a67ede",
   "metadata": {},
   "outputs": [],
   "source": [
    "class Multiplication:\n",
    "    def __init__(self):\n",
    "        self.operands = 2\n",
    "    \n",
    "    def evaluate(self, values):\n",
    "        op1, op2 = values\n",
    "        return op1 * op2\n",
    "\n",
    "    def generate_code(self, codes):\n",
    "        code_op1, code_op2 = codes\n",
    "        return \"(\" + str(code_op1) + \"*\" + str(code_op2) + \")\""
   ]
  },
  {
   "cell_type": "code",
   "execution_count": 61,
   "id": "89764d26",
   "metadata": {},
   "outputs": [],
   "source": [
    "class Assignment:\n",
    "    def __init__(self, used_letters):\n",
    "        self.operands = 1\n",
    "        self.used_letters = used_letters\n",
    "    \n",
    "    def evaluate(self, values):\n",
    "        return values[0]\n",
    "    \n",
    "    def generate_code(self, codes):\n",
    "        letter = np.random.randint(len(self.used_letters))\n",
    "        letter_code = self.used_letters.pop(letter)\n",
    "        valueless_code = letter_code + '=' + str(values[0])\n",
    "        print(valueless_code)\n",
    "        return letter_code, valueless_code"
   ]
  },
  {
   "cell_type": "code",
   "execution_count": 6,
   "id": "649d89c4",
   "metadata": {},
   "outputs": [],
   "source": [
    "class IfStatement:\n",
    "    def __init__(self):\n",
    "        self.operands = 4\n",
    "        self.geq = True\n",
    "        \n",
    "    def evaluate(self, values):\n",
    "        op1, op2, res1, res2 = values\n",
    "        self.geq = True if np.random.rand() > 0.5 else False\n",
    "        if self.geq:\n",
    "            if op1 > op2:\n",
    "                return res1\n",
    "            else:\n",
    "                return res2\n",
    "        else:\n",
    "            if op1 < op2:\n",
    "                return res1\n",
    "            else:\n",
    "                return res2\n",
    "        \n",
    "    def generate_code(self, codes):\n",
    "        code_op1, code_op2, code_res1, code_res2 = codes\n",
    "        op = \">\" if self.geq else \"<\"\n",
    "        return \"(\" + code_res1 + \" if \" + code_op1 + op + code_op2 + \" else \" + code_res2 + \")\""
   ]
  },
  {
   "cell_type": "code",
   "execution_count": 60,
   "id": "9785ed25",
   "metadata": {},
   "outputs": [],
   "source": [
    "class ForLoop:\n",
    "    def __init__(self, used_letters, length):\n",
    "        self.operands = 1\n",
    "        self.sum = True\n",
    "        self.length = length\n",
    "        self.used_letters = used_letters\n",
    "        \n",
    "    def _set_accumulator(self):\n",
    "        letter = np.random.randint(len(self.used_letters))\n",
    "        self.accumulator_code = self.used_letters.pop(letter)\n",
    "        self.accumulator_value = np.random.randint(10**self.length)\n",
    "        \n",
    "    def evaluate(self, values):\n",
    "        self._set_accumulator()\n",
    "        self.num_loops = np.random.randint(4*self.length)\n",
    "        self.sum = True if np.random.rand() > 0.5 else False\n",
    "        accumulator = self.accumulator_value\n",
    "        if self.sum:\n",
    "            for l in range(self.num_loops):\n",
    "                accumulator += values[0]\n",
    "        else:\n",
    "            for l in range(self.num_loops):\n",
    "                accumulator -= values[0]\n",
    "        return accumulator\n",
    "    \n",
    "    def generate_code(self, codes):\n",
    "        op = \"+=\" if self.sum else \"-=\"\n",
    "        valueless_code = self.accumulator_code + \"=\" + str(self.accumulator_value) + \"\\n\" + \\\n",
    "                        \"for i in range(\" + str(self.num_loops) + \"): \" + \\\n",
    "                        self.accumulator_code + op + codes[0]\n",
    "        print(valueless_code)\n",
    "        return self.accumulator_code, valueless_code"
   ]
  },
  {
   "cell_type": "code",
   "execution_count": 8,
   "id": "c6e6baff",
   "metadata": {},
   "outputs": [],
   "source": [
    "nesting = 6\n",
    "length = 3"
   ]
  },
  {
   "cell_type": "code",
   "execution_count": 98,
   "id": "efe65f65",
   "metadata": {},
   "outputs": [],
   "source": [
    "def generate_sample(lenght, nesting):\n",
    "    used_letters = list(\"abcdefghjklmnopqrstuvwxyz\")\n",
    "    stack = []\n",
    "    ops = [Addition(), Subtraction(), Multiplication(), Assignment(used_letters),\n",
    "           IfStatement(), ForLoop(used_letters, length)]\n",
    "    program = ''\n",
    "    \n",
    "    for i in range(nesting):\n",
    "        op = ops[np.random.randint(len(ops))]\n",
    "        values = []\n",
    "        codes = []\n",
    "\n",
    "        for param in range(op.operands):\n",
    "            if not len(stack) == 0 and np.random.rand() > 0.5:\n",
    "                value, code = stack.pop()\n",
    "            else:\n",
    "                value = np.random.randint(10**length)\n",
    "                code = str(value)\n",
    "            values.append(value)\n",
    "            codes.append(code)\n",
    "        new_value = op.evaluate(values)\n",
    "        if isinstance(op, Assignment) or isinstance(op, ForLoop):\n",
    "            new_code, valueless_code = op.generate_code(codes)\n",
    "            program += valueless_code + '\\n'\n",
    "        else:\n",
    "            new_code = op.generate_code(codes)\n",
    "        stack.append((new_value, new_code))\n",
    "    final_value, final_code = stack.pop()\n",
    "    program += \"print(\" + final_code + \")\"\n",
    "    print(\"print(\" + final_code + \")\")\n",
    "    return program, final_value"
   ]
  },
  {
   "cell_type": "code",
   "execution_count": 121,
   "id": "fa0b6af5",
   "metadata": {
    "scrolled": false
   },
   "outputs": [
    {
     "name": "stdout",
     "output_type": "stream",
     "text": [
      "f=301\n",
      "p=663\n",
      "for i in range(6): p-=976\n",
      "print((710*(213*774)))\n"
     ]
    }
   ],
   "source": [
    "code, value = generate_sample(length, nesting)"
   ]
  },
  {
   "cell_type": "markdown",
   "id": "a376fdf9",
   "metadata": {},
   "source": [
    "Check statement value:"
   ]
  },
  {
   "cell_type": "code",
   "execution_count": 132,
   "id": "f782d593",
   "metadata": {},
   "outputs": [
    {
     "name": "stdout",
     "output_type": "stream",
     "text": [
      "f=301\n",
      "p=663\n",
      "for i in range(6): p-=976\n",
      "print((710*(213*774)))\n",
      "\n",
      "117052020\n",
      "117052020\n"
     ]
    }
   ],
   "source": [
    "print(code)\n",
    "print()\n",
    "exec(code)\n",
    "print(value)"
   ]
  }
 ],
 "metadata": {
  "kernelspec": {
   "display_name": "lte",
   "language": "python",
   "name": "lte"
  },
  "language_info": {
   "codemirror_mode": {
    "name": "ipython",
    "version": 3
   },
   "file_extension": ".py",
   "mimetype": "text/x-python",
   "name": "python",
   "nbconvert_exporter": "python",
   "pygments_lexer": "ipython3",
   "version": "3.10.6"
  }
 },
 "nbformat": 4,
 "nbformat_minor": 5
}
