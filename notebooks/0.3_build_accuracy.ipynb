{
 "cells": [
  {
   "cell_type": "code",
   "execution_count": 20,
   "id": "14cbda44",
   "metadata": {},
   "outputs": [],
   "source": [
    "from data.generator import generate_batch, get_vocab_size\n",
    "from model.lstm import LSTM\n",
    "from utils.rnn_utils import get_mask, get_hidden_mask, reduce_lens, save_states, populate_first_output, build_first_output\n",
    "from pdb import set_trace\n",
    "\n",
    "import torch\n",
    "import seaborn as sns"
   ]
  },
  {
   "cell_type": "code",
   "execution_count": 2,
   "id": "b13e60ec",
   "metadata": {},
   "outputs": [],
   "source": [
    "MAX_ITER = 1000\n",
    "BS = 32\n",
    "LR = 0.001\n",
    "LEN = 1\n",
    "NES = 1\n",
    "HID_SIZE = 100\n",
    "DEVICE = 'cuda'"
   ]
  },
  {
   "cell_type": "code",
   "execution_count": 38,
   "id": "cb3d9854",
   "metadata": {},
   "outputs": [],
   "source": [
    "model = LSTM(\n",
    "    input_size=get_vocab_size(),\n",
    "    hidden_size=HID_SIZE,\n",
    "    output_size=get_vocab_size(),\n",
    "    batch_size=BS).to(DEVICE)\n",
    "\n",
    "loss = torch.nn.CrossEntropyLoss(reduction='none')\n",
    "opt = torch.optim.Adam(model.parameters(), lr=LR)"
   ]
  },
  {
   "cell_type": "code",
   "execution_count": 39,
   "id": "a7950823",
   "metadata": {},
   "outputs": [],
   "source": [
    "padded_samples_batch, padded_targets_batch, samples_len, targets_len = generate_batch(length=LEN, nesting=NES, batch_size=BS)\n",
    "padded_samples_batch, padded_targets_batch = padded_samples_batch.to(DEVICE), padded_targets_batch.to(DEVICE)"
   ]
  },
  {
   "cell_type": "code",
   "execution_count": 40,
   "id": "4bff6ae8",
   "metadata": {},
   "outputs": [],
   "source": [
    "def batch_acc(outputs, target, loss_masks):\n",
    "    masked_outputs = torch.concat(\n",
    "        [(output.argmax(dim=1)*mask).unsqueeze(dim=1) for output, mask in zip(outputs, loss_masks)], dim=1)\n",
    "    not_valid_outputs = sum([sum(mask == False) for mask in loss_masks])\n",
    "    valid_outputs = sum([sum(mask == True) for mask in loss_masks])\n",
    "    outputs_equal_to_targets = (masked_outputs == target.argmax(dim=2)).sum()\n",
    "    return (outputs_equal_to_targets - not_valid_outputs)/valid_outputs"
   ]
  },
  {
   "cell_type": "code",
   "execution_count": 45,
   "id": "fd9378d4",
   "metadata": {},
   "outputs": [],
   "source": [
    "def batch_acc(outputs, targets, vocab_size):\n",
    "    idx_pad = vocab_size - 1\n",
    "    idx_targets = targets.argmax(dim=-1)\n",
    "    mask = (idx_targets != idx_pad).type(torch.int32)\n",
    "    tensor_outs = torch.concat([o.unsqueeze(1) for o in outputs], dim=1)\n",
    "    idx_outs = tensor_outs.argmax(dim=-1)\n",
    "    out_equal_target = (idx_outs == idx_targets).type(torch.int32)\n",
    "    masked_out_equal_target = out_equal_target * mask\n",
    "    num_masked = (mask == 0).sum()\n",
    "    num_targets = idx_targets.size(0) * idx_targets.size(1)\n",
    "    return masked_out_equal_target.sum() / (num_targets - num_masked)"
   ]
  },
  {
   "cell_type": "code",
   "execution_count": 46,
   "id": "cb8d6837",
   "metadata": {},
   "outputs": [],
   "source": [
    "def step(model, sample, target, samples_len, targets_len, loss, opt, device):\n",
    "    opt.zero_grad()\n",
    "    model.train()\n",
    "    outputs = []\n",
    "    first_output = {}\n",
    "    h_dict, c_dict = {1: {}, 2: {}}, {1: {}, 2: {}}\n",
    "    samples_len = samples_len.copy()\n",
    "    targets_len = targets_len.copy()\n",
    "    hid_size = model.h_t_1.size(1)\n",
    "\n",
    "    for char_pos in range(sample.size(1)):\n",
    "        hidden_mask = get_hidden_mask(samples_len, hid_size, device)\n",
    "        output = model(sample[:, char_pos, :].squeeze(), hidden_mask)\n",
    "        samples_len = reduce_lens(samples_len)\n",
    "        h_dict, c_dict = save_states(model, h_dict, c_dict, samples_len)\n",
    "        first_output = populate_first_output(output, samples_len, first_output)\n",
    "    outputs.append(build_first_output(first_output))\n",
    "\n",
    "    model.set_states(h_dict, c_dict)\n",
    "\n",
    "    targets_len_copy = targets_len.copy()\n",
    "    for char_pos in range(target.size(1) - 1):\n",
    "        hidden_mask = get_hidden_mask(targets_len_copy, hid_size, device)\n",
    "        output = model(target[:, char_pos, :].squeeze(), hidden_mask)\n",
    "        targets_len_copy = reduce_lens(targets_len_copy)\n",
    "        outputs.append(output)\n",
    "\n",
    "    count_nonzero = 0\n",
    "    cumulative_loss = 0\n",
    "    loss_masks = []\n",
    "    for char_pos, output in enumerate(outputs):\n",
    "        loss_masks.append(get_mask(targets_len, device))\n",
    "        targets_len = reduce_lens(targets_len)\n",
    "        char_loss = loss(output, torch.argmax(target[:, char_pos, :].squeeze(), dim=1)) * loss_masks[-1]\n",
    "        count_nonzero += (char_loss != 0).sum()\n",
    "        cumulative_loss += torch.sum(char_loss)\n",
    "    avg_loss = cumulative_loss / count_nonzero\n",
    "    acc = batch_acc(outputs, target, get_vocab_size())\n",
    "    \n",
    "    avg_loss.backward()\n",
    "    opt.step()\n",
    "\n",
    "    model.detach_states()\n",
    "    return avg_loss.item(), acc.item()"
   ]
  },
  {
   "cell_type": "code",
   "execution_count": 47,
   "id": "38fb1d20",
   "metadata": {},
   "outputs": [],
   "source": [
    "loss_values = []\n",
    "acc_values = []"
   ]
  },
  {
   "cell_type": "code",
   "execution_count": 48,
   "id": "4cd2b109",
   "metadata": {},
   "outputs": [
    {
     "name": "stdout",
     "output_type": "stream",
     "text": [
      "0123456789"
     ]
    }
   ],
   "source": [
    "for i in range(MAX_ITER):\n",
    "    loss_value, acc_value = step(model, padded_samples_batch, padded_targets_batch, samples_len, targets_len, loss, opt, DEVICE)\n",
    "    loss_values.append(loss_value)\n",
    "    acc_values.append(acc_value)\n",
    "    if i % 100 == 0: print(int(i//100), end='')"
   ]
  },
  {
   "cell_type": "code",
   "execution_count": 49,
   "id": "7927b368",
   "metadata": {},
   "outputs": [
    {
     "data": {
      "image/png": "[encoded data removed]",
      "text/plain": [
       "<Figure size 640x480 with 1 Axes>"
      ]
     },
     "metadata": {},
     "output_type": "display_data"
    }
   ],
   "source": [
    "_ = sns.lineplot(loss_values)"
   ]
  },
  {
   "cell_type": "code",
   "execution_count": 50,
   "id": "520f1441",
   "metadata": {},
   "outputs": [
    {
     "data": {
      "image/png": "[encoded data removed]",
      "text/plain": [
       "<Figure size 640x480 with 1 Axes>"
      ]
     },
     "metadata": {},
     "output_type": "display_data"
    }
   ],
   "source": [
    "_ = sns.lineplot(acc_values)"
   ]
  }
 ],
 "metadata": {
  "kernelspec": {
   "display_name": "lte",
   "language": "python",
   "name": "lte"
  },
  "language_info": {
   "codemirror_mode": {
    "name": "ipython",
    "version": 3
   },
   "file_extension": ".py",
   "mimetype": "text/x-python",
   "name": "python",
   "nbconvert_exporter": "python",
   "pygments_lexer": "ipython3",
   "version": "3.10.6"
  }
 },
 "nbformat": 4,
 "nbformat_minor": 5
}
