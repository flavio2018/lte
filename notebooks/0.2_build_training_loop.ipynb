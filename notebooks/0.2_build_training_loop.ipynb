{
 "cells": [
  {
   "cell_type": "code",
   "execution_count": 1,
   "id": "ca168f21",
   "metadata": {},
   "outputs": [],
   "source": [
    "import torch\n",
    "from data.data import generate_sample\n",
    "from model.dntm.DynamicNeuralTuringMachine import DynamicNeuralTuringMachine\n",
    "from model.dntm.DynamicNeuralTuringMachineMemory import DynamicNeuralTuringMachineMemory\n",
    "\n",
    "from utils.wandb_utils import log_params_norm, log_weights_gradient"
   ]
  },
  {
   "cell_type": "code",
   "execution_count": 2,
   "id": "bab8c78e",
   "metadata": {},
   "outputs": [],
   "source": [
    "import seaborn as sns"
   ]
  },
  {
   "cell_type": "code",
   "execution_count": 3,
   "id": "8aacdf16",
   "metadata": {},
   "outputs": [],
   "source": [
    "from IPython.core.debugger import set_trace"
   ]
  },
  {
   "cell_type": "markdown",
   "id": "eec55e23",
   "metadata": {},
   "source": [
    "## Data"
   ]
  },
  {
   "cell_type": "code",
   "execution_count": 4,
   "id": "d6409560",
   "metadata": {},
   "outputs": [],
   "source": [
    "vocab_chars = set('abcdefghijklmnopqrstuvwxyz0123456789()+*-=<>: ')\n",
    "vocab_size = len(vocab_chars) + 1\n",
    "target_vocab_chars = set('0123456789-')\n",
    "target_vocab_size = len(target_vocab_chars)\n",
    "\n",
    "token2pos = {t: p for p, t in enumerate(vocab_chars)}\n",
    "token2pos['\\n'] = len(token2pos)\n",
    "target_token2pos = {t: p for p, t in enumerate(target_vocab_chars)}"
   ]
  },
  {
   "cell_type": "code",
   "execution_count": 5,
   "id": "e6152f8e",
   "metadata": {},
   "outputs": [],
   "source": [
    "pos2token = {p: t for t, p in token2pos.items()}"
   ]
  },
  {
   "cell_type": "code",
   "execution_count": 6,
   "id": "92be84fa",
   "metadata": {},
   "outputs": [],
   "source": [
    "def make_1hot(char, token2pos, vocab_size):\n",
    "    onehot_vec = torch.zeros((1, vocab_size))\n",
    "    onehot_vec[0, token2pos[char]] = 1\n",
    "    return onehot_vec"
   ]
  },
  {
   "cell_type": "code",
   "execution_count": 7,
   "id": "b4331527",
   "metadata": {},
   "outputs": [],
   "source": [
    "def make_tensor(sample, token2pos, vocab_size):\n",
    "    sample_tensor = []\n",
    "    for c in sample:\n",
    "        sample_tensor.append(make_1hot(c, token2pos, vocab_size))\n",
    "    return torch.concat(sample_tensor).unsqueeze(dim=0)"
   ]
  },
  {
   "cell_type": "code",
   "execution_count": 8,
   "id": "0f07cef7",
   "metadata": {},
   "outputs": [
    {
     "name": "stdout",
     "output_type": "stream",
     "text": [
      "print((20 if 84>72 else 12))\n",
      "20\n",
      "20\n"
     ]
    }
   ],
   "source": [
    "x, y = generate_sample(length=2, nesting=1)\n",
    "print(x)\n",
    "print(y)\n",
    "exec(x)"
   ]
  },
  {
   "cell_type": "code",
   "execution_count": 9,
   "id": "dcbeb9a4",
   "metadata": {},
   "outputs": [],
   "source": [
    "x_t, y_t = make_tensor(x, token2pos, vocab_size), make_tensor(y, token2pos, vocab_size)"
   ]
  },
  {
   "cell_type": "code",
   "execution_count": 10,
   "id": "bd970c65",
   "metadata": {},
   "outputs": [],
   "source": [
    "assert x_t.size(1) == len(x)\n",
    "assert y_t.size(1) == len(y)"
   ]
  },
  {
   "cell_type": "code",
   "execution_count": 25,
   "id": "c2168a97",
   "metadata": {},
   "outputs": [],
   "source": [
    "few_samples = [generate_sample(length=2, nesting=1) for i in range(100)]\n",
    "few_tensor_samples = [(make_tensor(x, token2pos, vocab_size), make_tensor(y, token2pos, vocab_size))\n",
    "                      for x, y in few_samples]"
   ]
  },
  {
   "cell_type": "code",
   "execution_count": 12,
   "id": "77bf6404",
   "metadata": {},
   "outputs": [],
   "source": [
    "def get_sample(few_tensor_samples):\n",
    "    return few_tensor_samples[torch.randint(len(few_tensor_samples), (1,)).item()]"
   ]
  },
  {
   "cell_type": "code",
   "execution_count": 31,
   "id": "36e1f227",
   "metadata": {
    "collapsed": true
   },
   "outputs": [
    {
     "data": {
      "text/plain": [
       "[('print((6-1))', '5'),\n",
       " ('y=0\\nprint(y)', '0'),\n",
       " ('print((35-0))', '35'),\n",
       " ('t=67\\nprint(t)', '67'),\n",
       " ('s=12\\nprint(s)', '12'),\n",
       " ('v=19\\nprint(v)', '19'),\n",
       " ('d=39\\nprint(d)', '39'),\n",
       " ('j=85\\nprint(j)', '85'),\n",
       " ('e=11\\nprint(e)', '11'),\n",
       " ('z=73\\nprint(z)', '73'),\n",
       " ('a=40\\nprint(a)', '40'),\n",
       " ('p=48\\nprint(p)', '48'),\n",
       " ('b=53\\nprint(b)', '53'),\n",
       " ('z=85\\nprint(z)', '85'),\n",
       " ('q=76\\nprint(q)', '76'),\n",
       " ('k=97\\nprint(k)', '97'),\n",
       " ('v=78\\nprint(v)', '78'),\n",
       " ('d=63\\nprint(d)', '63'),\n",
       " ('print((7+31))', '38'),\n",
       " ('x=33\\nprint(x)', '33'),\n",
       " ('a=15\\nprint(a)', '15'),\n",
       " ('print((14*2))', '28'),\n",
       " ('e=52\\nprint(e)', '52'),\n",
       " ('print((72*4))', '288'),\n",
       " ('print((9-24))', '-15'),\n",
       " ('print((1-60))', '-59'),\n",
       " ('print((0-81))', '-81'),\n",
       " ('print((7*30))', '210'),\n",
       " ('print((47-30))', '17'),\n",
       " ('print((84-35))', '49'),\n",
       " ('print((76-38))', '38'),\n",
       " ('print((31-36))', '-5'),\n",
       " ('print((14+20))', '34'),\n",
       " ('print((35+49))', '84'),\n",
       " ('print((41-21))', '20'),\n",
       " ('print((11+18))', '29'),\n",
       " ('print((67-72))', '-5'),\n",
       " ('print((76-60))', '16'),\n",
       " ('print((28-37))', '-9'),\n",
       " ('print((25-10))', '15'),\n",
       " ('print((43+36))', '79'),\n",
       " ('print((32-34))', '-2'),\n",
       " ('print((81+22))', '103'),\n",
       " ('print((30*27))', '810'),\n",
       " ('print((76+92))', '168'),\n",
       " ('print((14*39))', '546'),\n",
       " ('print((61+65))', '126'),\n",
       " ('print((80+99))', '179'),\n",
       " ('print((28-65))', '-37'),\n",
       " ('print((78+37))', '115'),\n",
       " ('print((14+91))', '105'),\n",
       " ('print((73+74))', '147'),\n",
       " ('print((84*18))', '1512'),\n",
       " ('print((57*94))', '5358'),\n",
       " ('print((75*89))', '6675'),\n",
       " ('print((25*71))', '1775'),\n",
       " ('print((35*66))', '2310'),\n",
       " ('print((31*96))', '2976'),\n",
       " ('print((80*60))', '4800'),\n",
       " ('print((69*16))', '1104'),\n",
       " ('print((68*53))', '3604'),\n",
       " ('print((54*69))', '3726'),\n",
       " ('print((80*57))', '4560'),\n",
       " ('print((75*70))', '5250'),\n",
       " ('print((95*35))', '3325'),\n",
       " ('print((63*47))', '2961'),\n",
       " ('print((65*37))', '2405'),\n",
       " ('print((79*29))', '2291'),\n",
       " ('print((23*82))', '1886'),\n",
       " ('print((35*82))', '2870'),\n",
       " ('print((69*18))', '1242'),\n",
       " ('print((45 if 28>76 else 0))', '0'),\n",
       " ('print((33 if 20>2 else 27))', '33'),\n",
       " ('print((3 if 44>46 else 13))', '13'),\n",
       " ('print((8 if 13>32 else 64))', '64'),\n",
       " ('print((44 if 84<66 else 99))', '99'),\n",
       " ('print((44 if 85<31 else 64))', '64'),\n",
       " ('print((31 if 48>39 else 20))', '31'),\n",
       " ('print((47 if 21>81 else 85))', '85'),\n",
       " ('print((61 if 66<15 else 36))', '36'),\n",
       " ('print((21 if 72>50 else 65))', '21'),\n",
       " ('print((28 if 77<71 else 42))', '42'),\n",
       " ('print((60 if 19<12 else 19))', '19'),\n",
       " ('w=33\\nfor i in range(2): w-=3\\nprint(w)', '27'),\n",
       " ('u=18\\nfor i in range(4): u+=2\\nprint(u)', '26'),\n",
       " ('u=97\\nfor i in range(2): u-=48\\nprint(u)', '1'),\n",
       " ('z=62\\nfor i in range(0): z-=91\\nprint(z)', '62'),\n",
       " ('s=86\\nfor i in range(0): s-=60\\nprint(s)', '86'),\n",
       " ('b=90\\nfor i in range(0): b-=70\\nprint(b)', '90'),\n",
       " ('g=36\\nfor i in range(2): g+=31\\nprint(g)', '98'),\n",
       " ('l=15\\nfor i in range(2): l+=10\\nprint(l)', '35'),\n",
       " ('l=84\\nfor i in range(0): l+=39\\nprint(l)', '84'),\n",
       " ('w=94\\nfor i in range(0): w+=93\\nprint(w)', '94'),\n",
       " ('o=70\\nfor i in range(3): o+=55\\nprint(o)', '235'),\n",
       " ('v=23\\nfor i in range(6): v+=52\\nprint(v)', '335'),\n",
       " ('e=42\\nfor i in range(5): e+=62\\nprint(e)', '352'),\n",
       " ('l=74\\nfor i in range(2): l+=51\\nprint(l)', '176'),\n",
       " ('y=49\\nfor i in range(7): y+=52\\nprint(y)', '413'),\n",
       " ('a=36\\nfor i in range(4): a-=96\\nprint(a)', '-348'),\n",
       " ('l=24\\nfor i in range(3): l-=74\\nprint(l)', '-198')]"
      ]
     },
     "execution_count": 31,
     "metadata": {},
     "output_type": "execute_result"
    }
   ],
   "source": [
    "sorted(few_samples, key=lambda x: (len(x[0]), len(x[1])))"
   ]
  },
  {
   "cell_type": "code",
   "execution_count": 37,
   "id": "0939b69b",
   "metadata": {},
   "outputs": [],
   "source": [
    "equal_len_samples = [[('g=61\\nfor i in range(6): g+=48\\nprint(g)', '349'), \n",
    "                     ('r=62\\nfor i in range(5): r+=48\\nprint(r)', '302')],\n",
    "                    [('t=67\\nprint(t)', '67'),\n",
    "                     ('s=12\\nprint(s)', '12'),],\n",
    "                    [('print((54*69))', '3726'),\n",
    "                     ('print((80*57))', '4560'),],\n",
    "                    [('a=36\\nfor i in range(4): a-=96\\nprint(a)', '-348'),\n",
    "                     ('l=24\\nfor i in range(3): l-=74\\nprint(l)', '-198')],\n",
    "                    [('print((6-1))', '5'),\n",
    "                     ('y=0\\nprint(y)', '0')],\n",
    "                    [('l=84\\nfor i in range(0): l+=39\\nprint(l)', '84'),\n",
    "                     ('w=94\\nfor i in range(0): w+=93\\nprint(w)', '94')],\n",
    "                    [('l=74\\nfor i in range(2): l+=51\\nprint(l)', '176'),\n",
    "                     ('y=49\\nfor i in range(7): y+=52\\nprint(y)', '413'),],\n",
    "                    [('print((28 if 77<71 else 42))', '42'),\n",
    "                     ('print((60 if 19<12 else 19))', '19'),],\n",
    "                    [('print((61 if 66<15 else 36))', '36'),\n",
    "                     ('print((21 if 72>50 else 65))', '21'),],\n",
    "                    [('print((35*82))', '2870'),\n",
    "                     ('print((69*18))', '1242')]]"
   ]
  },
  {
   "cell_type": "code",
   "execution_count": 38,
   "id": "cb17bef6",
   "metadata": {},
   "outputs": [],
   "source": [
    "batched_samples = torch.concat([make_tensor(x, token2pos, vocab_size) for x, y in equal_len_samples[0]])\n",
    "batched_targets = torch.concat([make_tensor(y, token2pos, vocab_size) for x, y in equal_len_samples[0]])"
   ]
  },
  {
   "cell_type": "code",
   "execution_count": 51,
   "id": "fff24fa6",
   "metadata": {},
   "outputs": [],
   "source": [
    "equal_len_tensor_samples = [torch.concat([make_tensor(x, token2pos, vocab_size) for x, y in equal_len_batch])\n",
    "                            for equal_len_batch in equal_len_samples]\n",
    "equal_len_tensor_targets = [torch.concat([make_tensor(y, token2pos, vocab_size) for x, y in equal_len_batch])\n",
    "                            for equal_len_batch in equal_len_samples]"
   ]
  },
  {
   "cell_type": "code",
   "execution_count": 55,
   "id": "63d3ebf2",
   "metadata": {},
   "outputs": [],
   "source": [
    "def get_batch(equal_len_tensor_samples, equal_len_tensor_targets):\n",
    "    i = torch.randint(len(equal_len_samples), (1,)).item()\n",
    "    return (equal_len_tensor_samples[i],\n",
    "            equal_len_tensor_targets[i])"
   ]
  },
  {
   "cell_type": "markdown",
   "id": "54474f9d",
   "metadata": {},
   "source": [
    "## Model"
   ]
  },
  {
   "cell_type": "code",
   "execution_count": 15,
   "id": "e92518dd",
   "metadata": {},
   "outputs": [],
   "source": [
    "class LSTM(torch.nn.Module):\n",
    "    def __init__(self, input_size, hidden_size, output_size):\n",
    "        super(LSTM, self).__init__()\n",
    "        self.lstm_cell = torch.nn.LSTMCell(\n",
    "            input_size=input_size,\n",
    "            hidden_size=hidden_size)\n",
    "        self.W_o = torch.nn.Parameter(torch.rand(output_size, hidden_size))\n",
    "        self.b_o = torch.nn.Parameter(torch.rand(1))\n",
    "        self.register_buffer(\"h_t\", torch.zeros(2, hidden_size))\n",
    "        self.register_buffer(\"c_t\", torch.zeros(2, hidden_size))\n",
    "    \n",
    "    def forward(self, x):\n",
    "        self.h_t, self.c_t = self.lstm_cell(x, (self.h_t, self.c_t))\n",
    "        return self.h_t @ self.W_o.T  + self.b_o\n",
    "    \n",
    "    def detach_states(self):\n",
    "        self.h_t = self.h_t.detach()\n",
    "        self.c_t = self.c_t.detach()"
   ]
  },
  {
   "cell_type": "code",
   "execution_count": 59,
   "id": "7d6de00a",
   "metadata": {},
   "outputs": [],
   "source": [
    "def train(model, sample, target, loss, opt):\n",
    "    opt.zero_grad()\n",
    "    outputs = []\n",
    "\n",
    "    for char_pos in range(sample.size(1)):\n",
    "        output = model(sample[:, char_pos, :].squeeze())\n",
    "    outputs.append(output)\n",
    "\n",
    "    for char_pos in range(target.size(1) - 1):\n",
    "        output = model(target[:, char_pos, :].squeeze())\n",
    "        outputs.append(output)\n",
    "    \n",
    "    cumulative_loss = 0\n",
    "    for char_pos, output in enumerate(outputs):\n",
    "        cumulative_loss += loss(output, torch.argmax(target[:, char_pos, :].squeeze(), dim=1))\n",
    "    avg_loss = cumulative_loss / len(outputs)\n",
    "\n",
    "    avg_loss.backward()\n",
    "    opt.step()\n",
    "\n",
    "    model.detach_states()\n",
    "    return avg_loss.item()"
   ]
  },
  {
   "cell_type": "code",
   "execution_count": 17,
   "id": "e9ebc4f9",
   "metadata": {},
   "outputs": [],
   "source": [
    "def train_dntm(model, sample, target, loss, opt):\n",
    "    opt.zero_grad()\n",
    "    outputs = []\n",
    "    \n",
    "    model.prepare_for_batch(sample, sample.device)\n",
    "    for char_pos in range(sample.size(1)):\n",
    "        output = model(sample[:, char_pos, :].reshape(sample.size(2), 2))\n",
    "    outputs.append(output)\n",
    "\n",
    "    for char_pos in range(target.size(1) - 1):\n",
    "        output = model(target[:, char_pos, :].reshape(sample.size(2), 2))\n",
    "        outputs.append(output)\n",
    "\n",
    "    cumulative_loss = 0\n",
    "    for char_pos, output in enumerate(outputs):\n",
    "        cumulative_loss += loss(output.squeeze(), torch.argmax(target[:, char_pos, :].squeeze(), dim=1))\n",
    "    avg_loss = cumulative_loss / len(outputs)\n",
    "\n",
    "    avg_loss.backward()\n",
    "    opt.step()\n",
    "\n",
    "    return avg_loss.item()"
   ]
  },
  {
   "cell_type": "code",
   "execution_count": 67,
   "id": "e475bd5b",
   "metadata": {},
   "outputs": [],
   "source": [
    "model = LSTM(\n",
    "    input_size=vocab_size,\n",
    "    hidden_size=100,\n",
    "    output_size=vocab_size)"
   ]
  },
  {
   "cell_type": "code",
   "execution_count": 71,
   "id": "26d2691f",
   "metadata": {},
   "outputs": [],
   "source": [
    "dntm_memory = DynamicNeuralTuringMachineMemory(\n",
    "        n_locations=100,\n",
    "        content_size=8,\n",
    "        address_size=8,\n",
    "        controller_input_size=vocab_size,\n",
    "        controller_hidden_state_size=100,\n",
    "    )"
   ]
  },
  {
   "cell_type": "code",
   "execution_count": 72,
   "id": "f1ae792e",
   "metadata": {},
   "outputs": [],
   "source": [
    "dntm = DynamicNeuralTuringMachine(\n",
    "    memory=dntm_memory,\n",
    "    controller_hidden_state_size=100,\n",
    "    controller_input_size=vocab_size,\n",
    "    controller_output_size=vocab_size,\n",
    ")"
   ]
  },
  {
   "cell_type": "code",
   "execution_count": 73,
   "id": "e2f2d67b",
   "metadata": {},
   "outputs": [],
   "source": [
    "model = dntm"
   ]
  },
  {
   "cell_type": "markdown",
   "id": "e235cbcb",
   "metadata": {},
   "source": [
    "## Train"
   ]
  },
  {
   "cell_type": "code",
   "execution_count": 74,
   "id": "948551f1",
   "metadata": {},
   "outputs": [],
   "source": [
    "loss = torch.nn.CrossEntropyLoss()\n",
    "opt = torch.optim.Adam(model.parameters(), lr=0.001)\n",
    "MAX_ITER = 1000"
   ]
  },
  {
   "cell_type": "code",
   "execution_count": 69,
   "id": "2af19a1f",
   "metadata": {
    "scrolled": true
   },
   "outputs": [],
   "source": [
    "loss_values = []\n",
    "for step in range(MAX_ITER):\n",
    "    batched_samples, batched_targets = get_batch(equal_len_tensor_samples, equal_len_tensor_targets)\n",
    "    loss_values.append(train(model, batched_samples, batched_targets, loss, opt))"
   ]
  },
  {
   "cell_type": "code",
   "execution_count": 75,
   "id": "a005e262",
   "metadata": {},
   "outputs": [],
   "source": [
    "loss_values = []\n",
    "for step in range(MAX_ITER):\n",
    "    # x_t, y_t = get_sample(few_tensor_samples)\n",
    "    batched_samples, batched_targets = get_batch(equal_len_tensor_samples, equal_len_tensor_targets)\n",
    "    loss_values.append(train_dntm(model, batched_samples, batched_targets, loss, opt))"
   ]
  },
  {
   "cell_type": "code",
   "execution_count": 76,
   "id": "06bb4fd0",
   "metadata": {},
   "outputs": [
    {
     "data": {
      "image/png": "[encoded data removed]",
      "text/plain": [
       "<Figure size 640x480 with 1 Axes>"
      ]
     },
     "metadata": {},
     "output_type": "display_data"
    }
   ],
   "source": [
    "AxesSubplot = sns.lineplot(loss_values)\n",
    "# _ = AxesSubplot.set(title=f\"{x} {y}\")"
   ]
  },
  {
   "cell_type": "markdown",
   "id": "1f170f5e",
   "metadata": {},
   "source": [
    "Expected cross-entropy value with random prediction:"
   ]
  },
  {
   "cell_type": "code",
   "execution_count": 200,
   "id": "edfa3eff",
   "metadata": {},
   "outputs": [
    {
     "data": {
      "text/plain": [
       "tensor(3.8501)"
      ]
     },
     "execution_count": 200,
     "metadata": {},
     "output_type": "execute_result"
    }
   ],
   "source": [
    "torch.log(torch.tensor(vocab_size))"
   ]
  },
  {
   "cell_type": "markdown",
   "id": "7286df1c",
   "metadata": {},
   "source": [
    "## Eval"
   ]
  },
  {
   "cell_type": "code",
   "execution_count": 201,
   "id": "f837d518",
   "metadata": {},
   "outputs": [],
   "source": [
    "def target_tensors_to_str(y_t):\n",
    "    idx_outputs = [torch.argmax(o).item() for o in y_t]\n",
    "    return ''.join([pos2token[idx] for idx in idx_outputs])"
   ]
  },
  {
   "cell_type": "code",
   "execution_count": 152,
   "id": "a79e3fed",
   "metadata": {},
   "outputs": [],
   "source": [
    "# LSTM\n",
    "sample, target = x_t, y_t\n",
    "\n",
    "outputs = []\n",
    "for char_pos in range(sample.size(1)):\n",
    "    output = model(sample[:, char_pos, :].squeeze())\n",
    "outputs.append(output)\n",
    "\n",
    "for char_pos in range(target.size(1) - 1):\n",
    "    output = model(target[:, char_pos, :].squeeze())\n",
    "    outputs.append(output)"
   ]
  },
  {
   "cell_type": "code",
   "execution_count": 217,
   "id": "5aa4e367",
   "metadata": {},
   "outputs": [],
   "source": [
    "# D-NTM\n",
    "sample, target = get_sample(few_tensor_samples)\n",
    "\n",
    "outputs = []\n",
    "model.prepare_for_batch(sample, sample.device)\n",
    "for char_pos in range(sample.size(1)):\n",
    "    output = model(sample[:, char_pos, :].view(sample.size(2), 1))\n",
    "outputs.append(output)\n",
    "\n",
    "for char_pos in range(target.size(1) - 1):\n",
    "    output = model(target[:, char_pos, :].view(sample.size(2), 1))\n",
    "    outputs.append(output)\n",
    "\n",
    "outputs = [o.squeeze() for o in outputs]"
   ]
  },
  {
   "cell_type": "code",
   "execution_count": 218,
   "id": "4253a993",
   "metadata": {},
   "outputs": [
    {
     "data": {
      "text/plain": [
       "'41'"
      ]
     },
     "execution_count": 218,
     "metadata": {},
     "output_type": "execute_result"
    }
   ],
   "source": [
    "target_tensors_to_str(outputs)"
   ]
  },
  {
   "cell_type": "code",
   "execution_count": 219,
   "id": "e7f3ffbe",
   "metadata": {},
   "outputs": [
    {
     "data": {
      "text/plain": [
       "'41'"
      ]
     },
     "execution_count": 219,
     "metadata": {},
     "output_type": "execute_result"
    }
   ],
   "source": [
    "targets = [target[:, i, :].squeeze() for i in range(target.size(1))]\n",
    "target_tensors_to_str(targets)"
   ]
  }
 ],
 "metadata": {
  "kernelspec": {
   "display_name": "lte",
   "language": "python",
   "name": "lte"
  },
  "language_info": {
   "codemirror_mode": {
    "name": "ipython",
    "version": 3
   },
   "file_extension": ".py",
   "mimetype": "text/x-python",
   "name": "python",
   "nbconvert_exporter": "python",
   "pygments_lexer": "ipython3",
   "version": "3.10.6"
  }
 },
 "nbformat": 4,
 "nbformat_minor": 5
}
