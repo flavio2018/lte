{
 "cells": [
  {
   "cell_type": "code",
   "execution_count": 1,
   "id": "00216ede",
   "metadata": {},
   "outputs": [],
   "source": [
    "from data.data import generate_sample\n",
    "from data.generator import get_token2pos\n",
    "from utils.rnn_utils import make_1hot\n",
    "import torch"
   ]
  },
  {
   "cell_type": "code",
   "execution_count": 2,
   "id": "27fe7f31",
   "metadata": {},
   "outputs": [],
   "source": [
    "def get_target_vocab_chars():\n",
    "    return set('0123456789-')"
   ]
  },
  {
   "cell_type": "code",
   "execution_count": 3,
   "id": "94778ae2",
   "metadata": {},
   "outputs": [],
   "source": [
    "def get_target_vocab_size():\n",
    "    return len(get_target_vocab_chars()) + 3  # sos eos pad"
   ]
  },
  {
   "cell_type": "code",
   "execution_count": 4,
   "id": "f27596cd",
   "metadata": {},
   "outputs": [],
   "source": [
    "def get_target_token2pos():\n",
    "    token2pos = {t: p for p, t in enumerate(get_target_vocab_chars())}\n",
    "    token2pos['sos'] = len(token2pos)  # start of string\n",
    "    token2pos['eos'] = len(token2pos)  # end of string\n",
    "    token2pos['#'] = len(token2pos)    # padding\n",
    "    return token2pos"
   ]
  },
  {
   "cell_type": "code",
   "execution_count": 5,
   "id": "13f16750",
   "metadata": {},
   "outputs": [],
   "source": [
    "def make_target_tensor(target, token2pos, vocab_size):\n",
    "    \"\"\"Given a target sequence, vocabulary size and a dictionary associating each\n",
    "    char to an index, builds a tensor representation of the target sequence.\"\"\"\n",
    "    target_tensor = []\n",
    "    target_tensor.append(make_1hot('sos', token2pos, vocab_size))\n",
    "    for c in target:\n",
    "        target_tensor.append(make_1hot(c, token2pos, vocab_size))\n",
    "    target_tensor.append(make_1hot('eos', token2pos, vocab_size))\n",
    "    return torch.concat(target_tensor).unsqueeze(dim=0)"
   ]
  },
  {
   "cell_type": "code",
   "execution_count": 6,
   "id": "038210b3",
   "metadata": {},
   "outputs": [],
   "source": [
    "def target_tensors_to_str(y_t):\n",
    "    pos2token = get_target_pos2token()\n",
    "    idx_outputs = [torch.argmax(o).item() for o in y_t]\n",
    "    return ''.join([pos2token[idx] for idx in idx_outputs])"
   ]
  },
  {
   "cell_type": "code",
   "execution_count": 7,
   "id": "8866aba2",
   "metadata": {},
   "outputs": [],
   "source": [
    "def get_target_pos2token():\n",
    "    token2pos = get_target_token2pos()\n",
    "    return {p: t for t, p in token2pos.items()}"
   ]
  },
  {
   "cell_type": "code",
   "execution_count": 8,
   "id": "60874c1c",
   "metadata": {},
   "outputs": [],
   "source": [
    "x, y = generate_sample(3, 4)"
   ]
  },
  {
   "cell_type": "code",
   "execution_count": 9,
   "id": "24f66b56",
   "metadata": {},
   "outputs": [],
   "source": [
    "y_t = make_target_tensor(y, get_target_token2pos(), get_target_vocab_size())"
   ]
  },
  {
   "cell_type": "code",
   "execution_count": 10,
   "id": "bf2aaaf7",
   "metadata": {
    "scrolled": true
   },
   "outputs": [
    {
     "data": {
      "text/plain": [
       "'670'"
      ]
     },
     "execution_count": 10,
     "metadata": {},
     "output_type": "execute_result"
    }
   ],
   "source": [
    "y"
   ]
  },
  {
   "cell_type": "code",
   "execution_count": 11,
   "id": "5c54136d",
   "metadata": {},
   "outputs": [
    {
     "data": {
      "text/plain": [
       "torch.Size([1, 5, 14])"
      ]
     },
     "execution_count": 11,
     "metadata": {},
     "output_type": "execute_result"
    }
   ],
   "source": [
    "y_t.size()"
   ]
  },
  {
   "cell_type": "code",
   "execution_count": 12,
   "id": "ca9ed713",
   "metadata": {},
   "outputs": [
    {
     "data": {
      "text/plain": [
       "'sos670eos'"
      ]
     },
     "execution_count": 12,
     "metadata": {},
     "output_type": "execute_result"
    }
   ],
   "source": [
    "target_tensors_to_str(y_t.squeeze())"
   ]
  }
 ],
 "metadata": {
  "kernelspec": {
   "display_name": "lte",
   "language": "python",
   "name": "lte"
  },
  "language_info": {
   "codemirror_mode": {
    "name": "ipython",
    "version": 3
   },
   "file_extension": ".py",
   "mimetype": "text/x-python",
   "name": "python",
   "nbconvert_exporter": "python",
   "pygments_lexer": "ipython3",
   "version": "3.10.6"
  }
 },
 "nbformat": 4,
 "nbformat_minor": 5
}
