{
 "cells": [
  {
   "cell_type": "code",
   "execution_count": 186,
   "id": "ca168f21",
   "metadata": {},
   "outputs": [],
   "source": [
    "import torch\n",
    "from data.data import generate_sample\n",
    "\n",
    "from utils.wandb_utils import log_params_norm, log_weights_gradient"
   ]
  },
  {
   "cell_type": "code",
   "execution_count": 200,
   "id": "bab8c78e",
   "metadata": {},
   "outputs": [],
   "source": [
    "import seaborn as sns"
   ]
  },
  {
   "cell_type": "code",
   "execution_count": 51,
   "id": "d6409560",
   "metadata": {},
   "outputs": [],
   "source": [
    "vocab_chars = set('abcdefghijklmnopqrstuvwxyz0123456789()+*-=<>: ')\n",
    "vocab_size = len(vocab_chars) + 1\n",
    "target_vocab_chars = set('0123456789-')\n",
    "target_vocab_size = len(target_vocab_chars)\n",
    "\n",
    "token2pos = {t: p for p, t in enumerate(vocab_chars)}\n",
    "token2pos['\\n'] = len(token2pos)\n",
    "target_token2pos = {t: p for p, t in enumerate(target_vocab_chars)}"
   ]
  },
  {
   "cell_type": "code",
   "execution_count": 261,
   "id": "e6152f8e",
   "metadata": {},
   "outputs": [],
   "source": [
    "pos2token = {p: t for t, p in token2pos.items()}"
   ]
  },
  {
   "cell_type": "code",
   "execution_count": 52,
   "id": "92be84fa",
   "metadata": {},
   "outputs": [],
   "source": [
    "def make_1hot(char, token2pos, vocab_size):\n",
    "    onehot_vec = torch.zeros((1, vocab_size))\n",
    "    onehot_vec[0, token2pos[char]] = 1\n",
    "    return onehot_vec"
   ]
  },
  {
   "cell_type": "code",
   "execution_count": 53,
   "id": "b4331527",
   "metadata": {},
   "outputs": [],
   "source": [
    "def make_tensor(sample, token2pos, vocab_size):\n",
    "    sample_tensor = []\n",
    "    for c in sample:\n",
    "        sample_tensor.append(make_1hot(c, token2pos, vocab_size))\n",
    "    return torch.concat(sample_tensor).unsqueeze(dim=0)"
   ]
  },
  {
   "cell_type": "code",
   "execution_count": 60,
   "id": "0f07cef7",
   "metadata": {},
   "outputs": [
    {
     "name": "stdout",
     "output_type": "stream",
     "text": [
      "z=74\n",
      "for i in range(5): z+=56\n",
      "print(z)\n",
      "354\n",
      "354\n"
     ]
    }
   ],
   "source": [
    "x, y = generate_sample(length=2, nesting=1)\n",
    "print(x)\n",
    "print(y)\n",
    "exec(x)"
   ]
  },
  {
   "cell_type": "code",
   "execution_count": 67,
   "id": "dcbeb9a4",
   "metadata": {},
   "outputs": [],
   "source": [
    "x_t, y_t = make_tensor(x, token2pos, vocab_size), make_tensor(y, token2pos, vocab_size)"
   ]
  },
  {
   "cell_type": "code",
   "execution_count": 62,
   "id": "bd970c65",
   "metadata": {},
   "outputs": [],
   "source": [
    "assert x_t.size(1) == len(x)\n",
    "assert y_t.size(1) == len(y)"
   ]
  },
  {
   "cell_type": "code",
   "execution_count": 153,
   "id": "e92518dd",
   "metadata": {},
   "outputs": [],
   "source": [
    "class LSTM(torch.nn.Module):\n",
    "    def __init__(self, input_size, hidden_size, output_size):\n",
    "        super(LSTM, self).__init__()\n",
    "        self.lstm_cell = torch.nn.LSTMCell(\n",
    "            input_size=input_size,\n",
    "            hidden_size=hidden_size)\n",
    "        self.W_o = torch.nn.Parameter(torch.rand(output_size, hidden_size))\n",
    "        self.b_o = torch.nn.Parameter(torch.rand(1))\n",
    "        self.register_buffer(\"h_t\", torch.zeros(hidden_size))\n",
    "        self.register_buffer(\"c_t\", torch.zeros(hidden_size))\n",
    "        \n",
    "        self.softmax = torch.nn.Softmax(dim=0)\n",
    "    \n",
    "    def forward(self, x):\n",
    "        self.h_t, self.c_t = self.lstm_cell(x, (self.h_t, self.c_t))\n",
    "        return self.softmax(self.W_o @ self.h_t + self.b_o)\n",
    "    \n",
    "    def detach_states(self):\n",
    "        self.h_t = self.h_t.detach()\n",
    "        self.c_t = self.c_t.detach()"
   ]
  },
  {
   "cell_type": "code",
   "execution_count": 225,
   "id": "d6a3e759",
   "metadata": {},
   "outputs": [
    {
     "data": {
      "text/plain": [
       "tensor(30)"
      ]
     },
     "execution_count": 225,
     "metadata": {},
     "output_type": "execute_result"
    }
   ],
   "source": [
    "torch.argmax(target[:, char_pos, :].squeeze())"
   ]
  },
  {
   "cell_type": "code",
   "execution_count": 304,
   "id": "ca1696bb",
   "metadata": {},
   "outputs": [
    {
     "data": {
      "text/plain": [
       "tensor(0.)"
      ]
     },
     "execution_count": 304,
     "metadata": {},
     "output_type": "execute_result"
    }
   ],
   "source": [
    "torch.log(torch.tensor(1))"
   ]
  },
  {
   "cell_type": "code",
   "execution_count": 305,
   "id": "53f18e51",
   "metadata": {},
   "outputs": [
    {
     "data": {
      "text/plain": [
       "tensor([0., 1., 0.])"
      ]
     },
     "execution_count": 305,
     "metadata": {},
     "output_type": "execute_result"
    }
   ],
   "source": [
    "torch.tensor([0.0, 1.0, 0.0])"
   ]
  },
  {
   "cell_type": "code",
   "execution_count": 300,
   "id": "76cbab83",
   "metadata": {},
   "outputs": [
    {
     "data": {
      "text/plain": [
       "tensor(0.5514)"
      ]
     },
     "execution_count": 300,
     "metadata": {},
     "output_type": "execute_result"
    }
   ],
   "source": [
    "loss(torch.tensor([0.0, 1.0, 0.0]), torch.tensor(1))"
   ]
  },
  {
   "cell_type": "code",
   "execution_count": 226,
   "id": "7d6de00a",
   "metadata": {},
   "outputs": [],
   "source": [
    "def train(model, sample, target, loss, opt):\n",
    "    opt.zero_grad()\n",
    "    outputs = []\n",
    "\n",
    "    for char_pos in range(sample.size(1)):\n",
    "        output = model(sample[:, char_pos, :].squeeze())\n",
    "    outputs.append(output)\n",
    "\n",
    "    for char_pos in range(target.size(1) - 1):\n",
    "        output = model(target[:, char_pos, :].squeeze())\n",
    "        outputs.append(output)\n",
    "\n",
    "    cumulative_loss = 0\n",
    "    for char_pos, output in enumerate(outputs):\n",
    "        cumulative_loss += loss(output, torch.argmax(target[:, char_pos, :].squeeze()))\n",
    "    avg_loss = cumulative_loss / len(outputs)\n",
    "\n",
    "    avg_loss.backward()\n",
    "    opt.step()\n",
    "\n",
    "    model.detach_states()\n",
    "    return avg_loss.item()"
   ]
  },
  {
   "cell_type": "code",
   "execution_count": 248,
   "id": "948551f1",
   "metadata": {},
   "outputs": [],
   "source": [
    "model = LSTM(\n",
    "    input_size=vocab_size,\n",
    "    hidden_size=100,\n",
    "    output_size=vocab_size)\n",
    "loss = torch.nn.CrossEntropyLoss()\n",
    "opt = torch.optim.Adam(model.parameters(), lr=0.001)"
   ]
  },
  {
   "cell_type": "code",
   "execution_count": 249,
   "id": "a5b2e722",
   "metadata": {},
   "outputs": [],
   "source": [
    "MAX_ITER = 1000"
   ]
  },
  {
   "cell_type": "code",
   "execution_count": 250,
   "id": "a005e262",
   "metadata": {},
   "outputs": [],
   "source": [
    "loss_values = []\n",
    "for step in range(MAX_ITER):\n",
    "    loss_values.append(train(model, x_t, y_t, loss, opt))"
   ]
  },
  {
   "cell_type": "code",
   "execution_count": 251,
   "id": "06bb4fd0",
   "metadata": {},
   "outputs": [
    {
     "data": {
      "image/png": "[encoded data removed]",
      "text/plain": [
       "<Figure size 640x480 with 1 Axes>"
      ]
     },
     "metadata": {},
     "output_type": "display_data"
    }
   ],
   "source": [
    "AxesSubplot = sns.lineplot(loss_values)\n",
    "_ = AxesSubplot.set(title=f\"{x} {y}\")"
   ]
  },
  {
   "cell_type": "code",
   "execution_count": 229,
   "id": "edfa3eff",
   "metadata": {},
   "outputs": [
    {
     "data": {
      "text/plain": [
       "tensor(3.8501)"
      ]
     },
     "execution_count": 229,
     "metadata": {},
     "output_type": "execute_result"
    }
   ],
   "source": [
    "torch.log(torch.tensor(vocab_size))"
   ]
  },
  {
   "cell_type": "code",
   "execution_count": 256,
   "id": "a79e3fed",
   "metadata": {},
   "outputs": [],
   "source": [
    "sample, target = x_t, y_t\n",
    "outputs = []\n",
    "for char_pos in range(sample.size(1)):\n",
    "    output = model(sample[:, char_pos, :].squeeze())\n",
    "outputs.append(output)\n",
    "\n",
    "for char_pos in range(target.size(1) - 1):\n",
    "    output = model(target[:, char_pos, :].squeeze())\n",
    "    outputs.append(output)"
   ]
  },
  {
   "cell_type": "code",
   "execution_count": 263,
   "id": "285d9ffe",
   "metadata": {},
   "outputs": [
    {
     "name": "stdout",
     "output_type": "stream",
     "text": [
      "354\n"
     ]
    }
   ],
   "source": [
    "idx_outputs = [torch.argmax(o).item() for o in outputs]\n",
    "str_output = ''.join([pos2token[idx] for idx in idx_outputs])\n",
    "print(str_output)"
   ]
  },
  {
   "cell_type": "code",
   "execution_count": null,
   "id": "5452e086",
   "metadata": {},
   "outputs": [],
   "source": [
    "def valid():\n",
    "    pass"
   ]
  },
  {
   "cell_type": "code",
   "execution_count": null,
   "id": "00a774ab",
   "metadata": {},
   "outputs": [],
   "source": [
    "main()"
   ]
  }
 ],
 "metadata": {
  "kernelspec": {
   "display_name": "lte",
   "language": "python",
   "name": "lte"
  },
  "language_info": {
   "codemirror_mode": {
    "name": "ipython",
    "version": 3
   },
   "file_extension": ".py",
   "mimetype": "text/x-python",
   "name": "python",
   "nbconvert_exporter": "python",
   "pygments_lexer": "ipython3",
   "version": "3.10.6"
  }
 },
 "nbformat": 4,
 "nbformat_minor": 5
}
