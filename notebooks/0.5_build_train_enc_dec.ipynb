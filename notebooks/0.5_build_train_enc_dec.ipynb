{
 "cells": [
  {
   "cell_type": "code",
   "execution_count": 1,
   "id": "7a0b75df",
   "metadata": {},
   "outputs": [],
   "source": [
    "from model.lstm import LSTM, DeepLSTM\n",
    "from model.test import eval_padded\n",
    "from data.generator import get_vocab_size, generate_batch\n",
    "from utils.rnn_utils import get_mask, get_hidden_mask, reduce_lens, save_states, populate_first_output, build_first_output, batch_acc\n",
    "\n",
    "import torch\n",
    "from tqdm.notebook import trange\n",
    "import seaborn as sns"
   ]
  },
  {
   "cell_type": "code",
   "execution_count": 104,
   "id": "dec63c04",
   "metadata": {},
   "outputs": [],
   "source": [
    "MAX_ITER = 1500\n",
    "HID_SIZE = 100\n",
    "BS = 16\n",
    "LR = 3e-4\n",
    "DEVICE = 'cuda'"
   ]
  },
  {
   "cell_type": "code",
   "execution_count": 105,
   "id": "ad0b6c2b",
   "metadata": {},
   "outputs": [],
   "source": [
    "encoder = DeepLSTM(\n",
    "    input_size=get_vocab_size(),\n",
    "    hidden_size=HID_SIZE,\n",
    "    output_size=get_vocab_size(),\n",
    "    batch_size=BS,\n",
    ").to(DEVICE)\n",
    "\n",
    "decoder = DeepLSTM(\n",
    "    input_size=get_vocab_size(),\n",
    "    hidden_size=HID_SIZE,\n",
    "    output_size=get_vocab_size(),\n",
    "    batch_size=BS,\n",
    ").to(DEVICE)"
   ]
  },
  {
   "cell_type": "code",
   "execution_count": 106,
   "id": "abf52b9a",
   "metadata": {},
   "outputs": [],
   "source": [
    "enc_dec_parameters = [p for p in encoder.parameters()] + [p for p in decoder.parameters()]"
   ]
  },
  {
   "cell_type": "code",
   "execution_count": 107,
   "id": "008a7392",
   "metadata": {},
   "outputs": [],
   "source": [
    "padded_samples_batch, padded_targets_batch, samples_len, targets_len = generate_batch(length=1, nesting=1, batch_size=BS)\n",
    "padded_samples_batch, padded_targets_batch = padded_samples_batch.to(DEVICE), padded_targets_batch.to(DEVICE)"
   ]
  },
  {
   "cell_type": "code",
   "execution_count": 108,
   "id": "975ee6ff",
   "metadata": {},
   "outputs": [],
   "source": [
    "loss = torch.nn.CrossEntropyLoss(reduction='none')\n",
    "opt = torch.optim.Adam(enc_dec_parameters, lr=LR)"
   ]
  },
  {
   "cell_type": "code",
   "execution_count": 109,
   "id": "528084e0",
   "metadata": {},
   "outputs": [],
   "source": [
    "def step(encoder, decoder, sample, target, samples_len, targets_len, loss, opt, device):\n",
    "    opt.zero_grad()\n",
    "    encoder.train()\n",
    "    decoder.train()\n",
    "    outputs = []\n",
    "    h_dict, c_dict = {1: {}, 2: {}}, {1: {}, 2: {}}\n",
    "    samples_len = samples_len.copy()\n",
    "    targets_len = targets_len.copy()\n",
    "    hid_size = encoder.h_t_1.size(1)\n",
    "    \n",
    "    for char_pos in range(sample.size(1)):\n",
    "        hidden_mask = get_hidden_mask(samples_len, hid_size, device)\n",
    "        output = encoder(sample[:, char_pos, :].squeeze(), hidden_mask)\n",
    "        samples_len = reduce_lens(samples_len)\n",
    "        h_dict, c_dict = save_states(encoder, h_dict, c_dict, samples_len)\n",
    "    \n",
    "    decoder.set_states(h_dict, c_dict)\n",
    "    output = decoder(torch.ones(sample[:, char_pos, :].squeeze().size(), device=device),\n",
    "                     torch.ones(hidden_mask.size(), device=device))\n",
    "    outputs.append(output)\n",
    "    targets_len_copy = targets_len.copy()\n",
    "    targets_len_copy = reduce_lens(targets_len_copy)\n",
    "                \n",
    "    for char_pos in range(target.size(1) - 1):\n",
    "        hidden_mask = get_hidden_mask(targets_len_copy, hid_size, device)\n",
    "        output = decoder(target[:, char_pos, :].squeeze(), hidden_mask)\n",
    "        targets_len_copy = reduce_lens(targets_len_copy)\n",
    "        outputs.append(output)\n",
    "        \n",
    "    count_nonzero = 0\n",
    "    cumulative_loss = 0\n",
    "    loss_masks = []\n",
    "    for char_pos, output in enumerate(outputs):\n",
    "        loss_masks.append(get_mask(targets_len, device))\n",
    "        targets_len = reduce_lens(targets_len)\n",
    "        char_loss = loss(output, torch.argmax(target[:, char_pos, :].squeeze(), dim=1)) * loss_masks[-1]\n",
    "        count_nonzero += (char_loss != 0).sum()\n",
    "        cumulative_loss += torch.sum(char_loss)\n",
    "    avg_loss = cumulative_loss / count_nonzero\n",
    "    acc = batch_acc(outputs, target, loss_masks)\n",
    "    \n",
    "    avg_loss.backward()\n",
    "    opt.step()\n",
    "\n",
    "    encoder.detach_states()\n",
    "    decoder.detach_states()\n",
    "    return avg_loss.item(), acc.item()"
   ]
  },
  {
   "cell_type": "code",
   "execution_count": 110,
   "id": "93012326",
   "metadata": {},
   "outputs": [],
   "source": [
    "def encdec_fwd_padded_batch(encoder, decoder, sample, target, samples_len, targets_len, device):\n",
    "    outputs = []\n",
    "    h_dict, c_dict = {1: {}, 2: {}}, {1: {}, 2: {}}\n",
    "    samples_len = samples_len.copy()\n",
    "    targets_len = targets_len.copy()\n",
    "    hid_size = encoder.h_t_1.size(1)\n",
    "    \n",
    "    for char_pos in range(sample.size(1)):\n",
    "        hidden_mask = get_hidden_mask(samples_len, hid_size, device)\n",
    "        output = encoder(sample[:, char_pos, :].squeeze(), hidden_mask)\n",
    "        samples_len = reduce_lens(samples_len)\n",
    "        h_dict, c_dict = save_states(encoder, h_dict, c_dict, samples_len)\n",
    "        \n",
    "    decoder.set_states(h_dict, c_dict)\n",
    "    output = decoder(torch.ones(sample[:, char_pos, :].squeeze().size(), device=device),\n",
    "                     torch.ones(hidden_mask.size(), device=device))\n",
    "    outputs.append(output)\n",
    "    targets_len_copy = targets_len.copy()\n",
    "    targets_len_copy = reduce_lens(targets_len_copy)\n",
    "\n",
    "    for char_pos in range(target.size(1) - 1):\n",
    "        hidden_mask = get_hidden_mask(targets_len_copy, hid_size, device)\n",
    "        output = decoder(target[:, char_pos, :].squeeze(), hidden_mask)\n",
    "        targets_len_copy = reduce_lens(targets_len_copy)\n",
    "        outputs.append(output)\n",
    "    encoder.detach_states()\n",
    "    decoder.detach_states()\n",
    "    return outputs"
   ]
  },
  {
   "cell_type": "code",
   "execution_count": 111,
   "id": "51c2350c",
   "metadata": {},
   "outputs": [
    {
     "data": {
      "application/vnd.jupyter.widget-view+json": {
       "model_id": "58ee25d5a92746ab870584d17de9fedf",
       "version_major": 2,
       "version_minor": 0
      },
      "text/plain": [
       "  0%|          | 0/1500 [00:00<?, ?it/s]"
      ]
     },
     "metadata": {},
     "output_type": "display_data"
    }
   ],
   "source": [
    "metrics = {\n",
    "    \"train_loss\": [],\n",
    "    \"train_acc\": [],\n",
    "}\n",
    "\n",
    "for it in trange(MAX_ITER):\n",
    "    loss_val, acc_val = step(encoder, decoder, padded_samples_batch, padded_targets_batch, samples_len, targets_len, loss, opt, DEVICE)\n",
    "    metrics[\"train_loss\"].append(loss_val)\n",
    "    metrics[\"train_acc\"].append(acc_val)"
   ]
  },
  {
   "cell_type": "code",
   "execution_count": 112,
   "id": "dd1731ee",
   "metadata": {
    "scrolled": false
   },
   "outputs": [
    {
     "data": {
      "image/png": "[encoded data removed]",
      "text/plain": [
       "<Figure size 640x480 with 1 Axes>"
      ]
     },
     "metadata": {},
     "output_type": "display_data"
    }
   ],
   "source": [
    "ax = sns.lineplot(metrics[\"train_loss\"])\n",
    "_ = ax.axhline(0, color='red')"
   ]
  },
  {
   "cell_type": "code",
   "execution_count": 113,
   "id": "1d5a7f8a",
   "metadata": {},
   "outputs": [
    {
     "data": {
      "image/png": "[encoded data removed]",
      "text/plain": [
       "<Figure size 640x480 with 1 Axes>"
      ]
     },
     "metadata": {},
     "output_type": "display_data"
    }
   ],
   "source": [
    "ax = sns.lineplot(metrics[\"train_acc\"])\n",
    "_ = ax.axhline(0.999, color='red')"
   ]
  },
  {
   "cell_type": "code",
   "execution_count": 114,
   "id": "316c9ef2",
   "metadata": {},
   "outputs": [],
   "source": [
    "outputs = encdec_fwd_padded_batch(encoder, decoder, padded_samples_batch, padded_targets_batch, samples_len, targets_len, DEVICE)"
   ]
  },
  {
   "cell_type": "code",
   "execution_count": 115,
   "id": "162d5a86",
   "metadata": {},
   "outputs": [],
   "source": [
    "targets_len_cp = targets_len.copy()"
   ]
  },
  {
   "cell_type": "code",
   "execution_count": 116,
   "id": "84a75391",
   "metadata": {},
   "outputs": [],
   "source": [
    "loss_masks = []\n",
    "for char_pos, output in enumerate(outputs):\n",
    "    loss_masks.append(get_mask(targets_len_cp, DEVICE))\n",
    "    targets_len_cp = reduce_lens(targets_len_cp)"
   ]
  },
  {
   "cell_type": "code",
   "execution_count": 117,
   "id": "d2e98f8c",
   "metadata": {},
   "outputs": [
    {
     "data": {
      "text/plain": [
       "tensor(1., device='cuda:0')"
      ]
     },
     "execution_count": 117,
     "metadata": {},
     "output_type": "execute_result"
    }
   ],
   "source": [
    "batch_acc(outputs, padded_targets_batch, loss_masks)"
   ]
  },
  {
   "cell_type": "code",
   "execution_count": 186,
   "id": "f0df2465",
   "metadata": {
    "scrolled": false
   },
   "outputs": [
    {
     "name": "stdout",
     "output_type": "stream",
     "text": [
      "print((2*7))bbbbbbbbbbbbbbbbbbbbbbbb\n",
      "out: 142\n",
      "target: 14b\n",
      "\n"
     ]
    }
   ],
   "source": [
    "eval_encdec_padded(encoder, decoder, padded_samples_batch, padded_targets_batch, samples_len, targets_len, DEVICE)"
   ]
  },
  {
   "cell_type": "code",
   "execution_count": 62,
   "id": "64a348b8",
   "metadata": {},
   "outputs": [],
   "source": [
    "def eval_encdec_padded(encoder, decoder, padded_samples_batch, padded_targets_batch, samples_len, targets_len, device):\n",
    "    outputs = encdec_fwd_padded_batch(encoder, decoder, padded_samples_batch, padded_targets_batch, samples_len, targets_len, device)\n",
    "    eval_padded(outputs, padded_targets_batch, padded_samples_batch)"
   ]
  },
  {
   "cell_type": "code",
   "execution_count": 14,
   "id": "58d3b561",
   "metadata": {},
   "outputs": [],
   "source": [
    "def batch_acc(outputs, target, loss_masks):\n",
    "    masked_outputs = torch.concat(\n",
    "        [(output.argmax(1)*mask).unsqueeze(1) for output, mask in zip(outputs, loss_masks)], dim=1)\n",
    "    not_valid_outputs = sum([sum(mask == False) for mask in loss_masks])\n",
    "    valid_outputs = sum([sum(mask == True) for mask in loss_masks])\n",
    "    outputs_equal_to_targets = (masked_outputs == target.argmax(2)).sum()\n",
    "    return (outputs_equal_to_targets - not_valid_outputs)/valid_outputs"
   ]
  }
 ],
 "metadata": {
  "kernelspec": {
   "display_name": "lte",
   "language": "python",
   "name": "lte"
  },
  "language_info": {
   "codemirror_mode": {
    "name": "ipython",
    "version": 3
   },
   "file_extension": ".py",
   "mimetype": "text/x-python",
   "name": "python",
   "nbconvert_exporter": "python",
   "pygments_lexer": "ipython3",
   "version": "3.10.6"
  }
 },
 "nbformat": 4,
 "nbformat_minor": 5
}
