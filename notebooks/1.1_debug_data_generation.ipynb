{
 "cells": [
  {
   "cell_type": "code",
   "execution_count": 1,
   "id": "7973f6e3",
   "metadata": {},
   "outputs": [],
   "source": [
    "from data.data import generate_sample"
   ]
  },
  {
   "cell_type": "code",
   "execution_count": 14,
   "id": "3480aae3",
   "metadata": {},
   "outputs": [],
   "source": [
    "program, value = generate_sample(1, 2, 'test')"
   ]
  },
  {
   "cell_type": "code",
   "execution_count": 15,
   "id": "18c1c806",
   "metadata": {},
   "outputs": [
    {
     "name": "stdout",
     "output_type": "stream",
     "text": [
      "e=8\n",
      "for i in range(2): e+=(4*6)\n",
      "print(e)\n"
     ]
    }
   ],
   "source": [
    "print(program)"
   ]
  },
  {
   "cell_type": "code",
   "execution_count": 16,
   "id": "b05151e1",
   "metadata": {},
   "outputs": [
    {
     "name": "stdout",
     "output_type": "stream",
     "text": [
      "56\n",
      "56\n"
     ]
    }
   ],
   "source": [
    "exec(program)\n",
    "print(value)"
   ]
  }
 ],
 "metadata": {
  "kernelspec": {
   "display_name": "lte",
   "language": "python",
   "name": "lte"
  },
  "language_info": {
   "codemirror_mode": {
    "name": "ipython",
    "version": 3
   },
   "file_extension": ".py",
   "mimetype": "text/x-python",
   "name": "python",
   "nbconvert_exporter": "python",
   "pygments_lexer": "ipython3",
   "version": "3.10.6"
  }
 },
 "nbformat": 4,
 "nbformat_minor": 5
}
