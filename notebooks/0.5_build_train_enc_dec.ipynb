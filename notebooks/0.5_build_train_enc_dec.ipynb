{
 "cells": [
  {
   "cell_type": "code",
   "execution_count": 19,
   "id": "7a0b75df",
   "metadata": {},
   "outputs": [],
   "source": [
    "from model.lstm import LSTM\n",
    "from data.generator import get_vocab_size, generate_batch\n",
    "from utils.rnn_utils import get_mask, get_hidden_mask, reduce_lens, save_states, populate_first_output, build_first_output\n",
    "\n",
    "import torch\n",
    "from tqdm.notebook import trange\n",
    "import seaborn as sns"
   ]
  },
  {
   "cell_type": "code",
   "execution_count": 2,
   "id": "dec63c04",
   "metadata": {},
   "outputs": [],
   "source": [
    "MAX_ITER = 1000\n",
    "HID_SIZE = 100\n",
    "BS = 16\n",
    "LR = 3e-4\n",
    "DEVICE = 'cpu'"
   ]
  },
  {
   "cell_type": "code",
   "execution_count": 3,
   "id": "ad0b6c2b",
   "metadata": {},
   "outputs": [],
   "source": [
    "encoder = LSTM(\n",
    "    input_size=get_vocab_size(),\n",
    "    hidden_size=HID_SIZE,\n",
    "    output_size=get_vocab_size(),\n",
    "    batch_size=16,\n",
    ").to(DEVICE)\n",
    "\n",
    "decoder = LSTM(\n",
    "    input_size=get_vocab_size(),\n",
    "    hidden_size=HID_SIZE,\n",
    "    output_size=get_vocab_size(),\n",
    "    batch_size=16,\n",
    ").to(DEVICE)"
   ]
  },
  {
   "cell_type": "code",
   "execution_count": 4,
   "id": "abf52b9a",
   "metadata": {},
   "outputs": [],
   "source": [
    "enc_dec_parameters = [p for p in encoder.parameters()] + [p for p in decoder.parameters()]"
   ]
  },
  {
   "cell_type": "code",
   "execution_count": 5,
   "id": "008a7392",
   "metadata": {},
   "outputs": [],
   "source": [
    "padded_samples_batch, padded_targets_batch, samples_len, targets_len = generate_batch(length=1, nesting=1, batch_size=BS)\n",
    "padded_samples_batch, padded_targets_batch = padded_samples_batch.to(DEVICE), padded_targets_batch.to(DEVICE)"
   ]
  },
  {
   "cell_type": "code",
   "execution_count": 6,
   "id": "975ee6ff",
   "metadata": {},
   "outputs": [],
   "source": [
    "loss = torch.nn.CrossEntropyLoss(reduction='none')\n",
    "opt = torch.optim.Adam(enc_dec_parameters, lr=LR)"
   ]
  },
  {
   "cell_type": "code",
   "execution_count": 16,
   "id": "528084e0",
   "metadata": {},
   "outputs": [],
   "source": [
    "def step(encoder, decoder, sample, target, samples_len, targets_len, loss, opt, device):\n",
    "    opt.zero_grad()\n",
    "    encoder.train()\n",
    "    decoder.train()\n",
    "    outputs = []\n",
    "    first_output = {}\n",
    "    h_dict, c_dict = {1: {}, 2: {}}, {1: {}, 2: {}}\n",
    "    samples_len = samples_len.copy()\n",
    "    targets_len = targets_len.copy()\n",
    "    hid_size = encoder.h_t_1.size(1)\n",
    "    \n",
    "    for char_pos in range(sample.size(1)):\n",
    "        hidden_mask = get_hidden_mask(samples_len, hid_size, device)\n",
    "        output = encoder(sample[:, char_pos, :].squeeze(), hidden_mask)\n",
    "        samples_len = reduce_lens(samples_len)\n",
    "        h_dict, c_dict = save_states(encoder, h_dict, c_dict, samples_len)\n",
    "        first_output = populate_first_output(output, samples_len, first_output)\n",
    "    \n",
    "    decoder.set_states(h_dict, c_dict)\n",
    "\n",
    "    targets_len_copy = targets_len.copy()\n",
    "    hidden_mask = get_hidden_mask(targets_len_copy, hid_size, device)\n",
    "    output = decoder(build_first_output(first_output), hidden_mask)\n",
    "    outputs.append(output)\n",
    "    \n",
    "    for char_pos in range(target.size(1) - 1):\n",
    "        hidden_mask = get_hidden_mask(targets_len_copy, hid_size, device)\n",
    "        output = decoder(target[:, char_pos, :].squeeze(), hidden_mask)\n",
    "        targets_len_copy = reduce_lens(targets_len_copy)\n",
    "        outputs.append(output)\n",
    "        \n",
    "    count_nonzero = 0\n",
    "    cumulative_loss = 0\n",
    "    loss_masks = []\n",
    "    for char_pos, output in enumerate(outputs):\n",
    "        loss_masks.append(get_mask(targets_len, device))\n",
    "        targets_len = reduce_lens(targets_len)\n",
    "        char_loss = loss(output, torch.argmax(target[:, char_pos, :].squeeze(), dim=1)) * loss_masks[-1]\n",
    "        count_nonzero += (char_loss != 0).sum()\n",
    "        cumulative_loss += torch.sum(char_loss)\n",
    "    avg_loss = cumulative_loss / count_nonzero\n",
    "    \n",
    "    avg_loss.backward()\n",
    "    opt.step()\n",
    "\n",
    "    encoder.detach_states()\n",
    "    decoder.detach_states()\n",
    "    return avg_loss.item()"
   ]
  },
  {
   "cell_type": "code",
   "execution_count": 17,
   "id": "51c2350c",
   "metadata": {},
   "outputs": [
    {
     "data": {
      "application/vnd.jupyter.widget-view+json": {
       "model_id": "28c71f4ed491415b9757166bb10d154d",
       "version_major": 2,
       "version_minor": 0
      },
      "text/plain": [
       "  0%|          | 0/1000 [00:00<?, ?it/s]"
      ]
     },
     "metadata": {},
     "output_type": "display_data"
    }
   ],
   "source": [
    "loss_values = []\n",
    "for it in trange(MAX_ITER):\n",
    "    loss_values.append(step(encoder, decoder, padded_samples_batch, padded_targets_batch, samples_len, targets_len, loss, opt, DEVICE))"
   ]
  },
  {
   "cell_type": "code",
   "execution_count": 20,
   "id": "dd1731ee",
   "metadata": {},
   "outputs": [
    {
     "data": {
      "image/png": "[encoded data removed]",
      "text/plain": [
       "<Figure size 640x480 with 1 Axes>"
      ]
     },
     "metadata": {},
     "output_type": "display_data"
    }
   ],
   "source": [
    "ax = sns.lineplot(loss_values)"
   ]
  }
 ],
 "metadata": {
  "kernelspec": {
   "display_name": "lte",
   "language": "python",
   "name": "lte"
  },
  "language_info": {
   "codemirror_mode": {
    "name": "ipython",
    "version": 3
   },
   "file_extension": ".py",
   "mimetype": "text/x-python",
   "name": "python",
   "nbconvert_exporter": "python",
   "pygments_lexer": "ipython3",
   "version": "3.10.6"
  }
 },
 "nbformat": 4,
 "nbformat_minor": 5
}
