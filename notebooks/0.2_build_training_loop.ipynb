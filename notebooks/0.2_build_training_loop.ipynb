{
 "cells": [
  {
   "cell_type": "code",
   "execution_count": 1,
   "id": "ca168f21",
   "metadata": {},
   "outputs": [],
   "source": [
    "import torch\n",
    "from data.data import generate_sample\n",
    "from model.dntm.DynamicNeuralTuringMachine import DynamicNeuralTuringMachine\n",
    "from model.dntm.DynamicNeuralTuringMachineMemory import DynamicNeuralTuringMachineMemory\n",
    "\n",
    "from utils.wandb_utils import log_params_norm, log_weights_gradient"
   ]
  },
  {
   "cell_type": "code",
   "execution_count": 2,
   "id": "bab8c78e",
   "metadata": {},
   "outputs": [],
   "source": [
    "import seaborn as sns"
   ]
  },
  {
   "cell_type": "code",
   "execution_count": 3,
   "id": "d6409560",
   "metadata": {},
   "outputs": [],
   "source": [
    "vocab_chars = set('abcdefghijklmnopqrstuvwxyz0123456789()+*-=<>: ')\n",
    "vocab_size = len(vocab_chars) + 1\n",
    "target_vocab_chars = set('0123456789-')\n",
    "target_vocab_size = len(target_vocab_chars)\n",
    "\n",
    "token2pos = {t: p for p, t in enumerate(vocab_chars)}\n",
    "token2pos['\\n'] = len(token2pos)\n",
    "target_token2pos = {t: p for p, t in enumerate(target_vocab_chars)}"
   ]
  },
  {
   "cell_type": "code",
   "execution_count": 4,
   "id": "e6152f8e",
   "metadata": {},
   "outputs": [],
   "source": [
    "pos2token = {p: t for t, p in token2pos.items()}"
   ]
  },
  {
   "cell_type": "code",
   "execution_count": 5,
   "id": "92be84fa",
   "metadata": {},
   "outputs": [],
   "source": [
    "def make_1hot(char, token2pos, vocab_size):\n",
    "    onehot_vec = torch.zeros((1, vocab_size))\n",
    "    onehot_vec[0, token2pos[char]] = 1\n",
    "    return onehot_vec"
   ]
  },
  {
   "cell_type": "code",
   "execution_count": 6,
   "id": "b4331527",
   "metadata": {},
   "outputs": [],
   "source": [
    "def make_tensor(sample, token2pos, vocab_size):\n",
    "    sample_tensor = []\n",
    "    for c in sample:\n",
    "        sample_tensor.append(make_1hot(c, token2pos, vocab_size))\n",
    "    return torch.concat(sample_tensor).unsqueeze(dim=0)"
   ]
  },
  {
   "cell_type": "code",
   "execution_count": 7,
   "id": "0f07cef7",
   "metadata": {},
   "outputs": [
    {
     "name": "stdout",
     "output_type": "stream",
     "text": [
      "print((88*20))\n",
      "1760\n",
      "1760\n"
     ]
    }
   ],
   "source": [
    "x, y = generate_sample(length=2, nesting=1)\n",
    "print(x)\n",
    "print(y)\n",
    "exec(x)"
   ]
  },
  {
   "cell_type": "code",
   "execution_count": 8,
   "id": "dcbeb9a4",
   "metadata": {},
   "outputs": [],
   "source": [
    "x_t, y_t = make_tensor(x, token2pos, vocab_size), make_tensor(y, token2pos, vocab_size)"
   ]
  },
  {
   "cell_type": "code",
   "execution_count": 9,
   "id": "bd970c65",
   "metadata": {},
   "outputs": [],
   "source": [
    "assert x_t.size(1) == len(x)\n",
    "assert y_t.size(1) == len(y)"
   ]
  },
  {
   "cell_type": "code",
   "execution_count": 84,
   "id": "e92518dd",
   "metadata": {},
   "outputs": [],
   "source": [
    "class LSTM(torch.nn.Module):\n",
    "    def __init__(self, input_size, hidden_size, output_size):\n",
    "        super(LSTM, self).__init__()\n",
    "        self.lstm_cell = torch.nn.LSTMCell(\n",
    "            input_size=input_size,\n",
    "            hidden_size=hidden_size)\n",
    "        self.W_o = torch.nn.Parameter(torch.rand(output_size, hidden_size))\n",
    "        self.b_o = torch.nn.Parameter(torch.rand(1))\n",
    "        self.register_buffer(\"h_t\", torch.zeros(hidden_size))\n",
    "        self.register_buffer(\"c_t\", torch.zeros(hidden_size))\n",
    "    \n",
    "    def forward(self, x):\n",
    "        self.h_t, self.c_t = self.lstm_cell(x, (self.h_t, self.c_t))\n",
    "        return self.W_o @ self.h_t + self.b_o\n",
    "    \n",
    "    def detach_states(self):\n",
    "        self.h_t = self.h_t.detach()\n",
    "        self.c_t = self.c_t.detach()"
   ]
  },
  {
   "cell_type": "code",
   "execution_count": 85,
   "id": "7d6de00a",
   "metadata": {},
   "outputs": [],
   "source": [
    "def train(model, sample, target, loss, opt):\n",
    "    opt.zero_grad()\n",
    "    outputs = []\n",
    "\n",
    "    for char_pos in range(sample.size(1)):\n",
    "        output = model(sample[:, char_pos, :].squeeze())\n",
    "    outputs.append(output)\n",
    "\n",
    "    for char_pos in range(target.size(1) - 1):\n",
    "        output = model(target[:, char_pos, :].squeeze())\n",
    "        outputs.append(output)\n",
    "\n",
    "    cumulative_loss = 0\n",
    "    for char_pos, output in enumerate(outputs):\n",
    "        cumulative_loss += loss(output, torch.argmax(target[:, char_pos, :].squeeze()))\n",
    "    avg_loss = cumulative_loss / len(outputs)\n",
    "\n",
    "    avg_loss.backward()\n",
    "    opt.step()\n",
    "\n",
    "    model.detach_states()\n",
    "    return avg_loss.item()"
   ]
  },
  {
   "cell_type": "code",
   "execution_count": 47,
   "id": "52c077d5",
   "metadata": {},
   "outputs": [],
   "source": [
    "from IPython.core.debugger import set_trace"
   ]
  },
  {
   "cell_type": "code",
   "execution_count": 56,
   "id": "413d243b",
   "metadata": {},
   "outputs": [],
   "source": [
    "def train_dntm(model, sample, target, loss, opt):\n",
    "    opt.zero_grad()\n",
    "    outputs = []\n",
    "    \n",
    "    model.prepare_for_batch(sample, sample.device)\n",
    "    for char_pos in range(sample.size(1)):\n",
    "        output = model(sample[:, char_pos, :].view(sample.size(2), 1))\n",
    "    outputs.append(output)\n",
    "\n",
    "    for char_pos in range(target.size(1) - 1):\n",
    "        output = model(target[:, char_pos, :].view(sample.size(2), 1))\n",
    "        outputs.append(output)\n",
    "\n",
    "    cumulative_loss = 0\n",
    "    for char_pos, output in enumerate(outputs):\n",
    "        cumulative_loss += loss(output.squeeze(), torch.argmax(target[:, char_pos, :].squeeze()))\n",
    "    avg_loss = cumulative_loss / len(outputs)\n",
    "\n",
    "    avg_loss.backward()\n",
    "    opt.step()\n",
    "\n",
    "    return avg_loss.item()"
   ]
  },
  {
   "cell_type": "code",
   "execution_count": 168,
   "id": "02c46378",
   "metadata": {},
   "outputs": [],
   "source": [
    "few_samples = [generate_sample(length=2, nesting=1) for i in range(100)]\n",
    "few_tensor_samples = [(make_tensor(x, token2pos, vocab_size), make_tensor(y, token2pos, vocab_size))\n",
    "                      for x, y in few_samples]"
   ]
  },
  {
   "cell_type": "code",
   "execution_count": 169,
   "id": "df56b739",
   "metadata": {},
   "outputs": [],
   "source": [
    "def get_sample(few_tensor_samples):\n",
    "    return few_tensor_samples[torch.randint(len(few_tensor_samples), (1,)).item()]"
   ]
  },
  {
   "cell_type": "code",
   "execution_count": 86,
   "id": "e5eef932",
   "metadata": {},
   "outputs": [],
   "source": [
    "model = LSTM(\n",
    "    input_size=vocab_size,\n",
    "    hidden_size=100,\n",
    "    output_size=vocab_size)"
   ]
  },
  {
   "cell_type": "code",
   "execution_count": 194,
   "id": "9ed5eab4",
   "metadata": {},
   "outputs": [],
   "source": [
    "dntm_memory = DynamicNeuralTuringMachineMemory(\n",
    "        n_locations=100,\n",
    "        content_size=8,\n",
    "        address_size=8,\n",
    "        controller_input_size=vocab_size,\n",
    "        controller_hidden_state_size=100,\n",
    "    )"
   ]
  },
  {
   "cell_type": "code",
   "execution_count": 195,
   "id": "4956132c",
   "metadata": {},
   "outputs": [],
   "source": [
    "dntm = DynamicNeuralTuringMachine(\n",
    "    memory=dntm_memory,\n",
    "    controller_hidden_state_size=100,\n",
    "    controller_input_size=vocab_size,\n",
    "    controller_output_size=vocab_size,\n",
    ")"
   ]
  },
  {
   "cell_type": "code",
   "execution_count": 196,
   "id": "34212fdc",
   "metadata": {},
   "outputs": [],
   "source": [
    "model = dntm"
   ]
  },
  {
   "cell_type": "code",
   "execution_count": 197,
   "id": "948551f1",
   "metadata": {},
   "outputs": [],
   "source": [
    "loss = torch.nn.CrossEntropyLoss()\n",
    "opt = torch.optim.Adam(model.parameters(), lr=0.001)\n",
    "MAX_ITER = 5000"
   ]
  },
  {
   "cell_type": "code",
   "execution_count": 89,
   "id": "24214ed1",
   "metadata": {},
   "outputs": [],
   "source": [
    "loss_values = []\n",
    "for step in range(MAX_ITER):\n",
    "    loss_values.append(train(model, x_t, y_t, loss, opt))"
   ]
  },
  {
   "cell_type": "code",
   "execution_count": null,
   "id": "a005e262",
   "metadata": {},
   "outputs": [],
   "source": [
    "loss_values = []\n",
    "for step in range(MAX_ITER):\n",
    "    x_t, y_t = get_sample(few_tensor_samples)\n",
    "    loss_values.append(train_dntm(model, x_t, y_t, loss, opt))"
   ]
  },
  {
   "cell_type": "code",
   "execution_count": 192,
   "id": "06bb4fd0",
   "metadata": {},
   "outputs": [
    {
     "data": {
      "image/png": "[encoded data removed]",
      "text/plain": [
       "<Figure size 640x480 with 1 Axes>"
      ]
     },
     "metadata": {},
     "output_type": "display_data"
    }
   ],
   "source": [
    "AxesSubplot = sns.lineplot(loss_values)\n",
    "# _ = AxesSubplot.set(title=f\"{x} {y}\")"
   ]
  },
  {
   "cell_type": "markdown",
   "id": "bb1f71a4",
   "metadata": {},
   "source": [
    "Expected cross-entropy value with random prediction:"
   ]
  },
  {
   "cell_type": "code",
   "execution_count": 156,
   "id": "edfa3eff",
   "metadata": {},
   "outputs": [
    {
     "data": {
      "text/plain": [
       "tensor(3.8501)"
      ]
     },
     "execution_count": 156,
     "metadata": {},
     "output_type": "execute_result"
    }
   ],
   "source": [
    "torch.log(torch.tensor(vocab_size))"
   ]
  },
  {
   "cell_type": "code",
   "execution_count": 157,
   "id": "f874178a",
   "metadata": {},
   "outputs": [],
   "source": [
    "def target_tensors_to_str(y_t):\n",
    "    idx_outputs = [torch.argmax(o).item() for o in y_t]\n",
    "    return ''.join([pos2token[idx] for idx in idx_outputs])"
   ]
  },
  {
   "cell_type": "code",
   "execution_count": 152,
   "id": "a79e3fed",
   "metadata": {},
   "outputs": [],
   "source": [
    "# LSTM\n",
    "sample, target = x_t, y_t\n",
    "\n",
    "outputs = []\n",
    "for char_pos in range(sample.size(1)):\n",
    "    output = model(sample[:, char_pos, :].squeeze())\n",
    "outputs.append(output)\n",
    "\n",
    "for char_pos in range(target.size(1) - 1):\n",
    "    output = model(target[:, char_pos, :].squeeze())\n",
    "    outputs.append(output)"
   ]
  },
  {
   "cell_type": "code",
   "execution_count": 165,
   "id": "4b84ebd0",
   "metadata": {},
   "outputs": [],
   "source": [
    "# D-NTM\n",
    "sample, target = get_sample(few_tensor_samples)\n",
    "\n",
    "outputs = []\n",
    "model.prepare_for_batch(sample, sample.device)\n",
    "for char_pos in range(sample.size(1)):\n",
    "    output = model(sample[:, char_pos, :].view(sample.size(2), 1))\n",
    "outputs.append(output)\n",
    "\n",
    "for char_pos in range(target.size(1) - 1):\n",
    "    output = model(target[:, char_pos, :].view(sample.size(2), 1))\n",
    "    outputs.append(output)\n",
    "\n",
    "outputs = [o.squeeze() for o in outputs]"
   ]
  },
  {
   "cell_type": "code",
   "execution_count": 166,
   "id": "5de1085b",
   "metadata": {},
   "outputs": [
    {
     "data": {
      "text/plain": [
       "'92'"
      ]
     },
     "execution_count": 166,
     "metadata": {},
     "output_type": "execute_result"
    }
   ],
   "source": [
    "target_tensors_to_str(outputs)"
   ]
  },
  {
   "cell_type": "code",
   "execution_count": 167,
   "id": "72e28a63",
   "metadata": {},
   "outputs": [
    {
     "data": {
      "text/plain": [
       "'92'"
      ]
     },
     "execution_count": 167,
     "metadata": {},
     "output_type": "execute_result"
    }
   ],
   "source": [
    "targets = [target[:, i, :].squeeze() for i in range(target.size(1))]\n",
    "target_tensors_to_str(targets)"
   ]
  },
  {
   "cell_type": "code",
   "execution_count": null,
   "id": "5452e086",
   "metadata": {},
   "outputs": [],
   "source": [
    "def valid():\n",
    "    pass"
   ]
  },
  {
   "cell_type": "code",
   "execution_count": null,
   "id": "00a774ab",
   "metadata": {},
   "outputs": [],
   "source": [
    "main()"
   ]
  }
 ],
 "metadata": {
  "kernelspec": {
   "display_name": "lte",
   "language": "python",
   "name": "lte"
  },
  "language_info": {
   "codemirror_mode": {
    "name": "ipython",
    "version": 3
   },
   "file_extension": ".py",
   "mimetype": "text/x-python",
   "name": "python",
   "nbconvert_exporter": "python",
   "pygments_lexer": "ipython3",
   "version": "3.10.6"
  }
 },
 "nbformat": 4,
 "nbformat_minor": 5
}
