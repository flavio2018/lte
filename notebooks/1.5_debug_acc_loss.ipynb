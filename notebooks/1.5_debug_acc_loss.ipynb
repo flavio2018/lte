{
 "cells": [
  {
   "cell_type": "code",
   "execution_count": 11,
   "id": "9039f2e6",
   "metadata": {},
   "outputs": [],
   "source": [
    "from model.test import batch_acc, compute_loss\n",
    "from data.generator import get_vocab_size, get_token2pos\n",
    "import torch"
   ]
  },
  {
   "cell_type": "code",
   "execution_count": 105,
   "id": "407b7a5a",
   "metadata": {},
   "outputs": [],
   "source": [
    "loss = torch.nn.CrossEntropyLoss(reduction='none')"
   ]
  },
  {
   "cell_type": "code",
   "execution_count": 106,
   "id": "090d1fb4",
   "metadata": {},
   "outputs": [],
   "source": [
    "vocab_size = get_vocab_size()\n",
    "BS = 16"
   ]
  },
  {
   "cell_type": "code",
   "execution_count": 190,
   "id": "61bc657f",
   "metadata": {},
   "outputs": [],
   "source": [
    "targets = torch.zeros((BS, 4, vocab_size))"
   ]
  },
  {
   "cell_type": "code",
   "execution_count": 191,
   "id": "d7f152a8",
   "metadata": {},
   "outputs": [],
   "source": [
    "outputs = torch.randn((BS, 4, vocab_size))"
   ]
  },
  {
   "cell_type": "code",
   "execution_count": 192,
   "id": "62a146fe",
   "metadata": {},
   "outputs": [],
   "source": [
    "token2pos=get_token2pos()"
   ]
  },
  {
   "cell_type": "code",
   "execution_count": 193,
   "id": "cac2ec67",
   "metadata": {},
   "outputs": [
    {
     "data": {
      "text/plain": [
       "16"
      ]
     },
     "execution_count": 193,
     "metadata": {},
     "output_type": "execute_result"
    }
   ],
   "source": [
    "token2pos['2']"
   ]
  },
  {
   "cell_type": "code",
   "execution_count": 194,
   "id": "a44b7be7",
   "metadata": {},
   "outputs": [
    {
     "data": {
      "text/plain": [
       "22"
      ]
     },
     "execution_count": 194,
     "metadata": {},
     "output_type": "execute_result"
    }
   ],
   "source": [
    "token2pos['0']"
   ]
  },
  {
   "cell_type": "code",
   "execution_count": 195,
   "id": "a2fc4145",
   "metadata": {},
   "outputs": [
    {
     "data": {
      "text/plain": [
       "47"
      ]
     },
     "execution_count": 195,
     "metadata": {},
     "output_type": "execute_result"
    }
   ],
   "source": [
    "token2pos['#']"
   ]
  },
  {
   "cell_type": "code",
   "execution_count": 197,
   "id": "c7544fd5",
   "metadata": {},
   "outputs": [],
   "source": [
    "targets[:, 0, 16] = 1  # make all answers start with 2\n",
    "targets[:, 1, 22] = 1  # make all answers 100\n",
    "targets[:, 2, 22] = 1  # make all answers 100\n",
    "targets[:, 3, 47] = 1  # add padding"
   ]
  },
  {
   "cell_type": "code",
   "execution_count": 198,
   "id": "24f29d7b",
   "metadata": {},
   "outputs": [],
   "source": [
    "outputs[:, 0, 41] += 100  # make all answers start with 1\n",
    "outputs[:, 1, 22] += 100  # make all answers 100\n",
    "outputs[:, 2, 22] += 100  # make all answers 100\n",
    "outputs[:, 3, 2] += 100  # add other symbol instead of padding"
   ]
  },
  {
   "cell_type": "code",
   "execution_count": 199,
   "id": "4687a2e9",
   "metadata": {},
   "outputs": [],
   "source": [
    "outputs = [outputs[:, i, :].squeeze() for i in range(outputs.size(1))]"
   ]
  },
  {
   "cell_type": "code",
   "execution_count": 200,
   "id": "f71bcd87",
   "metadata": {},
   "outputs": [
    {
     "data": {
      "text/plain": [
       "tensor(0.6667)"
      ]
     },
     "execution_count": 200,
     "metadata": {},
     "output_type": "execute_result"
    }
   ],
   "source": [
    "batch_acc(outputs, targets, vocab_size)"
   ]
  },
  {
   "cell_type": "code",
   "execution_count": 201,
   "id": "c31cc2e5",
   "metadata": {},
   "outputs": [],
   "source": [
    "def compute_loss(loss, outputs, target):\n",
    "    cumulative_loss = 0\n",
    "    idx_pad = get_vocab_size() - 1  # get index padding\n",
    "    idx_targets = target.argmax(dim=-1)  # make targets a matrix of indices\n",
    "    mask = (idx_targets != idx_pad).type(torch.int32)  # compute integer mask\n",
    "    for char_pos, output in enumerate(outputs):\n",
    "        print(output.size(), target[:, char_pos, :].squeeze().size())\n",
    "        print(torch.argmax(output, dim=1))\n",
    "        print(torch.argmax(target[:, char_pos, :].squeeze(), dim=1))\n",
    "        char_loss = loss(output, torch.argmax(target[:, char_pos, :].squeeze(), dim=1))  # compute loss for timestep in batch\n",
    "        print(char_loss)\n",
    "        masked_char_loss = char_loss * mask[:, char_pos]\n",
    "        print(masked_char_loss)\n",
    "        cumulative_loss += masked_char_loss.sum()\n",
    "        print(cumulative_loss)\n",
    "        print()\n",
    "    avg_loss = cumulative_loss / mask.sum()\n",
    "    return avg_loss"
   ]
  },
  {
   "cell_type": "code",
   "execution_count": 202,
   "id": "88f52425",
   "metadata": {},
   "outputs": [
    {
     "name": "stdout",
     "output_type": "stream",
     "text": [
      "torch.Size([16, 48]) torch.Size([16, 48])\n",
      "tensor([41, 41, 41, 41, 41, 41, 41, 41, 41, 41, 41, 41, 41, 41, 41, 41])\n",
      "tensor([16, 16, 16, 16, 16, 16, 16, 16, 16, 16, 16, 16, 16, 16, 16, 16])\n",
      "tensor([ 98.6602, 100.1316, 101.1045,  98.5103, 100.3376, 102.6636, 101.0573,\n",
      "        100.2924, 102.0731,  98.6486, 100.0426,  98.3982,  98.0179,  99.5142,\n",
      "        101.0232,  98.8062])\n",
      "tensor([ 98.6602, 100.1316, 101.1045,  98.5103, 100.3376, 102.6636, 101.0573,\n",
      "        100.2924, 102.0731,  98.6486, 100.0426,  98.3982,  98.0179,  99.5142,\n",
      "        101.0232,  98.8062])\n",
      "tensor(1599.2815)\n",
      "\n",
      "torch.Size([16, 48]) torch.Size([16, 48])\n",
      "tensor([22, 22, 22, 22, 22, 22, 22, 22, 22, 22, 22, 22, 22, 22, 22, 22])\n",
      "tensor([22, 22, 22, 22, 22, 22, 22, 22, 22, 22, 22, 22, 22, 22, 22, 22])\n",
      "tensor([-0., -0., -0., -0., -0., -0., -0., -0., -0., -0., -0., -0., -0., -0., -0., -0.])\n",
      "tensor([-0., -0., -0., -0., -0., -0., -0., -0., -0., -0., -0., -0., -0., -0., -0., -0.])\n",
      "tensor(1599.2815)\n",
      "\n",
      "torch.Size([16, 48]) torch.Size([16, 48])\n",
      "tensor([22, 22, 22, 22, 22, 22, 22, 22, 22, 22, 22, 22, 22, 22, 22, 22])\n",
      "tensor([22, 22, 22, 22, 22, 22, 22, 22, 22, 22, 22, 22, 22, 22, 22, 22])\n",
      "tensor([-0., -0., -0., -0., -0., -0., -0., -0., -0., -0., -0., -0., -0., -0., -0., -0.])\n",
      "tensor([-0., -0., -0., -0., -0., -0., -0., -0., -0., -0., -0., -0., -0., -0., -0., -0.])\n",
      "tensor(1599.2815)\n",
      "\n",
      "torch.Size([16, 48]) torch.Size([16, 48])\n",
      "tensor([2, 2, 2, 2, 2, 2, 2, 2, 2, 2, 2, 2, 2, 2, 2, 2])\n",
      "tensor([47, 47, 47, 47, 47, 47, 47, 47, 47, 47, 47, 47, 47, 47, 47, 47])\n",
      "tensor([ 98.9657, 102.0063, 101.1704, 101.1550, 100.7266, 100.5745, 101.8780,\n",
      "         98.6178, 100.1511, 101.1447, 100.7805,  98.4826,  98.0185,  98.6661,\n",
      "         99.0271,  99.5606])\n",
      "tensor([0., 0., 0., 0., 0., 0., 0., 0., 0., 0., 0., 0., 0., 0., 0., 0.])\n",
      "tensor(1599.2815)\n",
      "\n"
     ]
    },
    {
     "data": {
      "text/plain": [
       "tensor(33.3184)"
      ]
     },
     "execution_count": 202,
     "metadata": {},
     "output_type": "execute_result"
    }
   ],
   "source": [
    "compute_loss(loss, outputs, targets)"
   ]
  },
  {
   "cell_type": "code",
   "execution_count": 159,
   "id": "a75d0482",
   "metadata": {},
   "outputs": [],
   "source": [
    "import numpy as np"
   ]
  },
  {
   "cell_type": "code",
   "execution_count": 187,
   "id": "3a298735",
   "metadata": {},
   "outputs": [
    {
     "data": {
      "text/plain": [
       "27"
      ]
     },
     "execution_count": 187,
     "metadata": {},
     "output_type": "execute_result"
    }
   ],
   "source": [
    "np.random.randint(10**2)"
   ]
  }
 ],
 "metadata": {
  "kernelspec": {
   "display_name": "lte",
   "language": "python",
   "name": "lte"
  },
  "language_info": {
   "codemirror_mode": {
    "name": "ipython",
    "version": 3
   },
   "file_extension": ".py",
   "mimetype": "text/x-python",
   "name": "python",
   "nbconvert_exporter": "python",
   "pygments_lexer": "ipython3",
   "version": "3.10.6"
  }
 },
 "nbformat": 4,
 "nbformat_minor": 5
}
