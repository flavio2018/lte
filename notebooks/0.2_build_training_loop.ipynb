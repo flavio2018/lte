{
 "cells": [
  {
   "cell_type": "code",
   "execution_count": 1,
   "id": "ca168f21",
   "metadata": {},
   "outputs": [],
   "source": [
    "import torch\n",
    "from data.data import generate_sample\n",
    "from model.dntm.DynamicNeuralTuringMachine import DynamicNeuralTuringMachine\n",
    "from model.dntm.DynamicNeuralTuringMachineMemory import DynamicNeuralTuringMachineMemory"
   ]
  },
  {
   "cell_type": "code",
   "execution_count": 2,
   "id": "bab8c78e",
   "metadata": {},
   "outputs": [],
   "source": [
    "import seaborn as sns"
   ]
  },
  {
   "cell_type": "code",
   "execution_count": 3,
   "id": "8aacdf16",
   "metadata": {},
   "outputs": [],
   "source": [
    "from IPython.core.debugger import set_trace"
   ]
  },
  {
   "cell_type": "markdown",
   "id": "eec55e23",
   "metadata": {},
   "source": [
    "## Data"
   ]
  },
  {
   "cell_type": "code",
   "execution_count": 4,
   "id": "d6409560",
   "metadata": {},
   "outputs": [],
   "source": [
    "vocab_chars = set('abcdefghijklmnopqrstuvwxyz0123456789()+*-=<>: ')\n",
    "vocab_size = len(vocab_chars) + 1\n",
    "\n",
    "token2pos = {t: p for p, t in enumerate(vocab_chars)}\n",
    "token2pos['\\n'] = len(token2pos)"
   ]
  },
  {
   "cell_type": "code",
   "execution_count": 5,
   "id": "e6152f8e",
   "metadata": {},
   "outputs": [],
   "source": [
    "pos2token = {p: t for t, p in token2pos.items()}"
   ]
  },
  {
   "cell_type": "code",
   "execution_count": 6,
   "id": "92be84fa",
   "metadata": {},
   "outputs": [],
   "source": [
    "def make_1hot(char, token2pos, vocab_size):\n",
    "    onehot_vec = torch.zeros((1, vocab_size))\n",
    "    onehot_vec[0, token2pos[char]] = 1\n",
    "    return onehot_vec"
   ]
  },
  {
   "cell_type": "code",
   "execution_count": 7,
   "id": "b4331527",
   "metadata": {},
   "outputs": [],
   "source": [
    "def make_tensor(sample, token2pos, vocab_size):\n",
    "    sample_tensor = []\n",
    "    for c in sample:\n",
    "        sample_tensor.append(make_1hot(c, token2pos, vocab_size))\n",
    "    return torch.concat(sample_tensor).unsqueeze(dim=0)"
   ]
  },
  {
   "cell_type": "markdown",
   "id": "d96088d2",
   "metadata": {},
   "source": [
    "### Sample"
   ]
  },
  {
   "cell_type": "code",
   "execution_count": 8,
   "id": "0f07cef7",
   "metadata": {
    "scrolled": true
   },
   "outputs": [
    {
     "name": "stdout",
     "output_type": "stream",
     "text": [
      "print((10-20))\n",
      "-10\n",
      "-10\n"
     ]
    }
   ],
   "source": [
    "x, y = generate_sample(length=2, nesting=1)\n",
    "print(x)\n",
    "print(y)\n",
    "exec(x)"
   ]
  },
  {
   "cell_type": "code",
   "execution_count": 9,
   "id": "dcbeb9a4",
   "metadata": {},
   "outputs": [],
   "source": [
    "x_t, y_t = make_tensor(x, token2pos, vocab_size), make_tensor(y, token2pos, vocab_size)"
   ]
  },
  {
   "cell_type": "code",
   "execution_count": 10,
   "id": "bd970c65",
   "metadata": {},
   "outputs": [],
   "source": [
    "assert x_t.size(1) == len(x)\n",
    "assert y_t.size(1) == len(y)"
   ]
  },
  {
   "cell_type": "markdown",
   "id": "4dca63e2",
   "metadata": {},
   "source": [
    "### Samples"
   ]
  },
  {
   "cell_type": "code",
   "execution_count": 11,
   "id": "c2168a97",
   "metadata": {},
   "outputs": [],
   "source": [
    "few_samples = [generate_sample(length=2, nesting=1) for i in range(100)]\n",
    "few_tensor_samples = [(make_tensor(x, token2pos, vocab_size), make_tensor(y, token2pos, vocab_size))\n",
    "                      for x, y in few_samples]"
   ]
  },
  {
   "cell_type": "code",
   "execution_count": 12,
   "id": "77bf6404",
   "metadata": {},
   "outputs": [],
   "source": [
    "def get_sample(few_tensor_samples):\n",
    "    return few_tensor_samples[torch.randint(len(few_tensor_samples), (1,)).item()]"
   ]
  },
  {
   "cell_type": "markdown",
   "id": "c906f09d",
   "metadata": {},
   "source": [
    "### Batch"
   ]
  },
  {
   "cell_type": "code",
   "execution_count": 13,
   "id": "36e1f227",
   "metadata": {
    "scrolled": true
   },
   "outputs": [
    {
     "data": {
      "text/plain": [
       "[('y=9\\nprint(y)', '9'),\n",
       " ('p=0\\nprint(p)', '0'),\n",
       " ('c=7\\nprint(c)', '7'),\n",
       " ('print((19+1))', '20'),\n",
       " ('y=23\\nprint(y)', '23'),\n",
       " ('k=18\\nprint(k)', '18'),\n",
       " ('r=39\\nprint(r)', '39'),\n",
       " ('k=75\\nprint(k)', '75'),\n",
       " ('print((2+15))', '17'),\n",
       " ('k=82\\nprint(k)', '82'),\n",
       " ('m=38\\nprint(m)', '38'),\n",
       " ('c=88\\nprint(c)', '88'),\n",
       " ('d=83\\nprint(d)', '83'),\n",
       " ('print((18*3))', '54'),\n",
       " ('b=39\\nprint(b)', '39'),\n",
       " ('print((55-2))', '53'),\n",
       " ('a=77\\nprint(a)', '77'),\n",
       " ('print((3-96))', '-93'),\n",
       " ('print((89-87))', '2'),\n",
       " ('print((35-29))', '6'),\n",
       " ('print((47-41))', '6'),\n",
       " ('print((67+32))', '99'),\n",
       " ('print((43-27))', '16'),\n",
       " ('print((31-21))', '10'),\n",
       " ('print((86-42))', '44'),\n",
       " ('print((63+28))', '91'),\n",
       " ('print((41-45))', '-4'),\n",
       " ('print((72-52))', '20'),\n",
       " ('print((43+74))', '117'),\n",
       " ('print((10-87))', '-77'),\n",
       " ('print((23-99))', '-76'),\n",
       " ('print((25-74))', '-49'),\n",
       " ('print((72+43))', '115'),\n",
       " ('print((31-97))', '-66'),\n",
       " ('print((47+87))', '134'),\n",
       " ('print((53-89))', '-36'),\n",
       " ('print((63-84))', '-21'),\n",
       " ('print((56-76))', '-20'),\n",
       " ('print((76+36))', '112'),\n",
       " ('print((59+67))', '126'),\n",
       " ('print((41+86))', '127'),\n",
       " ('print((93+47))', '140'),\n",
       " ('print((93+94))', '187'),\n",
       " ('print((62+50))', '112'),\n",
       " ('print((79+62))', '141'),\n",
       " ('print((17*38))', '646'),\n",
       " ('print((43-93))', '-50'),\n",
       " ('print((97+30))', '127'),\n",
       " ('print((96+66))', '162'),\n",
       " ('print((87+21))', '108'),\n",
       " ('print((96+64))', '160'),\n",
       " ('print((46+55))', '101'),\n",
       " ('print((98*14))', '1372'),\n",
       " ('print((63*75))', '4725'),\n",
       " ('print((48*80))', '3840'),\n",
       " ('print((17*77))', '1309'),\n",
       " ('print((83*51))', '4233'),\n",
       " ('print((74*19))', '1406'),\n",
       " ('print((57*88))', '5016'),\n",
       " ('print((7 if 44>4 else 74))', '7'),\n",
       " ('print((36 if 6>9 else 55))', '55'),\n",
       " ('print((24 if 5>57 else 13))', '13'),\n",
       " ('print((61 if 56>1 else 75))', '61'),\n",
       " ('print((66 if 13<3 else 49))', '49'),\n",
       " ('print((35 if 32>73 else 60))', '60'),\n",
       " ('print((37 if 31>51 else 74))', '74'),\n",
       " ('print((54 if 44<42 else 23))', '23'),\n",
       " ('print((52 if 96<34 else 69))', '69'),\n",
       " ('print((49 if 42>53 else 46))', '46'),\n",
       " ('print((29 if 96<39 else 74))', '74'),\n",
       " ('print((37 if 61<11 else 73))', '73'),\n",
       " ('print((15 if 29<99 else 22))', '15'),\n",
       " ('print((45 if 59>88 else 17))', '17'),\n",
       " ('print((89 if 26<12 else 76))', '76'),\n",
       " ('print((84 if 90>83 else 21))', '84'),\n",
       " ('print((36 if 33<28 else 22))', '22'),\n",
       " ('print((49 if 18<96 else 76))', '49'),\n",
       " ('print((35 if 66>81 else 50))', '50'),\n",
       " ('print((51 if 68>94 else 68))', '68'),\n",
       " ('print((44 if 46>23 else 88))', '44'),\n",
       " ('p=6\\nfor i in range(0): p-=33\\nprint(p)', '6'),\n",
       " ('n=78\\nfor i in range(6): n-=7\\nprint(n)', '36'),\n",
       " ('c=8\\nfor i in range(5): c-=59\\nprint(c)', '-287'),\n",
       " ('g=47\\nfor i in range(4): g+=12\\nprint(g)', '95'),\n",
       " ('g=46\\nfor i in range(1): g-=35\\nprint(g)', '11'),\n",
       " ('l=43\\nfor i in range(0): l-=91\\nprint(l)', '43'),\n",
       " ('n=86\\nfor i in range(2): n-=38\\nprint(n)', '10'),\n",
       " ('z=32\\nfor i in range(7): z+=35\\nprint(z)', '277'),\n",
       " ('e=74\\nfor i in range(2): e-=69\\nprint(e)', '-64'),\n",
       " ('w=96\\nfor i in range(2): w+=54\\nprint(w)', '204'),\n",
       " ('v=12\\nfor i in range(3): v+=97\\nprint(v)', '303'),\n",
       " ('f=78\\nfor i in range(5): f+=70\\nprint(f)', '428'),\n",
       " ('j=31\\nfor i in range(7): j-=44\\nprint(j)', '-277'),\n",
       " ('m=93\\nfor i in range(6): m-=75\\nprint(m)', '-357'),\n",
       " ('s=84\\nfor i in range(7): s-=70\\nprint(s)', '-406'),\n",
       " ('r=37\\nfor i in range(3): r-=52\\nprint(r)', '-119'),\n",
       " ('e=55\\nfor i in range(2): e-=95\\nprint(e)', '-135'),\n",
       " ('l=67\\nfor i in range(7): l-=37\\nprint(l)', '-192'),\n",
       " ('v=26\\nfor i in range(4): v-=46\\nprint(v)', '-158'),\n",
       " ('r=11\\nfor i in range(5): r-=23\\nprint(r)', '-104')]"
      ]
     },
     "execution_count": 13,
     "metadata": {},
     "output_type": "execute_result"
    }
   ],
   "source": [
    "sorted(few_samples, key=lambda x: (len(x[0]), len(x[1])))"
   ]
  },
  {
   "cell_type": "code",
   "execution_count": 14,
   "id": "0939b69b",
   "metadata": {},
   "outputs": [],
   "source": [
    "equal_len_samples = [[('g=61\\nfor i in range(6): g+=48\\nprint(g)', '349'), \n",
    "                     ('r=62\\nfor i in range(5): r+=48\\nprint(r)', '302')],\n",
    "                    [('t=67\\nprint(t)', '67'),\n",
    "                     ('s=12\\nprint(s)', '12'),],\n",
    "                    [('print((54*69))', '3726'),\n",
    "                     ('print((80*57))', '4560'),],\n",
    "                    [('a=36\\nfor i in range(4): a-=96\\nprint(a)', '-348'),\n",
    "                     ('l=24\\nfor i in range(3): l-=74\\nprint(l)', '-198')],\n",
    "                    [('print((6-1))', '5'),\n",
    "                     ('y=0\\nprint(y)', '0')],\n",
    "                    [('l=84\\nfor i in range(0): l+=39\\nprint(l)', '84'),\n",
    "                     ('w=94\\nfor i in range(0): w+=93\\nprint(w)', '94')],\n",
    "                    [('l=74\\nfor i in range(2): l+=51\\nprint(l)', '176'),\n",
    "                     ('y=49\\nfor i in range(7): y+=52\\nprint(y)', '413'),],\n",
    "                    [('print((28 if 77<71 else 42))', '42'),\n",
    "                     ('print((60 if 19<12 else 19))', '19'),],\n",
    "                    [('print((61 if 66<15 else 36))', '36'),\n",
    "                     ('print((21 if 72>50 else 65))', '21'),],\n",
    "                    [('print((35*82))', '2870'),\n",
    "                     ('print((69*18))', '1242')]]"
   ]
  },
  {
   "cell_type": "code",
   "execution_count": 15,
   "id": "cb17bef6",
   "metadata": {},
   "outputs": [],
   "source": [
    "batched_samples = torch.concat([make_tensor(x, token2pos, vocab_size) for x, y in equal_len_samples[0]])\n",
    "batched_targets = torch.concat([make_tensor(y, token2pos, vocab_size) for x, y in equal_len_samples[0]])"
   ]
  },
  {
   "cell_type": "markdown",
   "id": "c01bef33",
   "metadata": {},
   "source": [
    "### Batches"
   ]
  },
  {
   "cell_type": "code",
   "execution_count": 16,
   "id": "fff24fa6",
   "metadata": {},
   "outputs": [],
   "source": [
    "equal_len_tensor_samples = [torch.concat([make_tensor(x, token2pos, vocab_size) for x, y in equal_len_batch])\n",
    "                            for equal_len_batch in equal_len_samples]\n",
    "equal_len_tensor_targets = [torch.concat([make_tensor(y, token2pos, vocab_size) for x, y in equal_len_batch])\n",
    "                            for equal_len_batch in equal_len_samples]"
   ]
  },
  {
   "cell_type": "code",
   "execution_count": 17,
   "id": "63d3ebf2",
   "metadata": {},
   "outputs": [],
   "source": [
    "def get_batch(equal_len_tensor_samples, equal_len_tensor_targets):\n",
    "    i = torch.randint(len(equal_len_samples), (1,)).item()\n",
    "    return (equal_len_tensor_samples[i],\n",
    "            equal_len_tensor_targets[i])"
   ]
  },
  {
   "cell_type": "markdown",
   "id": "39a43f81",
   "metadata": {},
   "source": [
    "### Padded batch"
   ]
  },
  {
   "cell_type": "code",
   "execution_count": 18,
   "id": "64787b67",
   "metadata": {},
   "outputs": [],
   "source": [
    "few_samples = [generate_sample(length=2, nesting=1) for i in range(16)]\n",
    "samples_len = [len(x) for x, y in few_samples]\n",
    "targets_len = [len(y) for x, y in few_samples]"
   ]
  },
  {
   "cell_type": "code",
   "execution_count": 19,
   "id": "5beb298c",
   "metadata": {},
   "outputs": [],
   "source": [
    "tensor_samples = [make_tensor(x, token2pos, vocab_size) for x, y in few_samples]\n",
    "tensor_targets = [make_tensor(y, token2pos, vocab_size) for x, y in few_samples]"
   ]
  },
  {
   "cell_type": "code",
   "execution_count": 20,
   "id": "d40759e6",
   "metadata": {},
   "outputs": [],
   "source": [
    "padded_tensor_samples = [torch.concat((t, torch.zeros((1, max(samples_len)-l, vocab_size))), dim=1)\n",
    "                         for t, l in zip(tensor_samples, samples_len)]\n",
    "padded_samples_batch = torch.concat(padded_tensor_samples)"
   ]
  },
  {
   "cell_type": "code",
   "execution_count": 21,
   "id": "4fd0cb2c",
   "metadata": {},
   "outputs": [],
   "source": [
    "padded_tensor_targets = [torch.concat((t, torch.zeros((1, max(targets_len)-l, vocab_size))), dim=1)\n",
    "                         for t, l in zip(tensor_targets, targets_len)]\n",
    "padded_targets_batch = torch.concat(padded_tensor_targets)"
   ]
  },
  {
   "cell_type": "markdown",
   "id": "ced6624e",
   "metadata": {},
   "source": [
    "### Padded batches"
   ]
  },
  {
   "cell_type": "code",
   "execution_count": 22,
   "id": "1e90550e",
   "metadata": {},
   "outputs": [],
   "source": [
    "def make_padded_batch(tensors, lens):\n",
    "    padded_tensors = [torch.concat((t, torch.zeros((1, max(lens)-l, vocab_size))), dim=1)\n",
    "                      for t, l in zip(tensors, lens)]\n",
    "    return torch.concat(padded_tensors)  # make batch"
   ]
  },
  {
   "cell_type": "code",
   "execution_count": 23,
   "id": "ec14480b",
   "metadata": {},
   "outputs": [],
   "source": [
    "few_batches = [[generate_sample(length=2, nesting=1) for i in range(16)] for j in range(12)]\n",
    "samples_len_batches = [[len(x) for x, y in few_samples] for few_samples in few_batches]\n",
    "targets_len_batches = [[len(y) for x, y in few_samples] for few_samples in few_batches]"
   ]
  },
  {
   "cell_type": "code",
   "execution_count": 24,
   "id": "45e6b5c4",
   "metadata": {},
   "outputs": [],
   "source": [
    "tensor_samples_batches = [[make_tensor(x, token2pos, vocab_size) for x, y in few_samples] for few_samples in few_batches]\n",
    "tensor_targets_batches = [[make_tensor(y, token2pos, vocab_size) for x, y in few_samples] for few_samples in few_batches]"
   ]
  },
  {
   "cell_type": "code",
   "execution_count": 25,
   "id": "b8265447",
   "metadata": {},
   "outputs": [],
   "source": [
    "padded_samples_batches = [make_padded_batch(t, l) for t, l in zip(tensor_samples_batches, samples_len_batches)]\n",
    "padded_targets_batches = [make_padded_batch(t, l) for t, l in zip(tensor_targets_batches, targets_len_batches)]"
   ]
  },
  {
   "cell_type": "code",
   "execution_count": 26,
   "id": "d7461811",
   "metadata": {},
   "outputs": [],
   "source": [
    "def get_padded_batch(padded_samples_batches, padded_targets_batches, samples_len_batches, targets_len_batches):\n",
    "        i = torch.randint(len(padded_samples_batches), (1,)).item()\n",
    "        return (padded_samples_batches[i],\n",
    "                padded_targets_batches[i],\n",
    "                samples_len_batches[i],\n",
    "                targets_len_batches[i])"
   ]
  },
  {
   "cell_type": "markdown",
   "id": "54474f9d",
   "metadata": {},
   "source": [
    "## Model"
   ]
  },
  {
   "cell_type": "code",
   "execution_count": 27,
   "id": "e92518dd",
   "metadata": {},
   "outputs": [],
   "source": [
    "class LSTM(torch.nn.Module):\n",
    "    def __init__(self, input_size, hidden_size, output_size):\n",
    "        super(LSTM, self).__init__()\n",
    "        self.lstm_cell = torch.nn.LSTMCell(\n",
    "            input_size=input_size,\n",
    "            hidden_size=hidden_size)\n",
    "        self.W_o = torch.nn.Parameter(torch.rand(output_size, hidden_size))\n",
    "        self.b_o = torch.nn.Parameter(torch.rand(1))\n",
    "        self.register_buffer(\"h_t\", torch.zeros(16, hidden_size))\n",
    "        self.register_buffer(\"c_t\", torch.zeros(16, hidden_size))\n",
    "    \n",
    "    def forward(self, x, hidden_mask):\n",
    "        self.h_t, self.c_t = self.h_t * hidden_mask, self.c_t * hidden_mask\n",
    "        self.h_t, self.c_t = self.lstm_cell(x, (self.h_t, self.c_t))\n",
    "        return self.h_t @ self.W_o.T + self.b_o\n",
    "    \n",
    "    def detach_states(self):\n",
    "        self.h_t = self.h_t.detach()\n",
    "        self.c_t = self.c_t.detach()\n",
    "        \n",
    "    def set_states(self, h_dict, c_dict):\n",
    "        self.h_t = torch.concat([h for _, h in h_dict.items()])\n",
    "        self.c_t = torch.concat([c for _, c in c_dict.items()])"
   ]
  },
  {
   "cell_type": "code",
   "execution_count": 28,
   "id": "7d6de00a",
   "metadata": {},
   "outputs": [],
   "source": [
    "def train(model, sample, target, loss, opt):\n",
    "    opt.zero_grad()\n",
    "    outputs = []\n",
    "\n",
    "    for char_pos in range(sample.size(1)):\n",
    "        output = model(sample[:, char_pos, :].squeeze())\n",
    "    outputs.append(output)\n",
    "\n",
    "    for char_pos in range(target.size(1) - 1):\n",
    "        output = model(target[:, char_pos, :].squeeze())\n",
    "        outputs.append(output)\n",
    "    \n",
    "    cumulative_loss = 0\n",
    "    for char_pos, output in enumerate(outputs):\n",
    "        cumulative_loss += loss(output, torch.argmax(target[:, char_pos, :].squeeze(), dim=1))\n",
    "    avg_loss = cumulative_loss / len(outputs)\n",
    "\n",
    "    avg_loss.backward()\n",
    "    opt.step()\n",
    "\n",
    "    model.detach_states()\n",
    "    return avg_loss.item()"
   ]
  },
  {
   "cell_type": "code",
   "execution_count": 29,
   "id": "e9ebc4f9",
   "metadata": {},
   "outputs": [],
   "source": [
    "def train_dntm(model, sample, target, loss, opt):\n",
    "    opt.zero_grad()\n",
    "    outputs = []\n",
    "    \n",
    "    model.prepare_for_batch(sample, sample.device)\n",
    "    for char_pos in range(sample.size(1)):\n",
    "        output = model(sample[:, char_pos, :].reshape(sample.size(2), 2),\n",
    "                       torch.ones((sample.size(0), 100)),\n",
    "                       torch.ones((sample.size(0), 16)))\n",
    "    outputs.append(output)\n",
    "\n",
    "    for char_pos in range(target.size(1) - 1):\n",
    "        output = model(target[:, char_pos, :].reshape(sample.size(2), 2),\n",
    "                       torch.ones((sample.size(0), 100)),\n",
    "                       torch.ones((sample.size(0), 16)))\n",
    "        outputs.append(output)\n",
    "\n",
    "    cumulative_loss = 0\n",
    "    for char_pos, output in enumerate(outputs):\n",
    "        cumulative_loss += loss(output.squeeze(), torch.argmax(target[:, char_pos, :].squeeze(), dim=1))\n",
    "    avg_loss = cumulative_loss / len(outputs)\n",
    "\n",
    "    avg_loss.backward()\n",
    "    opt.step()\n",
    "\n",
    "    return avg_loss.item()"
   ]
  },
  {
   "cell_type": "code",
   "execution_count": 30,
   "id": "6c57e5af",
   "metadata": {},
   "outputs": [],
   "source": [
    "def reduce_lens(lens):\n",
    "    return [l-1 if l > 0 else l for l in lens]"
   ]
  },
  {
   "cell_type": "code",
   "execution_count": 31,
   "id": "a7e5e737",
   "metadata": {},
   "outputs": [],
   "source": [
    "def get_mask(lens):\n",
    "    return torch.tensor([1 if l > 0 else 0 for l in lens])"
   ]
  },
  {
   "cell_type": "code",
   "execution_count": 32,
   "id": "54815f69",
   "metadata": {},
   "outputs": [],
   "source": [
    "def get_hidden_mask(mask_1d, h_size):\n",
    "    return torch.concat([torch.zeros((1, h_size)) if m == 0 else torch.ones((1, h_size)) for m in mask_1d], dim=0)"
   ]
  },
  {
   "cell_type": "code",
   "execution_count": 33,
   "id": "1f55f81b",
   "metadata": {},
   "outputs": [],
   "source": [
    "def get_reading_mask(mask_1d, mem_size):\n",
    "    return torch.concat([torch.zeros((1, mem_size)) if m == 0 else torch.ones((1, mem_size)) for m in mask_1d], dim=0)"
   ]
  },
  {
   "cell_type": "code",
   "execution_count": 34,
   "id": "9f5a8261",
   "metadata": {},
   "outputs": [],
   "source": [
    "def save_states(model, h_dict, c_dict, samples_len):\n",
    "    target_states = torch.argwhere(get_mask(samples_len) == 0)\n",
    "    for state in target_states:\n",
    "        h_dict.setdefault(state.item(), model.h_t[state, :])\n",
    "        c_dict.setdefault(state.item(), model.c_t[state, :])\n",
    "    return h_dict, c_dict"
   ]
  },
  {
   "cell_type": "code",
   "execution_count": 35,
   "id": "aefa6c03",
   "metadata": {},
   "outputs": [],
   "source": [
    "def save_states_dntm(model, h_dict, samples_len):\n",
    "    target_states = torch.argwhere(get_mask(samples_len) == 0)\n",
    "    for state in target_states:\n",
    "        h_dict.setdefault(state.item(), model.controller_hidden_state[:, state])  # transposed shape\n",
    "    return h_dict"
   ]
  },
  {
   "cell_type": "code",
   "execution_count": 78,
   "id": "4cd23af5",
   "metadata": {},
   "outputs": [],
   "source": [
    "def populate_first_output(output, samples_len, first_output):\n",
    "    for pos, seq_len in enumerate(samples_len):\n",
    "        if seq_len == 0:\n",
    "            first_output.setdefault(pos, output[pos, :].unsqueeze(dim=0))\n",
    "    return first_output"
   ]
  },
  {
   "cell_type": "code",
   "execution_count": 79,
   "id": "f5cb7a6a",
   "metadata": {},
   "outputs": [],
   "source": [
    "def build_first_output(first_output):\n",
    "    return torch.concat([output for output in first_output.values()], dim=0)"
   ]
  },
  {
   "cell_type": "code",
   "execution_count": 84,
   "id": "195ae937",
   "metadata": {},
   "outputs": [],
   "source": [
    "def train_padded(model, sample, target, samples_len, targets_len, loss, opt):\n",
    "    opt.zero_grad()\n",
    "    outputs = []\n",
    "    first_output = {}\n",
    "    h_dict, c_dict = {}, {}\n",
    "    samples_len = samples_len.copy()\n",
    "    targets_len = targets_len.copy()\n",
    "    hid_size = model.h_t.size(1)\n",
    "\n",
    "    for char_pos in range(sample.size(1)):\n",
    "        hidden_mask = get_hidden_mask(get_mask(samples_len), hid_size)\n",
    "        output = model(sample[:, char_pos, :].squeeze(), hidden_mask)\n",
    "        samples_len = reduce_lens(samples_len)\n",
    "        h_dict, c_dict = save_states(model, h_dict, c_dict, samples_len)\n",
    "        first_output = populate_first_output(output, samples_len, first_output)\n",
    "    outputs.append(build_first_output(first_output))\n",
    "    \n",
    "    model.set_states(h_dict, c_dict)\n",
    "    \n",
    "    targets_len_copy = targets_len.copy()\n",
    "    for char_pos in range(target.size(1) - 1):\n",
    "        hidden_mask = get_hidden_mask(get_mask(targets_len_copy), hid_size)\n",
    "        output = model(target[:, char_pos, :].squeeze(), hidden_mask)\n",
    "        targets_len_copy = reduce_lens(targets_len_copy)\n",
    "        outputs.append(output)\n",
    "    \n",
    "    count_nonzero = 0\n",
    "    cumulative_loss = 0\n",
    "    for char_pos, output in enumerate(outputs):\n",
    "        loss_mask = get_mask(targets_len)\n",
    "        targets_len = reduce_lens(targets_len)\n",
    "        char_loss = loss(output, torch.argmax(target[:, char_pos, :].squeeze(), dim=1)) * loss_mask\n",
    "        count_nonzero += (char_loss != 0).sum()\n",
    "        cumulative_loss += torch.sum(char_loss)\n",
    "    avg_loss = cumulative_loss / count_nonzero\n",
    "    \n",
    "    avg_loss.backward()\n",
    "    opt.step()\n",
    "\n",
    "    model.detach_states()\n",
    "    return avg_loss.item()"
   ]
  },
  {
   "cell_type": "code",
   "execution_count": 125,
   "id": "a862c745",
   "metadata": {},
   "outputs": [],
   "source": [
    "def train_dntm_padded(model, sample, target, samples_len, targets_len, loss, opt):\n",
    "    opt.zero_grad()\n",
    "    outputs = []\n",
    "    first_output = {}\n",
    "    h_dict = {}\n",
    "    samples_len = samples_len.copy()\n",
    "    targets_len = targets_len.copy()\n",
    "    \n",
    "    model.prepare_for_batch(sample, sample.device)\n",
    "    hid_size = model.controller_hidden_state.size(0)\n",
    "    mem_size = model.memory.overall_memory_size\n",
    "    for char_pos in range(sample.size(1)):\n",
    "        hidden_mask = get_hidden_mask(get_mask(samples_len), hid_size)\n",
    "        reading_mask = get_reading_mask(get_mask(samples_len), mem_size)\n",
    "        output = model(sample[:, char_pos, :].reshape(sample.size(2), 16), hidden_mask, reading_mask)\n",
    "        samples_len = reduce_lens(samples_len)\n",
    "        h_dict = save_states_dntm(model, h_dict, samples_len)\n",
    "        first_output = populate_first_output(output, samples_len, first_output)\n",
    "    outputs.append(build_first_output(first_output))\n",
    "    \n",
    "    model.set_states(h_dict)\n",
    "\n",
    "    targets_len_copy = targets_len.copy()\n",
    "    for char_pos in range(target.size(1) - 1):\n",
    "        hidden_mask = get_hidden_mask(get_mask(targets_len_copy), hid_size)\n",
    "        reading_mask = get_reading_mask(get_mask(samples_len), mem_size)\n",
    "        output = model(target[:, char_pos, :].reshape(sample.size(2), 16), hidden_mask, reading_mask)\n",
    "        targets_len_copy = reduce_lens(targets_len_copy)\n",
    "        outputs.append(output)\n",
    "\n",
    "    count_nonzero = 0\n",
    "    cumulative_loss = 0\n",
    "    for char_pos, output in enumerate(outputs):\n",
    "        loss_mask = get_mask(targets_len)\n",
    "        targets_len = reduce_lens(targets_len)\n",
    "        char_loss = loss(output.squeeze(), torch.argmax(target[:, char_pos, :].squeeze(), dim=1)) * loss_mask\n",
    "        count_nonzero += (char_loss != 0).sum()\n",
    "        cumulative_loss += torch.sum(char_loss)\n",
    "    avg_loss = cumulative_loss / count_nonzero\n",
    "\n",
    "    avg_loss.backward()\n",
    "    opt.step()\n",
    "\n",
    "    return avg_loss.item()"
   ]
  },
  {
   "cell_type": "code",
   "execution_count": 108,
   "id": "e475bd5b",
   "metadata": {},
   "outputs": [],
   "source": [
    "lstm = LSTM(\n",
    "    input_size=vocab_size,\n",
    "    hidden_size=100,\n",
    "    output_size=vocab_size)"
   ]
  },
  {
   "cell_type": "code",
   "execution_count": 131,
   "id": "26d2691f",
   "metadata": {},
   "outputs": [],
   "source": [
    "dntm_memory = DynamicNeuralTuringMachineMemory(\n",
    "        n_locations=100,\n",
    "        content_size=8,\n",
    "        address_size=8,\n",
    "        controller_input_size=vocab_size,\n",
    "        controller_hidden_state_size=100,\n",
    "    )"
   ]
  },
  {
   "cell_type": "code",
   "execution_count": 132,
   "id": "f1ae792e",
   "metadata": {},
   "outputs": [],
   "source": [
    "dntm = DynamicNeuralTuringMachine(\n",
    "    memory=dntm_memory,\n",
    "    controller_hidden_state_size=100,\n",
    "    controller_input_size=vocab_size,\n",
    "    controller_output_size=vocab_size,\n",
    ")"
   ]
  },
  {
   "cell_type": "markdown",
   "id": "e235cbcb",
   "metadata": {},
   "source": [
    "## Train"
   ]
  },
  {
   "cell_type": "code",
   "execution_count": 109,
   "id": "948551f1",
   "metadata": {},
   "outputs": [],
   "source": [
    "loss = torch.nn.CrossEntropyLoss()\n",
    "opt = torch.optim.Adam(lstm.parameters(), lr=0.001)\n",
    "MAX_ITER = 2400"
   ]
  },
  {
   "cell_type": "code",
   "execution_count": null,
   "id": "7edcf365",
   "metadata": {},
   "outputs": [],
   "source": [
    "loss_values = []\n",
    "for step in range(MAX_ITER):\n",
    "    batched_samples, batched_targets = get_batch(equal_len_tensor_samples, equal_len_tensor_targets)\n",
    "    loss_values.append(train(lstm, batched_samples, batched_targets, loss, opt))"
   ]
  },
  {
   "cell_type": "code",
   "execution_count": 110,
   "id": "14a1769d",
   "metadata": {
    "scrolled": true
   },
   "outputs": [
    {
     "name": "stdout",
     "output_type": "stream",
     "text": [
      "01234567891011121314151617181920212223"
     ]
    }
   ],
   "source": [
    "loss = torch.nn.CrossEntropyLoss(reduction='none')\n",
    "lstm_loss_values = []\n",
    "for step in range(MAX_ITER):\n",
    "    (padded_samples_batch, padded_targets_batch,\n",
    "     samples_len, targets_len) = get_padded_batch(padded_samples_batches, padded_targets_batches,\n",
    "                                                  samples_len_batches, targets_len_batches)\n",
    "    lstm_loss_values.append(train_padded(lstm, padded_samples_batch, padded_targets_batch, samples_len, targets_len, loss, opt))\n",
    "    if step % 100 == 0: print(int(step//100), end='')      "
   ]
  },
  {
   "cell_type": "code",
   "execution_count": 111,
   "id": "7b3035d3",
   "metadata": {
    "scrolled": false
   },
   "outputs": [
    {
     "data": {
      "image/png": "[encoded data removed]",
      "text/plain": [
       "<Figure size 640x480 with 1 Axes>"
      ]
     },
     "metadata": {},
     "output_type": "display_data"
    }
   ],
   "source": [
    "AxesSubplot = sns.lineplot(lstm_loss_values)\n",
    "# _ = AxesSubplot.set(title=f\"{x} {y}\")"
   ]
  },
  {
   "cell_type": "code",
   "execution_count": 133,
   "id": "34233cdc",
   "metadata": {},
   "outputs": [],
   "source": [
    "loss = torch.nn.CrossEntropyLoss()\n",
    "opt = torch.optim.Adam(dntm.parameters(), lr=0.001)\n",
    "MAX_ITER = 1000"
   ]
  },
  {
   "cell_type": "code",
   "execution_count": 314,
   "id": "7fd56319",
   "metadata": {},
   "outputs": [],
   "source": [
    "dntm_loss_values = []\n",
    "for step in range(MAX_ITER):\n",
    "    # x_t, y_t = get_sample(few_tensor_samples)\n",
    "    batched_samples, batched_targets = get_batch(equal_len_tensor_samples, equal_len_tensor_targets)\n",
    "    dntm_loss_values.append(train_dntm(dntm, batched_samples, batched_targets, loss, opt))\n",
    "    if step % 100 == 0: print(int(step//100), end='')"
   ]
  },
  {
   "cell_type": "code",
   "execution_count": 136,
   "id": "13ba11db",
   "metadata": {},
   "outputs": [
    {
     "name": "stdout",
     "output_type": "stream",
     "text": [
      "0123456789"
     ]
    }
   ],
   "source": [
    "dntm_loss_values = []\n",
    "for step in range(MAX_ITER):\n",
    "    (padded_samples_batch, padded_targets_batch,\n",
    "     samples_len, targets_len) = get_padded_batch(padded_samples_batches, padded_targets_batches,\n",
    "                                                  samples_len_batches, targets_len_batches)\n",
    "    dntm_loss_values.append(train_dntm_padded(dntm, padded_samples_batch, padded_targets_batch, samples_len, targets_len, loss, opt))\n",
    "    if step % 100 == 0: print(int(step//100), end='')  "
   ]
  },
  {
   "cell_type": "code",
   "execution_count": 137,
   "id": "3ca0f322",
   "metadata": {},
   "outputs": [
    {
     "data": {
      "image/png": "[encoded data removed]",
      "text/plain": [
       "<Figure size 640x480 with 1 Axes>"
      ]
     },
     "metadata": {},
     "output_type": "display_data"
    }
   ],
   "source": [
    "AxesSubplot = sns.lineplot(dntm_loss_values)\n",
    "# _ = AxesSubplot.set(title=f\"{x} {y}\")"
   ]
  },
  {
   "cell_type": "markdown",
   "id": "1f170f5e",
   "metadata": {},
   "source": [
    "Expected cross-entropy value with random prediction:"
   ]
  },
  {
   "cell_type": "code",
   "execution_count": 200,
   "id": "edfa3eff",
   "metadata": {},
   "outputs": [
    {
     "data": {
      "text/plain": [
       "tensor(3.8501)"
      ]
     },
     "execution_count": 200,
     "metadata": {},
     "output_type": "execute_result"
    }
   ],
   "source": [
    "torch.log(torch.tensor(vocab_size))"
   ]
  },
  {
   "cell_type": "markdown",
   "id": "7286df1c",
   "metadata": {},
   "source": [
    "## Eval"
   ]
  },
  {
   "cell_type": "code",
   "execution_count": 112,
   "id": "f837d518",
   "metadata": {},
   "outputs": [],
   "source": [
    "def target_tensors_to_str(y_t):\n",
    "    idx_outputs = [torch.argmax(o).item() for o in y_t]\n",
    "    return ''.join([pos2token[idx] for idx in idx_outputs])"
   ]
  },
  {
   "cell_type": "code",
   "execution_count": 152,
   "id": "a79e3fed",
   "metadata": {},
   "outputs": [],
   "source": [
    "# LSTM\n",
    "sample, target = x_t, y_t\n",
    "\n",
    "outputs = []\n",
    "for char_pos in range(sample.size(1)):\n",
    "    output = model(sample[:, char_pos, :].squeeze())\n",
    "outputs.append(output)\n",
    "\n",
    "for char_pos in range(target.size(1) - 1):\n",
    "    output = model(target[:, char_pos, :].squeeze())\n",
    "    outputs.append(output)"
   ]
  },
  {
   "cell_type": "code",
   "execution_count": 84,
   "id": "5aa4e367",
   "metadata": {
    "collapsed": true
   },
   "outputs": [
    {
     "ename": "TypeError",
     "evalue": "DynamicNeuralTuringMachine.forward() missing 2 required positional arguments: 'hidden_mask' and 'reading_mask'",
     "output_type": "error",
     "traceback": [
      "\u001b[0;31m---------------------------------------------------------------------------\u001b[0m",
      "\u001b[0;31mTypeError\u001b[0m                                 Traceback (most recent call last)",
      "Cell \u001b[0;32mIn [84], line 7\u001b[0m\n\u001b[1;32m      5\u001b[0m model\u001b[38;5;241m.\u001b[39mprepare_for_batch(sample, sample\u001b[38;5;241m.\u001b[39mdevice)\n\u001b[1;32m      6\u001b[0m \u001b[38;5;28;01mfor\u001b[39;00m char_pos \u001b[38;5;129;01min\u001b[39;00m \u001b[38;5;28mrange\u001b[39m(sample\u001b[38;5;241m.\u001b[39msize(\u001b[38;5;241m1\u001b[39m)):\n\u001b[0;32m----> 7\u001b[0m     output \u001b[38;5;241m=\u001b[39m model(sample[:, char_pos, :]\u001b[38;5;241m.\u001b[39mview(sample\u001b[38;5;241m.\u001b[39msize(\u001b[38;5;241m2\u001b[39m), \u001b[38;5;241m1\u001b[39m))\n\u001b[1;32m      8\u001b[0m outputs\u001b[38;5;241m.\u001b[39mappend(output)\n\u001b[1;32m     10\u001b[0m \u001b[38;5;28;01mfor\u001b[39;00m char_pos \u001b[38;5;129;01min\u001b[39;00m \u001b[38;5;28mrange\u001b[39m(target\u001b[38;5;241m.\u001b[39msize(\u001b[38;5;241m1\u001b[39m) \u001b[38;5;241m-\u001b[39m \u001b[38;5;241m1\u001b[39m):\n",
      "File \u001b[0;32m~/miniconda3/envs/lte/lib/python3.10/site-packages/torch/nn/modules/module.py:1130\u001b[0m, in \u001b[0;36mModule._call_impl\u001b[0;34m(self, *input, **kwargs)\u001b[0m\n\u001b[1;32m   1126\u001b[0m \u001b[38;5;66;03m# If we don't have any hooks, we want to skip the rest of the logic in\u001b[39;00m\n\u001b[1;32m   1127\u001b[0m \u001b[38;5;66;03m# this function, and just call forward.\u001b[39;00m\n\u001b[1;32m   1128\u001b[0m \u001b[38;5;28;01mif\u001b[39;00m \u001b[38;5;129;01mnot\u001b[39;00m (\u001b[38;5;28mself\u001b[39m\u001b[38;5;241m.\u001b[39m_backward_hooks \u001b[38;5;129;01mor\u001b[39;00m \u001b[38;5;28mself\u001b[39m\u001b[38;5;241m.\u001b[39m_forward_hooks \u001b[38;5;129;01mor\u001b[39;00m \u001b[38;5;28mself\u001b[39m\u001b[38;5;241m.\u001b[39m_forward_pre_hooks \u001b[38;5;129;01mor\u001b[39;00m _global_backward_hooks\n\u001b[1;32m   1129\u001b[0m         \u001b[38;5;129;01mor\u001b[39;00m _global_forward_hooks \u001b[38;5;129;01mor\u001b[39;00m _global_forward_pre_hooks):\n\u001b[0;32m-> 1130\u001b[0m     \u001b[38;5;28;01mreturn\u001b[39;00m \u001b[43mforward_call\u001b[49m\u001b[43m(\u001b[49m\u001b[38;5;241;43m*\u001b[39;49m\u001b[38;5;28;43minput\u001b[39;49m\u001b[43m,\u001b[49m\u001b[43m \u001b[49m\u001b[38;5;241;43m*\u001b[39;49m\u001b[38;5;241;43m*\u001b[39;49m\u001b[43mkwargs\u001b[49m\u001b[43m)\u001b[49m\n\u001b[1;32m   1131\u001b[0m \u001b[38;5;66;03m# Do not call functions when jit is used\u001b[39;00m\n\u001b[1;32m   1132\u001b[0m full_backward_hooks, non_full_backward_hooks \u001b[38;5;241m=\u001b[39m [], []\n",
      "\u001b[0;31mTypeError\u001b[0m: DynamicNeuralTuringMachine.forward() missing 2 required positional arguments: 'hidden_mask' and 'reading_mask'"
     ]
    }
   ],
   "source": [
    "# D-NTM\n",
    "sample, target = get_sample(few_tensor_samples)\n",
    "\n",
    "outputs = []\n",
    "model.prepare_for_batch(sample, sample.device)\n",
    "for char_pos in range(sample.size(1)):\n",
    "    output = model(sample[:, char_pos, :].view(sample.size(2), 1))\n",
    "outputs.append(output)\n",
    "\n",
    "for char_pos in range(target.size(1) - 1):\n",
    "    output = model(target[:, char_pos, :].view(sample.size(2), 1))\n",
    "    outputs.append(output)\n",
    "\n",
    "outputs = [o.squeeze() for o in outputs]"
   ]
  },
  {
   "cell_type": "code",
   "execution_count": 133,
   "id": "e7f3ffbe",
   "metadata": {},
   "outputs": [
    {
     "data": {
      "text/plain": [
       "'2964'"
      ]
     },
     "execution_count": 133,
     "metadata": {},
     "output_type": "execute_result"
    }
   ],
   "source": [
    "targets = [target[:, i, :].squeeze() for i in range(target.size(1))]\n",
    "target_tensors_to_str(targets)"
   ]
  },
  {
   "cell_type": "code",
   "execution_count": 113,
   "id": "d273923d",
   "metadata": {},
   "outputs": [],
   "source": [
    "def lstm_fwd_padded_batch(model, sample, target, samples_len, targets_len):\n",
    "    outputs = []\n",
    "    h_dict, c_dict = {}, {}\n",
    "    first_output = {}\n",
    "    samples_len = samples_len.copy()\n",
    "    targets_len = targets_len.copy()\n",
    "    hid_size = model.h_t.size(1)\n",
    "\n",
    "    for char_pos in range(sample.size(1)):\n",
    "        hidden_mask = get_hidden_mask(get_mask(samples_len), hid_size)\n",
    "        output = model(sample[:, char_pos, :].squeeze(), hidden_mask)\n",
    "        samples_len = reduce_lens(samples_len)\n",
    "        h_dict, c_dict = save_states(model, h_dict, c_dict, samples_len)\n",
    "        first_output = populate_first_output(output, samples_len, first_output)\n",
    "    outputs.append(build_first_output(first_output))\n",
    "    \n",
    "    model.set_states(h_dict, c_dict)\n",
    "    \n",
    "    targets_len_copy = targets_len.copy()\n",
    "    for char_pos in range(target.size(1) - 1):\n",
    "        hidden_mask = get_hidden_mask(get_mask(targets_len_copy), hid_size)\n",
    "        output = model(target[:, char_pos, :].squeeze(), hidden_mask)\n",
    "        targets_len_copy = reduce_lens(targets_len_copy)\n",
    "        outputs.append(output)\n",
    "    \n",
    "    return outputs"
   ]
  },
  {
   "cell_type": "code",
   "execution_count": 144,
   "id": "0768d256",
   "metadata": {},
   "outputs": [],
   "source": [
    "def dntm_fwd_padded_batch(model, sample, target, samples_len, targets_len):\n",
    "    outputs = []\n",
    "    h_dict = {}\n",
    "    first_output = {}\n",
    "    samples_len = samples_len.copy()\n",
    "    targets_len = targets_len.copy()\n",
    "\n",
    "    model.prepare_for_batch(sample, sample.device)\n",
    "    hid_size = model.controller_hidden_state.size(0)\n",
    "    mem_size = model.memory.overall_memory_size\n",
    "    for char_pos in range(sample.size(1)):\n",
    "        hidden_mask = get_hidden_mask(get_mask(samples_len), hid_size)\n",
    "        reading_mask = get_reading_mask(get_mask(samples_len), mem_size)\n",
    "        output = model(sample[:, char_pos, :].reshape(sample.size(2), 16), hidden_mask, reading_mask)\n",
    "        samples_len = reduce_lens(samples_len)\n",
    "        h_dict = save_states_dntm(model, h_dict, samples_len)\n",
    "        first_output = populate_first_output(output, samples_len, first_output)\n",
    "    outputs.append(build_first_output(first_output))\n",
    "\n",
    "    model.set_states(h_dict)\n",
    "\n",
    "    targets_len_copy = targets_len.copy()\n",
    "    for char_pos in range(target.size(1) - 1):\n",
    "        hidden_mask = get_hidden_mask(get_mask(targets_len_copy), hid_size)\n",
    "        reading_mask = get_reading_mask(get_mask(samples_len), mem_size)\n",
    "        output = model(target[:, char_pos, :].reshape(sample.size(2), 16), hidden_mask, reading_mask)\n",
    "        targets_len_copy = reduce_lens(targets_len_copy)\n",
    "        outputs.append(output)\n",
    "    return outputs"
   ]
  },
  {
   "cell_type": "code",
   "execution_count": 145,
   "id": "db76f40b",
   "metadata": {},
   "outputs": [],
   "source": [
    "def eval_padded(outputs, target):\n",
    "    BS = target.size(0)\n",
    "    \n",
    "    outputs_str = [target_tensors_to_str([o[BATCH, :] for o in outputs]) for BATCH in range(BS)]\n",
    "    \n",
    "    targets_str = [target_tensors_to_str([target[BATCH, p, :] for p in range(target.size(1))]) for BATCH in range(BS)]\n",
    "    \n",
    "    print(\"out | target\")\n",
    "    for o, t in zip(outputs_str, targets_str):\n",
    "        print(o, t)"
   ]
  },
  {
   "cell_type": "code",
   "execution_count": 146,
   "id": "0ad2bcf0",
   "metadata": {},
   "outputs": [],
   "source": [
    "def eval_lstm_padded(model, padded_samples_batch, padded_targets_batch, samples_len, targets_len):\n",
    "    outputs = lstm_fwd_padded_batch(model, padded_samples_batch, padded_targets_batch, samples_len, targets_len)\n",
    "    eval_padded(outputs, padded_targets_batch)"
   ]
  },
  {
   "cell_type": "code",
   "execution_count": 147,
   "id": "f039b074",
   "metadata": {},
   "outputs": [],
   "source": [
    "def eval_dntm_padded(model, padded_samples_batch, padded_targets_batch, samples_len, targets_len):\n",
    "    outputs = dntm_fwd_padded_batch(model, padded_samples_batch, padded_targets_batch, samples_len, targets_len)\n",
    "    eval_padded(outputs, padded_targets_batch)"
   ]
  },
  {
   "cell_type": "code",
   "execution_count": 118,
   "id": "b8c045eb",
   "metadata": {
    "scrolled": true
   },
   "outputs": [
    {
     "name": "stdout",
     "output_type": "stream",
     "text": [
      "out | target\n",
      "3300 3300\n",
      "5042 50**\n",
      "7365 736*\n",
      "8182 81**\n",
      "1222 12**\n",
      "2983 298*\n",
      "3358 -358\n",
      "1188 118*\n",
      "1582 15**\n",
      "6442 64**\n",
      "1582 15**\n",
      "9102 91**\n",
      "3322 3***\n",
      "-868 -86*\n",
      "1168 116*\n",
      "3442 34**\n"
     ]
    }
   ],
   "source": [
    "eval_lstm_padded(lstm, padded_samples_batch, padded_targets_batch, samples_len, targets_len)"
   ]
  },
  {
   "cell_type": "code",
   "execution_count": 148,
   "id": "546021e9",
   "metadata": {
    "scrolled": true
   },
   "outputs": [
    {
     "name": "stdout",
     "output_type": "stream",
     "text": [
      "out | target\n",
      "-90* -90*\n",
      "-358 -358\n",
      "89** 89**\n",
      "83** 83**\n",
      "38** 38**\n",
      "-7** -7**\n",
      "76** 76**\n",
      "-26* -26*\n",
      "10** 10**\n",
      "26** 26**\n",
      "7812 7812\n",
      "23** 23**\n",
      "56** 56**\n",
      "-29* -29*\n",
      "17** 17**\n",
      "61** 61**\n"
     ]
    }
   ],
   "source": [
    "eval_dntm_padded(dntm, padded_samples_batch, padded_targets_batch, samples_len, targets_len)"
   ]
  }
 ],
 "metadata": {
  "kernelspec": {
   "display_name": "lte",
   "language": "python",
   "name": "lte"
  },
  "language_info": {
   "codemirror_mode": {
    "name": "ipython",
    "version": 3
   },
   "file_extension": ".py",
   "mimetype": "text/x-python",
   "name": "python",
   "nbconvert_exporter": "python",
   "pygments_lexer": "ipython3",
   "version": "3.10.6"
  }
 },
 "nbformat": 4,
 "nbformat_minor": 5
}
